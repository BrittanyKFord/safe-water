{
 "cells": [
  {
   "cell_type": "markdown",
   "metadata": {},
   "source": [
    "# Explore CSV files and format fields to streamline the integration in a SQL DB"
   ]
  },
  {
   "cell_type": "markdown",
   "metadata": {},
   "source": [
    "Most date fields in our csv are not formatted in the way MySQL expect to find them (_expected format is `YYYY-MM-DD`_). Some pre-processing is required.\n",
    "\n",
    "**Note**: all the table from the original archive contain a comma at the end of the header. This mess up with `pandas` and other data wrangling tool. I copied the original data in files prefix with `DG_` that I use below to process the dates. _e.g._ `WATER-SYSTEM.csv` becomes `DG_WATER_SYSTEM.csv` with a first header row which DOES NOT terminate by a comma."
   ]
  },
  {
   "cell_type": "code",
   "execution_count": 288,
   "metadata": {},
   "outputs": [],
   "source": [
    "from os.path import join\n",
    "import uuid\n",
    "\n",
    "import pandas as pd\n",
    "from datetime import datetime as dt"
   ]
  },
  {
   "cell_type": "markdown",
   "metadata": {},
   "source": [
    "**Important**: Update the global variable below with the absolute path to the folder containing all the csv files."
   ]
  },
  {
   "cell_type": "code",
   "execution_count": 97,
   "metadata": {},
   "outputs": [],
   "source": [
    "PATH_TO_DATA_FOLDER = \"/Users/fpaupier/projects/safe-water/data/SDWIS/\""
   ]
  },
  {
   "cell_type": "markdown",
   "metadata": {},
   "source": [
    "## `WATER_SYSTEM` table"
   ]
  },
  {
   "cell_type": "markdown",
   "metadata": {},
   "source": [
    "There are 5 dates fields in this table. With two types of formatting:\n",
    "\n",
    "1. Date formatted in `dd-mm-yy` _e.g `01-JUN-83` for June 1, 1983_. Fields encoded with this date format are:\n",
    "    - `OUTSTANDING_PERFORM_BEGIN_DATE`\n",
    "    - `PWS_DEACTIVATION_DATE`\n",
    "    - `SOURCE_PROTECTION_BEGIN_DATE`\n",
    "    \n",
    "    Note that this formatting is ambiguous about the year. \n",
    "    --> Dates fromatted that way will be converted to the MySQL friendly date format `YYY-MM-DD`.\n",
    "    \n",
    "    \n",
    "2. Dates are also formatted with the `MM-DD` format, fields encoded that way are:\n",
    "     - `SEASON_BEGIN_DATE` formatted in `MM-DD`\n",
    "     - `SEASON_END_DATE` formatted in `MM-DD`\n",
    "     \n",
    "     Note that those dates inform on year-recurring events, they occur every years. We keep them as raw text fields. Fine grained processing of those dates will be done by consumers applications.\n",
    "     \n"
   ]
  },
  {
   "cell_type": "markdown",
   "metadata": {},
   "source": [
    "## Load and format data"
   ]
  },
  {
   "cell_type": "code",
   "execution_count": 236,
   "metadata": {},
   "outputs": [],
   "source": [
    "OUTSTANDING_PERFORM_BEGIN_DATE_idx = 44\n",
    "PWS_DEACTIVATION_DATE_idx = 8\n",
    "SOURCE_PROTECTION_BEGIN_DATE_idx = 42"
   ]
  },
  {
   "cell_type": "code",
   "execution_count": 237,
   "metadata": {
    "scrolled": true
   },
   "outputs": [],
   "source": [
    "df = pd.read_csv(join(PATH_TO_DATA_FOLDER, \"DG_WATER_SYSTEM.csv\"),\n",
    "                 sep=\",\",\n",
    "                 header=0,\n",
    "                 index_col=0,\n",
    "                 encoding=\"utf-8\",\n",
    "                 low_memory=False, #To avoid type inference\n",
    "                 parse_dates=[PWS_DEACTIVATION_DATE_idx, SOURCE_PROTECTION_BEGIN_DATE_idx, OUTSTANDING_PERFORM_BEGIN_DATE_idx])\n",
    "\n",
    "\n"
   ]
  },
  {
   "cell_type": "code",
   "execution_count": 238,
   "metadata": {
    "scrolled": false
   },
   "outputs": [
    {
     "data": {
      "text/html": [
       "<div>\n",
       "<style scoped>\n",
       "    .dataframe tbody tr th:only-of-type {\n",
       "        vertical-align: middle;\n",
       "    }\n",
       "\n",
       "    .dataframe tbody tr th {\n",
       "        vertical-align: top;\n",
       "    }\n",
       "\n",
       "    .dataframe thead th {\n",
       "        text-align: right;\n",
       "    }\n",
       "</style>\n",
       "<table border=\"1\" class=\"dataframe\">\n",
       "  <thead>\n",
       "    <tr style=\"text-align: right;\">\n",
       "      <th></th>\n",
       "      <th>WATER_SYSTEM.PWS_NAME</th>\n",
       "      <th>WATER_SYSTEM.NPM_CANDIDATE</th>\n",
       "      <th>WATER_SYSTEM.PRIMACY_AGENCY_CODE</th>\n",
       "      <th>WATER_SYSTEM.EPA_REGION</th>\n",
       "      <th>WATER_SYSTEM.SEASON_BEGIN_DATE</th>\n",
       "      <th>WATER_SYSTEM.SEASON_END_DATE</th>\n",
       "      <th>WATER_SYSTEM.PWS_ACTIVITY_CODE</th>\n",
       "      <th>WATER_SYSTEM.PWS_DEACTIVATION_DATE</th>\n",
       "      <th>WATER_SYSTEM.PWS_TYPE_CODE</th>\n",
       "      <th>WATER_SYSTEM.DBPR_SCHEDULE_CAT_CODE</th>\n",
       "      <th>...</th>\n",
       "      <th>WATER_SYSTEM.CITY_NAME</th>\n",
       "      <th>WATER_SYSTEM.ZIP_CODE</th>\n",
       "      <th>WATER_SYSTEM.COUNTRY_CODE</th>\n",
       "      <th>WATER_SYSTEM.STATE_CODE</th>\n",
       "      <th>WATER_SYSTEM.SOURCE_WATER_PROTECTION_CODE</th>\n",
       "      <th>WATER_SYSTEM.SOURCE_PROTECTION_BEGIN_DATE</th>\n",
       "      <th>WATER_SYSTEM.OUTSTANDING_PERFORMER</th>\n",
       "      <th>WATER_SYSTEM.OUTSTANDING_PERFORM_BEGIN_DATE</th>\n",
       "      <th>WATER_SYSTEM.CITIES_SERVED</th>\n",
       "      <th>WATER_SYSTEM.COUNTIES_SERVED</th>\n",
       "    </tr>\n",
       "    <tr>\n",
       "      <th>WATER_SYSTEM.PWSID</th>\n",
       "      <th></th>\n",
       "      <th></th>\n",
       "      <th></th>\n",
       "      <th></th>\n",
       "      <th></th>\n",
       "      <th></th>\n",
       "      <th></th>\n",
       "      <th></th>\n",
       "      <th></th>\n",
       "      <th></th>\n",
       "      <th></th>\n",
       "      <th></th>\n",
       "      <th></th>\n",
       "      <th></th>\n",
       "      <th></th>\n",
       "      <th></th>\n",
       "      <th></th>\n",
       "      <th></th>\n",
       "      <th></th>\n",
       "      <th></th>\n",
       "      <th></th>\n",
       "    </tr>\n",
       "  </thead>\n",
       "  <tbody>\n",
       "    <tr>\n",
       "      <th>AR1900063</th>\n",
       "      <td>USCOE BSWP118 PONTIAC</td>\n",
       "      <td>N</td>\n",
       "      <td>AR</td>\n",
       "      <td>6</td>\n",
       "      <td>01-01</td>\n",
       "      <td>12-31</td>\n",
       "      <td>I</td>\n",
       "      <td>1983-06-01</td>\n",
       "      <td>TNCWS</td>\n",
       "      <td>NaN</td>\n",
       "      <td>...</td>\n",
       "      <td>LITTLE ROCK</td>\n",
       "      <td>72203</td>\n",
       "      <td>US</td>\n",
       "      <td>AR</td>\n",
       "      <td>NaN</td>\n",
       "      <td>NaT</td>\n",
       "      <td>NaN</td>\n",
       "      <td>NaT</td>\n",
       "      <td>Not Reported</td>\n",
       "      <td>Marion</td>\n",
       "    </tr>\n",
       "    <tr>\n",
       "      <th>AR1900071</th>\n",
       "      <td>USCOE BSWP126 HIGHWAY K</td>\n",
       "      <td>N</td>\n",
       "      <td>AR</td>\n",
       "      <td>6</td>\n",
       "      <td>01-01</td>\n",
       "      <td>12-31</td>\n",
       "      <td>I</td>\n",
       "      <td>1983-06-01</td>\n",
       "      <td>TNCWS</td>\n",
       "      <td>NaN</td>\n",
       "      <td>...</td>\n",
       "      <td>LITTLE ROCK</td>\n",
       "      <td>72203</td>\n",
       "      <td>US</td>\n",
       "      <td>AR</td>\n",
       "      <td>NaN</td>\n",
       "      <td>NaT</td>\n",
       "      <td>NaN</td>\n",
       "      <td>NaT</td>\n",
       "      <td>Not Reported</td>\n",
       "      <td>Marion</td>\n",
       "    </tr>\n",
       "    <tr>\n",
       "      <th>AR1900072</th>\n",
       "      <td>USCOE BSW127 LOWERY</td>\n",
       "      <td>N</td>\n",
       "      <td>AR</td>\n",
       "      <td>6</td>\n",
       "      <td>01-01</td>\n",
       "      <td>12-31</td>\n",
       "      <td>I</td>\n",
       "      <td>1983-06-01</td>\n",
       "      <td>TNCWS</td>\n",
       "      <td>NaN</td>\n",
       "      <td>...</td>\n",
       "      <td>LITTLE ROCK</td>\n",
       "      <td>72203</td>\n",
       "      <td>US</td>\n",
       "      <td>AR</td>\n",
       "      <td>NaN</td>\n",
       "      <td>NaT</td>\n",
       "      <td>NaN</td>\n",
       "      <td>NaT</td>\n",
       "      <td>Not Reported</td>\n",
       "      <td>Marion</td>\n",
       "    </tr>\n",
       "    <tr>\n",
       "      <th>AR1900075</th>\n",
       "      <td>USCOE GFW02 DAM SITE</td>\n",
       "      <td>N</td>\n",
       "      <td>AR</td>\n",
       "      <td>6</td>\n",
       "      <td>01-01</td>\n",
       "      <td>12-31</td>\n",
       "      <td>I</td>\n",
       "      <td>1983-06-01</td>\n",
       "      <td>TNCWS</td>\n",
       "      <td>NaN</td>\n",
       "      <td>...</td>\n",
       "      <td>LITTLE ROCK</td>\n",
       "      <td>72203</td>\n",
       "      <td>US</td>\n",
       "      <td>AR</td>\n",
       "      <td>NaN</td>\n",
       "      <td>NaT</td>\n",
       "      <td>NaN</td>\n",
       "      <td>NaT</td>\n",
       "      <td>Not Reported</td>\n",
       "      <td>Cleburne</td>\n",
       "    </tr>\n",
       "    <tr>\n",
       "      <th>AR1900076</th>\n",
       "      <td>USCOE GFW03 DAM SITE</td>\n",
       "      <td>N</td>\n",
       "      <td>AR</td>\n",
       "      <td>6</td>\n",
       "      <td>01-01</td>\n",
       "      <td>12-31</td>\n",
       "      <td>I</td>\n",
       "      <td>1983-06-01</td>\n",
       "      <td>TNCWS</td>\n",
       "      <td>NaN</td>\n",
       "      <td>...</td>\n",
       "      <td>LITTLE ROCK</td>\n",
       "      <td>72203</td>\n",
       "      <td>US</td>\n",
       "      <td>AR</td>\n",
       "      <td>NaN</td>\n",
       "      <td>NaT</td>\n",
       "      <td>NaN</td>\n",
       "      <td>NaT</td>\n",
       "      <td>Not Reported</td>\n",
       "      <td>Cleburne</td>\n",
       "    </tr>\n",
       "  </tbody>\n",
       "</table>\n",
       "<p>5 rows × 46 columns</p>\n",
       "</div>"
      ],
      "text/plain": [
       "                      WATER_SYSTEM.PWS_NAME WATER_SYSTEM.NPM_CANDIDATE  \\\n",
       "WATER_SYSTEM.PWSID                                                       \n",
       "AR1900063             USCOE BSWP118 PONTIAC                          N   \n",
       "AR1900071           USCOE BSWP126 HIGHWAY K                          N   \n",
       "AR1900072               USCOE BSW127 LOWERY                          N   \n",
       "AR1900075              USCOE GFW02 DAM SITE                          N   \n",
       "AR1900076              USCOE GFW03 DAM SITE                          N   \n",
       "\n",
       "                   WATER_SYSTEM.PRIMACY_AGENCY_CODE  WATER_SYSTEM.EPA_REGION  \\\n",
       "WATER_SYSTEM.PWSID                                                             \n",
       "AR1900063                                        AR                        6   \n",
       "AR1900071                                        AR                        6   \n",
       "AR1900072                                        AR                        6   \n",
       "AR1900075                                        AR                        6   \n",
       "AR1900076                                        AR                        6   \n",
       "\n",
       "                   WATER_SYSTEM.SEASON_BEGIN_DATE  \\\n",
       "WATER_SYSTEM.PWSID                                  \n",
       "AR1900063                                   01-01   \n",
       "AR1900071                                   01-01   \n",
       "AR1900072                                   01-01   \n",
       "AR1900075                                   01-01   \n",
       "AR1900076                                   01-01   \n",
       "\n",
       "                   WATER_SYSTEM.SEASON_END_DATE  \\\n",
       "WATER_SYSTEM.PWSID                                \n",
       "AR1900063                                 12-31   \n",
       "AR1900071                                 12-31   \n",
       "AR1900072                                 12-31   \n",
       "AR1900075                                 12-31   \n",
       "AR1900076                                 12-31   \n",
       "\n",
       "                   WATER_SYSTEM.PWS_ACTIVITY_CODE  \\\n",
       "WATER_SYSTEM.PWSID                                  \n",
       "AR1900063                                       I   \n",
       "AR1900071                                       I   \n",
       "AR1900072                                       I   \n",
       "AR1900075                                       I   \n",
       "AR1900076                                       I   \n",
       "\n",
       "                   WATER_SYSTEM.PWS_DEACTIVATION_DATE  \\\n",
       "WATER_SYSTEM.PWSID                                      \n",
       "AR1900063                                  1983-06-01   \n",
       "AR1900071                                  1983-06-01   \n",
       "AR1900072                                  1983-06-01   \n",
       "AR1900075                                  1983-06-01   \n",
       "AR1900076                                  1983-06-01   \n",
       "\n",
       "                   WATER_SYSTEM.PWS_TYPE_CODE  \\\n",
       "WATER_SYSTEM.PWSID                              \n",
       "AR1900063                               TNCWS   \n",
       "AR1900071                               TNCWS   \n",
       "AR1900072                               TNCWS   \n",
       "AR1900075                               TNCWS   \n",
       "AR1900076                               TNCWS   \n",
       "\n",
       "                    WATER_SYSTEM.DBPR_SCHEDULE_CAT_CODE  ...  \\\n",
       "WATER_SYSTEM.PWSID                                       ...   \n",
       "AR1900063                                           NaN  ...   \n",
       "AR1900071                                           NaN  ...   \n",
       "AR1900072                                           NaN  ...   \n",
       "AR1900075                                           NaN  ...   \n",
       "AR1900076                                           NaN  ...   \n",
       "\n",
       "                   WATER_SYSTEM.CITY_NAME WATER_SYSTEM.ZIP_CODE  \\\n",
       "WATER_SYSTEM.PWSID                                                \n",
       "AR1900063                     LITTLE ROCK                 72203   \n",
       "AR1900071                     LITTLE ROCK                 72203   \n",
       "AR1900072                     LITTLE ROCK                 72203   \n",
       "AR1900075                     LITTLE ROCK                 72203   \n",
       "AR1900076                     LITTLE ROCK                 72203   \n",
       "\n",
       "                    WATER_SYSTEM.COUNTRY_CODE WATER_SYSTEM.STATE_CODE  \\\n",
       "WATER_SYSTEM.PWSID                                                      \n",
       "AR1900063                                  US                      AR   \n",
       "AR1900071                                  US                      AR   \n",
       "AR1900072                                  US                      AR   \n",
       "AR1900075                                  US                      AR   \n",
       "AR1900076                                  US                      AR   \n",
       "\n",
       "                    WATER_SYSTEM.SOURCE_WATER_PROTECTION_CODE  \\\n",
       "WATER_SYSTEM.PWSID                                              \n",
       "AR1900063                                                 NaN   \n",
       "AR1900071                                                 NaN   \n",
       "AR1900072                                                 NaN   \n",
       "AR1900075                                                 NaN   \n",
       "AR1900076                                                 NaN   \n",
       "\n",
       "                    WATER_SYSTEM.SOURCE_PROTECTION_BEGIN_DATE  \\\n",
       "WATER_SYSTEM.PWSID                                              \n",
       "AR1900063                                                 NaT   \n",
       "AR1900071                                                 NaT   \n",
       "AR1900072                                                 NaT   \n",
       "AR1900075                                                 NaT   \n",
       "AR1900076                                                 NaT   \n",
       "\n",
       "                    WATER_SYSTEM.OUTSTANDING_PERFORMER  \\\n",
       "WATER_SYSTEM.PWSID                                       \n",
       "AR1900063                                          NaN   \n",
       "AR1900071                                          NaN   \n",
       "AR1900072                                          NaN   \n",
       "AR1900075                                          NaN   \n",
       "AR1900076                                          NaN   \n",
       "\n",
       "                    WATER_SYSTEM.OUTSTANDING_PERFORM_BEGIN_DATE  \\\n",
       "WATER_SYSTEM.PWSID                                                \n",
       "AR1900063                                                   NaT   \n",
       "AR1900071                                                   NaT   \n",
       "AR1900072                                                   NaT   \n",
       "AR1900075                                                   NaT   \n",
       "AR1900076                                                   NaT   \n",
       "\n",
       "                    WATER_SYSTEM.CITIES_SERVED  WATER_SYSTEM.COUNTIES_SERVED  \n",
       "WATER_SYSTEM.PWSID                                                            \n",
       "AR1900063                         Not Reported                        Marion  \n",
       "AR1900071                         Not Reported                        Marion  \n",
       "AR1900072                         Not Reported                        Marion  \n",
       "AR1900075                         Not Reported                      Cleburne  \n",
       "AR1900076                         Not Reported                      Cleburne  \n",
       "\n",
       "[5 rows x 46 columns]"
      ]
     },
     "execution_count": 238,
     "metadata": {},
     "output_type": "execute_result"
    }
   ],
   "source": [
    "df.head()"
   ]
  },
  {
   "cell_type": "markdown",
   "metadata": {},
   "source": [
    "### Sanitize booleans\n",
    "The fields `IS_GRANT_ELIGIBLE_IND`, `IS_WHOLESALER_IND`, `NPM_CANDIDATE` and `IS_SCHOOL_OR_DAYCARE_IND` are text values `N` or `Y`. They should be casted as `Booleans` in the database to allow easily expressed queries. "
   ]
  },
  {
   "cell_type": "code",
   "execution_count": 239,
   "metadata": {
    "scrolled": true
   },
   "outputs": [
    {
     "data": {
      "text/plain": [
       "array(['N', 'Y'], dtype=object)"
      ]
     },
     "execution_count": 239,
     "metadata": {},
     "output_type": "execute_result"
    }
   ],
   "source": [
    "df['WATER_SYSTEM.IS_GRANT_ELIGIBLE_IND'].dropna().unique()"
   ]
  },
  {
   "cell_type": "code",
   "execution_count": 240,
   "metadata": {
    "scrolled": true
   },
   "outputs": [
    {
     "data": {
      "text/plain": [
       "array(['N', 'Y'], dtype=object)"
      ]
     },
     "execution_count": 240,
     "metadata": {},
     "output_type": "execute_result"
    }
   ],
   "source": [
    "df['WATER_SYSTEM.IS_WHOLESALER_IND'].dropna().unique()"
   ]
  },
  {
   "cell_type": "code",
   "execution_count": 241,
   "metadata": {
    "scrolled": true
   },
   "outputs": [
    {
     "data": {
      "text/plain": [
       "array(['N', 'Y'], dtype=object)"
      ]
     },
     "execution_count": 241,
     "metadata": {},
     "output_type": "execute_result"
    }
   ],
   "source": [
    "df['WATER_SYSTEM.IS_SCHOOL_OR_DAYCARE_IND'].dropna().unique()"
   ]
  },
  {
   "cell_type": "code",
   "execution_count": 242,
   "metadata": {},
   "outputs": [
    {
     "data": {
      "text/plain": [
       "array(['N', 'Y'], dtype=object)"
      ]
     },
     "execution_count": 242,
     "metadata": {},
     "output_type": "execute_result"
    }
   ],
   "source": [
    "df['WATER_SYSTEM.NPM_CANDIDATE'].dropna().unique()"
   ]
  },
  {
   "cell_type": "code",
   "execution_count": 243,
   "metadata": {},
   "outputs": [],
   "source": [
    "def type_checker(arr):\n",
    "    ref = arr[0]\n",
    "    ref_type = type(ref)\n",
    "    flag = 1;\n",
    "    for i in arr:\n",
    "        if type(i) != ref_type:\n",
    "            print('ERROR!')\n",
    "            flag = 0;\n",
    "    if flag == 1:\n",
    "        print('compatible types')"
   ]
  },
  {
   "cell_type": "code",
   "execution_count": 244,
   "metadata": {},
   "outputs": [
    {
     "data": {
      "text/plain": [
       "array(['72203', '92365', '92398', ..., '49661', '48909-7741',\n",
       "       '55011-9204'], dtype=object)"
      ]
     },
     "execution_count": 244,
     "metadata": {},
     "output_type": "execute_result"
    }
   ],
   "source": [
    "tst = df['WATER_SYSTEM.ZIP_CODE'].dropna().unique()\n",
    "tst"
   ]
  },
  {
   "cell_type": "code",
   "execution_count": 245,
   "metadata": {},
   "outputs": [
    {
     "name": "stdout",
     "output_type": "stream",
     "text": [
      "compatible types\n"
     ]
    }
   ],
   "source": [
    "type_checker(tst)"
   ]
  },
  {
   "cell_type": "markdown",
   "metadata": {},
   "source": [
    "### Perform sanitization\n",
    "\n",
    "Map `N` to `False` and `Y` to `True`."
   ]
  },
  {
   "cell_type": "code",
   "execution_count": 246,
   "metadata": {},
   "outputs": [],
   "source": [
    "df['WATER_SYSTEM.IS_GRANT_ELIGIBLE_IND'] = df['WATER_SYSTEM.IS_GRANT_ELIGIBLE_IND'].map({'N': 0, 'Y': 1})\n",
    "df['WATER_SYSTEM.IS_WHOLESALER_IND'] = df['WATER_SYSTEM.IS_WHOLESALER_IND'].map({'N': 0, 'Y': 1})\n",
    "df['WATER_SYSTEM.IS_SCHOOL_OR_DAYCARE_IND'] = df['WATER_SYSTEM.IS_SCHOOL_OR_DAYCARE_IND'].map({'N': 0, 'Y': 1})\n",
    "df['WATER_SYSTEM.NPM_CANDIDATE'] = df['WATER_SYSTEM.NPM_CANDIDATE'].map({'N': 0, 'Y': 1});\n",
    "\n"
   ]
  },
  {
   "cell_type": "markdown",
   "metadata": {},
   "source": [
    "Check sanitization output:"
   ]
  },
  {
   "cell_type": "code",
   "execution_count": 247,
   "metadata": {},
   "outputs": [
    {
     "data": {
      "text/plain": [
       "array([0, 1])"
      ]
     },
     "execution_count": 247,
     "metadata": {},
     "output_type": "execute_result"
    }
   ],
   "source": [
    "df['WATER_SYSTEM.IS_GRANT_ELIGIBLE_IND'].dropna().unique()"
   ]
  },
  {
   "cell_type": "code",
   "execution_count": 248,
   "metadata": {},
   "outputs": [
    {
     "data": {
      "text/plain": [
       "array([0, 1])"
      ]
     },
     "execution_count": 248,
     "metadata": {},
     "output_type": "execute_result"
    }
   ],
   "source": [
    "df['WATER_SYSTEM.IS_WHOLESALER_IND'].dropna().unique()"
   ]
  },
  {
   "cell_type": "code",
   "execution_count": 249,
   "metadata": {},
   "outputs": [
    {
     "data": {
      "text/plain": [
       "array([0, 1])"
      ]
     },
     "execution_count": 249,
     "metadata": {},
     "output_type": "execute_result"
    }
   ],
   "source": [
    "df['WATER_SYSTEM.IS_SCHOOL_OR_DAYCARE_IND'].dropna().unique()"
   ]
  },
  {
   "cell_type": "code",
   "execution_count": 250,
   "metadata": {
    "scrolled": true
   },
   "outputs": [
    {
     "data": {
      "text/plain": [
       "array([0, 1])"
      ]
     },
     "execution_count": 250,
     "metadata": {},
     "output_type": "execute_result"
    }
   ],
   "source": [
    "df['WATER_SYSTEM.NPM_CANDIDATE'].dropna().unique()"
   ]
  },
  {
   "cell_type": "markdown",
   "metadata": {},
   "source": [
    "## Save sanitized data"
   ]
  },
  {
   "cell_type": "markdown",
   "metadata": {},
   "source": [
    "Save the sanitized dataset in a new csv file:"
   ]
  },
  {
   "cell_type": "code",
   "execution_count": 251,
   "metadata": {},
   "outputs": [],
   "source": [
    "# Data will be saved in the `sanitized` folder.\n",
    "sanitized_csv_file = join(PATH_TO_DATA_FOLDER, 'sanitized', 'WATER_SYSTEM.csv')"
   ]
  },
  {
   "cell_type": "code",
   "execution_count": 252,
   "metadata": {},
   "outputs": [],
   "source": [
    "df.to_csv(sanitized_csv_file, sep=\",\", encoding='utf-8')\n",
    "\n"
   ]
  },
  {
   "cell_type": "markdown",
   "metadata": {},
   "source": [
    "## `WATER_SYSTEM_FACILITY` table"
   ]
  },
  {
   "cell_type": "code",
   "execution_count": 282,
   "metadata": {},
   "outputs": [],
   "source": [
    "# date to process\n",
    "FACILITY_DEACTIVATION_DATE_idx = 7\n",
    "PWS_DEACTIVATION_DATE_idx = 18"
   ]
  },
  {
   "cell_type": "code",
   "execution_count": 283,
   "metadata": {},
   "outputs": [],
   "source": [
    "wsf = pd.read_csv(join(PATH_TO_DATA_FOLDER, \"DG_WATER_SYSTEM_FACILITY.csv\"),\n",
    "                 sep=\",\",\n",
    "                 header=0,\n",
    "                 index_col=0,\n",
    "                 encoding=\"utf-8\",\n",
    "                 low_memory=False,\n",
    "                 parse_dates=[FACILITY_DEACTIVATION_DATE_idx, PWS_DEACTIVATION_DATE_idx],\n",
    "                 )\n",
    "\n"
   ]
  },
  {
   "cell_type": "code",
   "execution_count": 284,
   "metadata": {},
   "outputs": [],
   "source": [
    "# Process binary fields\n",
    "wsf['WATER_SYSTEM_FACILITY.IS_SOURCE_IND'] = wsf['WATER_SYSTEM_FACILITY.IS_SOURCE_IND'].map({'N': 0, 'Y': 1})"
   ]
  },
  {
   "cell_type": "code",
   "execution_count": 285,
   "metadata": {},
   "outputs": [],
   "source": [
    "def longest_item(arr):\n",
    "    m = arr[0]\n",
    "    l = len(m)\n",
    "    for i in arr:\n",
    "        if len(i) > l:\n",
    "            m = i\n",
    "            l = len(i)\n",
    "    return m"
   ]
  },
  {
   "cell_type": "code",
   "execution_count": 286,
   "metadata": {},
   "outputs": [
    {
     "data": {
      "text/plain": [
       "'239126095064'"
      ]
     },
     "execution_count": 286,
     "metadata": {},
     "output_type": "execute_result"
    }
   ],
   "source": [
    "longest_item(wsf['WATER_SYSTEM_FACILITY.FACILITY_ID'].unique())"
   ]
  },
  {
   "cell_type": "code",
   "execution_count": 287,
   "metadata": {},
   "outputs": [
    {
     "data": {
      "text/plain": [
       "1408854"
      ]
     },
     "execution_count": 287,
     "metadata": {},
     "output_type": "execute_result"
    }
   ],
   "source": [
    "len(wsf['WATER_SYSTEM_FACILITY.FACILITY_ID'])"
   ]
  },
  {
   "cell_type": "code",
   "execution_count": 272,
   "metadata": {},
   "outputs": [
    {
     "data": {
      "text/plain": [
       "(1408854, 20)"
      ]
     },
     "execution_count": 272,
     "metadata": {},
     "output_type": "execute_result"
    }
   ],
   "source": [
    "wsf.shape"
   ]
  },
  {
   "cell_type": "markdown",
   "metadata": {},
   "source": [
    "**Important**: There are only `203 078` unique `FACILITY_ID` in the dataset and yet there are `1 408 854` different records. `FACILITY_ID` alone cannot be counted as a primary key.\n",
    "\n",
    "Thus we add prepend a ID column as primary key."
   ]
  },
  {
   "cell_type": "code",
   "execution_count": 289,
   "metadata": {},
   "outputs": [],
   "source": [
    "ids = []\n",
    "for idx in range(wsf.shape[0]):\n",
    "    ids.append(str(uuid.uuid4()))"
   ]
  },
  {
   "cell_type": "code",
   "execution_count": 291,
   "metadata": {},
   "outputs": [],
   "source": [
    "# Prepend the ID serie to the dataframe\n",
    "wsf.insert(0, 'ID', pd.Series(ids, index=wsf.index))"
   ]
  },
  {
   "cell_type": "code",
   "execution_count": 292,
   "metadata": {
    "scrolled": true
   },
   "outputs": [
    {
     "data": {
      "text/html": [
       "<div>\n",
       "<style scoped>\n",
       "    .dataframe tbody tr th:only-of-type {\n",
       "        vertical-align: middle;\n",
       "    }\n",
       "\n",
       "    .dataframe tbody tr th {\n",
       "        vertical-align: top;\n",
       "    }\n",
       "\n",
       "    .dataframe thead th {\n",
       "        text-align: right;\n",
       "    }\n",
       "</style>\n",
       "<table border=\"1\" class=\"dataframe\">\n",
       "  <thead>\n",
       "    <tr style=\"text-align: right;\">\n",
       "      <th></th>\n",
       "      <th>ID</th>\n",
       "      <th>WATER_SYSTEM_FACILITY.PRIMACY_AGENCY_CODE</th>\n",
       "      <th>WATER_SYSTEM_FACILITY.EPA_REGION</th>\n",
       "      <th>WATER_SYSTEM_FACILITY.FACILITY_ID</th>\n",
       "      <th>WATER_SYSTEM_FACILITY.FACILITY_NAME</th>\n",
       "      <th>WATER_SYSTEM_FACILITY.STATE_FACILITY_ID</th>\n",
       "      <th>WATER_SYSTEM_FACILITY.FACILITY_ACTIVITY_CODE</th>\n",
       "      <th>WATER_SYSTEM_FACILITY.FACILITY_DEACTIVATION_DATE</th>\n",
       "      <th>WATER_SYSTEM_FACILITY.FACILITY_TYPE_CODE</th>\n",
       "      <th>WATER_SYSTEM_FACILITY.SUBMISSION_STATUS_CODE</th>\n",
       "      <th>...</th>\n",
       "      <th>WATER_SYSTEM_FACILITY.WATER_TYPE_CODE</th>\n",
       "      <th>WATER_SYSTEM_FACILITY.AVAILABILITY_CODE</th>\n",
       "      <th>WATER_SYSTEM_FACILITY.SELLER_TREATMENT_CODE</th>\n",
       "      <th>WATER_SYSTEM_FACILITY.SELLER_PWSID</th>\n",
       "      <th>WATER_SYSTEM_FACILITY.SELLER_PWS_NAME</th>\n",
       "      <th>WATER_SYSTEM_FACILITY.FILTRATION_STATUS_CODE</th>\n",
       "      <th>WATER_SYSTEM_FACILITY.PWS_ACTIVITY_CODE</th>\n",
       "      <th>WATER_SYSTEM_FACILITY.PWS_DEACTIVATION_DATE</th>\n",
       "      <th>WATER_SYSTEM_FACILITY.PWS_TYPE_CODE</th>\n",
       "      <th>WATER_SYSTEM_FACILITY.IS_SOURCE_TREATED_IND</th>\n",
       "    </tr>\n",
       "    <tr>\n",
       "      <th>WATER_SYSTEM_FACILITY.PWSID</th>\n",
       "      <th></th>\n",
       "      <th></th>\n",
       "      <th></th>\n",
       "      <th></th>\n",
       "      <th></th>\n",
       "      <th></th>\n",
       "      <th></th>\n",
       "      <th></th>\n",
       "      <th></th>\n",
       "      <th></th>\n",
       "      <th></th>\n",
       "      <th></th>\n",
       "      <th></th>\n",
       "      <th></th>\n",
       "      <th></th>\n",
       "      <th></th>\n",
       "      <th></th>\n",
       "      <th></th>\n",
       "      <th></th>\n",
       "      <th></th>\n",
       "      <th></th>\n",
       "    </tr>\n",
       "  </thead>\n",
       "  <tbody>\n",
       "    <tr>\n",
       "      <th>NY0900222</th>\n",
       "      <td>9c2ce89f-7c29-489a-8c23-0485bcf908aa</td>\n",
       "      <td>NY</td>\n",
       "      <td>2</td>\n",
       "      <td>54061</td>\n",
       "      <td>TRANS. MAIN 6 X 500'</td>\n",
       "      <td>000000081224</td>\n",
       "      <td>A</td>\n",
       "      <td>NaT</td>\n",
       "      <td>TM</td>\n",
       "      <td>Y</td>\n",
       "      <td>...</td>\n",
       "      <td>NaN</td>\n",
       "      <td>NaN</td>\n",
       "      <td>NaN</td>\n",
       "      <td>NaN</td>\n",
       "      <td>NaN</td>\n",
       "      <td>NaN</td>\n",
       "      <td>A</td>\n",
       "      <td>NaT</td>\n",
       "      <td>CWS</td>\n",
       "      <td>NaN</td>\n",
       "    </tr>\n",
       "    <tr>\n",
       "      <th>NY0900222</th>\n",
       "      <td>e023b201-683b-4ae5-9b2c-7b92a55b0dae</td>\n",
       "      <td>NY</td>\n",
       "      <td>2</td>\n",
       "      <td>75508</td>\n",
       "      <td>XXIDSE-DISTRIBUTION STAGE 2</td>\n",
       "      <td>XXIDSE</td>\n",
       "      <td>I</td>\n",
       "      <td>2012-05-23</td>\n",
       "      <td>DS</td>\n",
       "      <td>Y</td>\n",
       "      <td>...</td>\n",
       "      <td>NaN</td>\n",
       "      <td>NaN</td>\n",
       "      <td>NaN</td>\n",
       "      <td>NaN</td>\n",
       "      <td>NaN</td>\n",
       "      <td>NaN</td>\n",
       "      <td>A</td>\n",
       "      <td>NaT</td>\n",
       "      <td>CWS</td>\n",
       "      <td>NaN</td>\n",
       "    </tr>\n",
       "    <tr>\n",
       "      <th>NY1000240</th>\n",
       "      <td>959cf25d-2854-4c85-b14d-97ef385a71b5</td>\n",
       "      <td>NY</td>\n",
       "      <td>2</td>\n",
       "      <td>63273</td>\n",
       "      <td>DISTRIBUTION SYSTEM</td>\n",
       "      <td>DS-01</td>\n",
       "      <td>A</td>\n",
       "      <td>NaT</td>\n",
       "      <td>DS</td>\n",
       "      <td>Y</td>\n",
       "      <td>...</td>\n",
       "      <td>NaN</td>\n",
       "      <td>NaN</td>\n",
       "      <td>NaN</td>\n",
       "      <td>NaN</td>\n",
       "      <td>NaN</td>\n",
       "      <td>NaN</td>\n",
       "      <td>A</td>\n",
       "      <td>NaT</td>\n",
       "      <td>CWS</td>\n",
       "      <td>NaN</td>\n",
       "    </tr>\n",
       "    <tr>\n",
       "      <th>NY1000240</th>\n",
       "      <td>e2a3b971-9427-4d3f-b70c-fd01d02161ef</td>\n",
       "      <td>NY</td>\n",
       "      <td>2</td>\n",
       "      <td>73477</td>\n",
       "      <td>485,000 GALLON STORAGE TANK</td>\n",
       "      <td>ST-01</td>\n",
       "      <td>A</td>\n",
       "      <td>NaT</td>\n",
       "      <td>ST</td>\n",
       "      <td>Y</td>\n",
       "      <td>...</td>\n",
       "      <td>NaN</td>\n",
       "      <td>NaN</td>\n",
       "      <td>NaN</td>\n",
       "      <td>NaN</td>\n",
       "      <td>NaN</td>\n",
       "      <td>NaN</td>\n",
       "      <td>A</td>\n",
       "      <td>NaT</td>\n",
       "      <td>CWS</td>\n",
       "      <td>NaN</td>\n",
       "    </tr>\n",
       "    <tr>\n",
       "      <th>NY0611916</th>\n",
       "      <td>54965745-440f-4a8f-90b2-984d5283516f</td>\n",
       "      <td>NY</td>\n",
       "      <td>2</td>\n",
       "      <td>67310</td>\n",
       "      <td>DISTRIBUTION SYSTEM (HV2)</td>\n",
       "      <td>DS-001</td>\n",
       "      <td>A</td>\n",
       "      <td>NaT</td>\n",
       "      <td>DS</td>\n",
       "      <td>Y</td>\n",
       "      <td>...</td>\n",
       "      <td>NaN</td>\n",
       "      <td>NaN</td>\n",
       "      <td>NaN</td>\n",
       "      <td>NaN</td>\n",
       "      <td>NaN</td>\n",
       "      <td>NaN</td>\n",
       "      <td>A</td>\n",
       "      <td>NaT</td>\n",
       "      <td>TNCWS</td>\n",
       "      <td>NaN</td>\n",
       "    </tr>\n",
       "  </tbody>\n",
       "</table>\n",
       "<p>5 rows × 21 columns</p>\n",
       "</div>"
      ],
      "text/plain": [
       "                                                               ID  \\\n",
       "WATER_SYSTEM_FACILITY.PWSID                                         \n",
       "NY0900222                    9c2ce89f-7c29-489a-8c23-0485bcf908aa   \n",
       "NY0900222                    e023b201-683b-4ae5-9b2c-7b92a55b0dae   \n",
       "NY1000240                    959cf25d-2854-4c85-b14d-97ef385a71b5   \n",
       "NY1000240                    e2a3b971-9427-4d3f-b70c-fd01d02161ef   \n",
       "NY0611916                    54965745-440f-4a8f-90b2-984d5283516f   \n",
       "\n",
       "                            WATER_SYSTEM_FACILITY.PRIMACY_AGENCY_CODE  \\\n",
       "WATER_SYSTEM_FACILITY.PWSID                                             \n",
       "NY0900222                                                          NY   \n",
       "NY0900222                                                          NY   \n",
       "NY1000240                                                          NY   \n",
       "NY1000240                                                          NY   \n",
       "NY0611916                                                          NY   \n",
       "\n",
       "                             WATER_SYSTEM_FACILITY.EPA_REGION  \\\n",
       "WATER_SYSTEM_FACILITY.PWSID                                     \n",
       "NY0900222                                                   2   \n",
       "NY0900222                                                   2   \n",
       "NY1000240                                                   2   \n",
       "NY1000240                                                   2   \n",
       "NY0611916                                                   2   \n",
       "\n",
       "                            WATER_SYSTEM_FACILITY.FACILITY_ID  \\\n",
       "WATER_SYSTEM_FACILITY.PWSID                                     \n",
       "NY0900222                                               54061   \n",
       "NY0900222                                               75508   \n",
       "NY1000240                                               63273   \n",
       "NY1000240                                               73477   \n",
       "NY0611916                                               67310   \n",
       "\n",
       "                            WATER_SYSTEM_FACILITY.FACILITY_NAME  \\\n",
       "WATER_SYSTEM_FACILITY.PWSID                                       \n",
       "NY0900222                                  TRANS. MAIN 6 X 500'   \n",
       "NY0900222                           XXIDSE-DISTRIBUTION STAGE 2   \n",
       "NY1000240                                   DISTRIBUTION SYSTEM   \n",
       "NY1000240                           485,000 GALLON STORAGE TANK   \n",
       "NY0611916                             DISTRIBUTION SYSTEM (HV2)   \n",
       "\n",
       "                            WATER_SYSTEM_FACILITY.STATE_FACILITY_ID  \\\n",
       "WATER_SYSTEM_FACILITY.PWSID                                           \n",
       "NY0900222                                              000000081224   \n",
       "NY0900222                                                    XXIDSE   \n",
       "NY1000240                                                     DS-01   \n",
       "NY1000240                                                     ST-01   \n",
       "NY0611916                                                    DS-001   \n",
       "\n",
       "                            WATER_SYSTEM_FACILITY.FACILITY_ACTIVITY_CODE  \\\n",
       "WATER_SYSTEM_FACILITY.PWSID                                                \n",
       "NY0900222                                                              A   \n",
       "NY0900222                                                              I   \n",
       "NY1000240                                                              A   \n",
       "NY1000240                                                              A   \n",
       "NY0611916                                                              A   \n",
       "\n",
       "                            WATER_SYSTEM_FACILITY.FACILITY_DEACTIVATION_DATE  \\\n",
       "WATER_SYSTEM_FACILITY.PWSID                                                    \n",
       "NY0900222                                                                NaT   \n",
       "NY0900222                                                         2012-05-23   \n",
       "NY1000240                                                                NaT   \n",
       "NY1000240                                                                NaT   \n",
       "NY0611916                                                                NaT   \n",
       "\n",
       "                            WATER_SYSTEM_FACILITY.FACILITY_TYPE_CODE  \\\n",
       "WATER_SYSTEM_FACILITY.PWSID                                            \n",
       "NY0900222                                                         TM   \n",
       "NY0900222                                                         DS   \n",
       "NY1000240                                                         DS   \n",
       "NY1000240                                                         ST   \n",
       "NY0611916                                                         DS   \n",
       "\n",
       "                            WATER_SYSTEM_FACILITY.SUBMISSION_STATUS_CODE  ...  \\\n",
       "WATER_SYSTEM_FACILITY.PWSID                                               ...   \n",
       "NY0900222                                                              Y  ...   \n",
       "NY0900222                                                              Y  ...   \n",
       "NY1000240                                                              Y  ...   \n",
       "NY1000240                                                              Y  ...   \n",
       "NY0611916                                                              Y  ...   \n",
       "\n",
       "                             WATER_SYSTEM_FACILITY.WATER_TYPE_CODE  \\\n",
       "WATER_SYSTEM_FACILITY.PWSID                                          \n",
       "NY0900222                                                      NaN   \n",
       "NY0900222                                                      NaN   \n",
       "NY1000240                                                      NaN   \n",
       "NY1000240                                                      NaN   \n",
       "NY0611916                                                      NaN   \n",
       "\n",
       "                            WATER_SYSTEM_FACILITY.AVAILABILITY_CODE  \\\n",
       "WATER_SYSTEM_FACILITY.PWSID                                           \n",
       "NY0900222                                                       NaN   \n",
       "NY0900222                                                       NaN   \n",
       "NY1000240                                                       NaN   \n",
       "NY1000240                                                       NaN   \n",
       "NY0611916                                                       NaN   \n",
       "\n",
       "                            WATER_SYSTEM_FACILITY.SELLER_TREATMENT_CODE  \\\n",
       "WATER_SYSTEM_FACILITY.PWSID                                               \n",
       "NY0900222                                                           NaN   \n",
       "NY0900222                                                           NaN   \n",
       "NY1000240                                                           NaN   \n",
       "NY1000240                                                           NaN   \n",
       "NY0611916                                                           NaN   \n",
       "\n",
       "                            WATER_SYSTEM_FACILITY.SELLER_PWSID  \\\n",
       "WATER_SYSTEM_FACILITY.PWSID                                      \n",
       "NY0900222                                                  NaN   \n",
       "NY0900222                                                  NaN   \n",
       "NY1000240                                                  NaN   \n",
       "NY1000240                                                  NaN   \n",
       "NY0611916                                                  NaN   \n",
       "\n",
       "                            WATER_SYSTEM_FACILITY.SELLER_PWS_NAME  \\\n",
       "WATER_SYSTEM_FACILITY.PWSID                                         \n",
       "NY0900222                                                     NaN   \n",
       "NY0900222                                                     NaN   \n",
       "NY1000240                                                     NaN   \n",
       "NY1000240                                                     NaN   \n",
       "NY0611916                                                     NaN   \n",
       "\n",
       "                            WATER_SYSTEM_FACILITY.FILTRATION_STATUS_CODE  \\\n",
       "WATER_SYSTEM_FACILITY.PWSID                                                \n",
       "NY0900222                                                            NaN   \n",
       "NY0900222                                                            NaN   \n",
       "NY1000240                                                            NaN   \n",
       "NY1000240                                                            NaN   \n",
       "NY0611916                                                            NaN   \n",
       "\n",
       "                            WATER_SYSTEM_FACILITY.PWS_ACTIVITY_CODE  \\\n",
       "WATER_SYSTEM_FACILITY.PWSID                                           \n",
       "NY0900222                                                         A   \n",
       "NY0900222                                                         A   \n",
       "NY1000240                                                         A   \n",
       "NY1000240                                                         A   \n",
       "NY0611916                                                         A   \n",
       "\n",
       "                            WATER_SYSTEM_FACILITY.PWS_DEACTIVATION_DATE  \\\n",
       "WATER_SYSTEM_FACILITY.PWSID                                               \n",
       "NY0900222                                                           NaT   \n",
       "NY0900222                                                           NaT   \n",
       "NY1000240                                                           NaT   \n",
       "NY1000240                                                           NaT   \n",
       "NY0611916                                                           NaT   \n",
       "\n",
       "                            WATER_SYSTEM_FACILITY.PWS_TYPE_CODE  \\\n",
       "WATER_SYSTEM_FACILITY.PWSID                                       \n",
       "NY0900222                                                   CWS   \n",
       "NY0900222                                                   CWS   \n",
       "NY1000240                                                   CWS   \n",
       "NY1000240                                                   CWS   \n",
       "NY0611916                                                 TNCWS   \n",
       "\n",
       "                            WATER_SYSTEM_FACILITY.IS_SOURCE_TREATED_IND  \n",
       "WATER_SYSTEM_FACILITY.PWSID                                              \n",
       "NY0900222                                                           NaN  \n",
       "NY0900222                                                           NaN  \n",
       "NY1000240                                                           NaN  \n",
       "NY1000240                                                           NaN  \n",
       "NY0611916                                                           NaN  \n",
       "\n",
       "[5 rows x 21 columns]"
      ]
     },
     "execution_count": 292,
     "metadata": {},
     "output_type": "execute_result"
    }
   ],
   "source": [
    "wsf.head()"
   ]
  },
  {
   "cell_type": "code",
   "execution_count": 293,
   "metadata": {},
   "outputs": [],
   "source": [
    "# Data will be saved in the `sanitized` folder.\n",
    "sanitized_wsf_file = join(PATH_TO_DATA_FOLDER, 'sanitized', 'WATER_SYSTEM_FACILITY.csv')\n",
    "wsf.to_csv(sanitized_wsf_file, sep=\",\", encoding='utf-8', quotechar='\"')"
   ]
  },
  {
   "cell_type": "code",
   "execution_count": 295,
   "metadata": {},
   "outputs": [
    {
     "data": {
      "text/plain": [
       "36"
      ]
     },
     "execution_count": 295,
     "metadata": {},
     "output_type": "execute_result"
    }
   ],
   "source": [
    "len('e5862a56-14ea-4dda-8fed-bf1efb0c9bbd')"
   ]
  },
  {
   "cell_type": "markdown",
   "metadata": {},
   "source": [
    "## `VIOLATION` table\n"
   ]
  },
  {
   "cell_type": "code",
   "execution_count": 303,
   "metadata": {},
   "outputs": [],
   "source": [
    "# date to process\n",
    "COMPL_PER_BEGIN_DATE_idx = 22\n",
    "COMPL_PER_END_DATE_idx = 23\n",
    "RTC_DATE_idx = 26"
   ]
  },
  {
   "cell_type": "code",
   "execution_count": 304,
   "metadata": {},
   "outputs": [],
   "source": [
    "violation = pd.read_csv(join(PATH_TO_DATA_FOLDER, \"DG_VIOLATION.csv\"),\n",
    "                 sep=\",\",\n",
    "                 header=0,\n",
    "                 index_col=0,\n",
    "                 encoding=\"utf-8\",\n",
    "                 low_memory=False,\n",
    "                 parse_dates=[COMPL_PER_BEGIN_DATE_idx, COMPL_PER_END_DATE_idx, RTC_DATE_idx],\n",
    "                 )\n",
    "\n"
   ]
  },
  {
   "cell_type": "code",
   "execution_count": 305,
   "metadata": {
    "scrolled": true
   },
   "outputs": [
    {
     "data": {
      "text/html": [
       "<div>\n",
       "<style scoped>\n",
       "    .dataframe tbody tr th:only-of-type {\n",
       "        vertical-align: middle;\n",
       "    }\n",
       "\n",
       "    .dataframe tbody tr th {\n",
       "        vertical-align: top;\n",
       "    }\n",
       "\n",
       "    .dataframe thead th {\n",
       "        text-align: right;\n",
       "    }\n",
       "</style>\n",
       "<table border=\"1\" class=\"dataframe\">\n",
       "  <thead>\n",
       "    <tr style=\"text-align: right;\">\n",
       "      <th></th>\n",
       "      <th>VIOLATION.VIOLATION_ID</th>\n",
       "      <th>VIOLATION.FACILITY_ID</th>\n",
       "      <th>VIOLATION.POPULATION_SERVED_COUNT</th>\n",
       "      <th>VIOLATION.NPM_CANDIDATE</th>\n",
       "      <th>VIOLATION.PWS_ACTIVITY_CODE</th>\n",
       "      <th>VIOLATION.PWS_DEACTIVATION_DATE</th>\n",
       "      <th>VIOLATION.PRIMARY_SOURCE_CODE</th>\n",
       "      <th>VIOLATION.POP_CAT_5_CODE</th>\n",
       "      <th>VIOLATION.PRIMACY_AGENCY_CODE</th>\n",
       "      <th>VIOLATION.EPA_REGION</th>\n",
       "      <th>...</th>\n",
       "      <th>VIOLATION.LATEST_ENFORCEMENT_ID</th>\n",
       "      <th>VIOLATION.RTC_ENFORCEMENT_ID</th>\n",
       "      <th>VIOLATION.RTC_DATE</th>\n",
       "      <th>VIOLATION.PUBLIC_NOTIFICATION_TIER</th>\n",
       "      <th>VIOLATION.ORIGINATOR_CODE</th>\n",
       "      <th>VIOLATION.SAMPLE_RESULT_ID</th>\n",
       "      <th>VIOLATION.CORRECTIVE_ACTION_ID</th>\n",
       "      <th>VIOLATION.RULE_CODE</th>\n",
       "      <th>VIOLATION.RULE_GROUP_CODE</th>\n",
       "      <th>VIOLATION.RULE_FAMILY_CODE</th>\n",
       "    </tr>\n",
       "    <tr>\n",
       "      <th>VIOLATION.PWSID</th>\n",
       "      <th></th>\n",
       "      <th></th>\n",
       "      <th></th>\n",
       "      <th></th>\n",
       "      <th></th>\n",
       "      <th></th>\n",
       "      <th></th>\n",
       "      <th></th>\n",
       "      <th></th>\n",
       "      <th></th>\n",
       "      <th></th>\n",
       "      <th></th>\n",
       "      <th></th>\n",
       "      <th></th>\n",
       "      <th></th>\n",
       "      <th></th>\n",
       "      <th></th>\n",
       "      <th></th>\n",
       "      <th></th>\n",
       "      <th></th>\n",
       "      <th></th>\n",
       "    </tr>\n",
       "  </thead>\n",
       "  <tbody>\n",
       "    <tr>\n",
       "      <th>WI1110274</th>\n",
       "      <td>1200004</td>\n",
       "      <td>2</td>\n",
       "      <td>35</td>\n",
       "      <td>N</td>\n",
       "      <td>A</td>\n",
       "      <td>NaN</td>\n",
       "      <td>GW</td>\n",
       "      <td>1</td>\n",
       "      <td>WI</td>\n",
       "      <td>5</td>\n",
       "      <td>...</td>\n",
       "      <td>1300019</td>\n",
       "      <td>1300016</td>\n",
       "      <td>2012-10-24</td>\n",
       "      <td>3</td>\n",
       "      <td>S</td>\n",
       "      <td>NaN</td>\n",
       "      <td>NaN</td>\n",
       "      <td>310</td>\n",
       "      <td>300</td>\n",
       "      <td>310</td>\n",
       "    </tr>\n",
       "    <tr>\n",
       "      <th>WI1110274</th>\n",
       "      <td>1200003</td>\n",
       "      <td>2</td>\n",
       "      <td>35</td>\n",
       "      <td>N</td>\n",
       "      <td>A</td>\n",
       "      <td>NaN</td>\n",
       "      <td>GW</td>\n",
       "      <td>1</td>\n",
       "      <td>WI</td>\n",
       "      <td>5</td>\n",
       "      <td>...</td>\n",
       "      <td>1300019</td>\n",
       "      <td>1300016</td>\n",
       "      <td>2012-10-24</td>\n",
       "      <td>3</td>\n",
       "      <td>S</td>\n",
       "      <td>NaN</td>\n",
       "      <td>NaN</td>\n",
       "      <td>310</td>\n",
       "      <td>300</td>\n",
       "      <td>310</td>\n",
       "    </tr>\n",
       "    <tr>\n",
       "      <th>WI1110274</th>\n",
       "      <td>1200024</td>\n",
       "      <td>NaN</td>\n",
       "      <td>35</td>\n",
       "      <td>N</td>\n",
       "      <td>A</td>\n",
       "      <td>NaN</td>\n",
       "      <td>GW</td>\n",
       "      <td>1</td>\n",
       "      <td>WI</td>\n",
       "      <td>5</td>\n",
       "      <td>...</td>\n",
       "      <td>1200015</td>\n",
       "      <td>1200015</td>\n",
       "      <td>2012-08-21</td>\n",
       "      <td>2</td>\n",
       "      <td>S</td>\n",
       "      <td>NaN</td>\n",
       "      <td>NaN</td>\n",
       "      <td>110</td>\n",
       "      <td>100</td>\n",
       "      <td>110</td>\n",
       "    </tr>\n",
       "    <tr>\n",
       "      <th>WI1110274</th>\n",
       "      <td>1200023</td>\n",
       "      <td>2</td>\n",
       "      <td>35</td>\n",
       "      <td>N</td>\n",
       "      <td>A</td>\n",
       "      <td>NaN</td>\n",
       "      <td>GW</td>\n",
       "      <td>1</td>\n",
       "      <td>WI</td>\n",
       "      <td>5</td>\n",
       "      <td>...</td>\n",
       "      <td>1300019</td>\n",
       "      <td>1300016</td>\n",
       "      <td>2012-10-24</td>\n",
       "      <td>3</td>\n",
       "      <td>S</td>\n",
       "      <td>NaN</td>\n",
       "      <td>NaN</td>\n",
       "      <td>310</td>\n",
       "      <td>300</td>\n",
       "      <td>310</td>\n",
       "    </tr>\n",
       "    <tr>\n",
       "      <th>WI1110274</th>\n",
       "      <td>1200002</td>\n",
       "      <td>NaN</td>\n",
       "      <td>35</td>\n",
       "      <td>N</td>\n",
       "      <td>A</td>\n",
       "      <td>NaN</td>\n",
       "      <td>GW</td>\n",
       "      <td>1</td>\n",
       "      <td>WI</td>\n",
       "      <td>5</td>\n",
       "      <td>...</td>\n",
       "      <td>1200010</td>\n",
       "      <td>1200010</td>\n",
       "      <td>2012-03-26</td>\n",
       "      <td>2</td>\n",
       "      <td>S</td>\n",
       "      <td>NaN</td>\n",
       "      <td>NaN</td>\n",
       "      <td>110</td>\n",
       "      <td>100</td>\n",
       "      <td>110</td>\n",
       "    </tr>\n",
       "  </tbody>\n",
       "</table>\n",
       "<p>5 rows × 33 columns</p>\n",
       "</div>"
      ],
      "text/plain": [
       "                VIOLATION.VIOLATION_ID VIOLATION.FACILITY_ID  \\\n",
       "VIOLATION.PWSID                                                \n",
       "WI1110274                      1200004                     2   \n",
       "WI1110274                      1200003                     2   \n",
       "WI1110274                      1200024                   NaN   \n",
       "WI1110274                      1200023                     2   \n",
       "WI1110274                      1200002                   NaN   \n",
       "\n",
       "                 VIOLATION.POPULATION_SERVED_COUNT VIOLATION.NPM_CANDIDATE  \\\n",
       "VIOLATION.PWSID                                                              \n",
       "WI1110274                                       35                       N   \n",
       "WI1110274                                       35                       N   \n",
       "WI1110274                                       35                       N   \n",
       "WI1110274                                       35                       N   \n",
       "WI1110274                                       35                       N   \n",
       "\n",
       "                VIOLATION.PWS_ACTIVITY_CODE VIOLATION.PWS_DEACTIVATION_DATE  \\\n",
       "VIOLATION.PWSID                                                               \n",
       "WI1110274                                 A                             NaN   \n",
       "WI1110274                                 A                             NaN   \n",
       "WI1110274                                 A                             NaN   \n",
       "WI1110274                                 A                             NaN   \n",
       "WI1110274                                 A                             NaN   \n",
       "\n",
       "                VIOLATION.PRIMARY_SOURCE_CODE  VIOLATION.POP_CAT_5_CODE  \\\n",
       "VIOLATION.PWSID                                                           \n",
       "WI1110274                                  GW                         1   \n",
       "WI1110274                                  GW                         1   \n",
       "WI1110274                                  GW                         1   \n",
       "WI1110274                                  GW                         1   \n",
       "WI1110274                                  GW                         1   \n",
       "\n",
       "                VIOLATION.PRIMACY_AGENCY_CODE  VIOLATION.EPA_REGION  ...  \\\n",
       "VIOLATION.PWSID                                                      ...   \n",
       "WI1110274                                  WI                     5  ...   \n",
       "WI1110274                                  WI                     5  ...   \n",
       "WI1110274                                  WI                     5  ...   \n",
       "WI1110274                                  WI                     5  ...   \n",
       "WI1110274                                  WI                     5  ...   \n",
       "\n",
       "                VIOLATION.LATEST_ENFORCEMENT_ID VIOLATION.RTC_ENFORCEMENT_ID  \\\n",
       "VIOLATION.PWSID                                                                \n",
       "WI1110274                               1300019                      1300016   \n",
       "WI1110274                               1300019                      1300016   \n",
       "WI1110274                               1200015                      1200015   \n",
       "WI1110274                               1300019                      1300016   \n",
       "WI1110274                               1200010                      1200010   \n",
       "\n",
       "                VIOLATION.RTC_DATE VIOLATION.PUBLIC_NOTIFICATION_TIER  \\\n",
       "VIOLATION.PWSID                                                         \n",
       "WI1110274               2012-10-24                                  3   \n",
       "WI1110274               2012-10-24                                  3   \n",
       "WI1110274               2012-08-21                                  2   \n",
       "WI1110274               2012-10-24                                  3   \n",
       "WI1110274               2012-03-26                                  2   \n",
       "\n",
       "                VIOLATION.ORIGINATOR_CODE VIOLATION.SAMPLE_RESULT_ID  \\\n",
       "VIOLATION.PWSID                                                        \n",
       "WI1110274                               S                        NaN   \n",
       "WI1110274                               S                        NaN   \n",
       "WI1110274                               S                        NaN   \n",
       "WI1110274                               S                        NaN   \n",
       "WI1110274                               S                        NaN   \n",
       "\n",
       "                 VIOLATION.CORRECTIVE_ACTION_ID VIOLATION.RULE_CODE  \\\n",
       "VIOLATION.PWSID                                                       \n",
       "WI1110274                                   NaN                 310   \n",
       "WI1110274                                   NaN                 310   \n",
       "WI1110274                                   NaN                 110   \n",
       "WI1110274                                   NaN                 310   \n",
       "WI1110274                                   NaN                 110   \n",
       "\n",
       "                 VIOLATION.RULE_GROUP_CODE VIOLATION.RULE_FAMILY_CODE  \n",
       "VIOLATION.PWSID                                                        \n",
       "WI1110274                              300                        310  \n",
       "WI1110274                              300                        310  \n",
       "WI1110274                              100                        110  \n",
       "WI1110274                              300                        310  \n",
       "WI1110274                              100                        110  \n",
       "\n",
       "[5 rows x 33 columns]"
      ]
     },
     "execution_count": 305,
     "metadata": {},
     "output_type": "execute_result"
    }
   ],
   "source": [
    "violation.head()"
   ]
  },
  {
   "cell_type": "code",
   "execution_count": 306,
   "metadata": {},
   "outputs": [
    {
     "data": {
      "text/plain": [
       "array(['N', 'Y', nan], dtype=object)"
      ]
     },
     "execution_count": 306,
     "metadata": {},
     "output_type": "execute_result"
    }
   ],
   "source": [
    "violation['VIOLATION.IS_HEALTH_BASED_IND'].unique()"
   ]
  },
  {
   "cell_type": "markdown",
   "metadata": {},
   "source": [
    "Won't map it because of the Nan items, we keep the `y` `n` and `nan`."
   ]
  },
  {
   "cell_type": "code",
   "execution_count": 300,
   "metadata": {},
   "outputs": [
    {
     "data": {
      "text/plain": [
       "1089493"
      ]
     },
     "execution_count": 300,
     "metadata": {},
     "output_type": "execute_result"
    }
   ],
   "source": [
    "len(violation['VIOLATION.VIOLATION_ID'].unique())"
   ]
  },
  {
   "cell_type": "code",
   "execution_count": 301,
   "metadata": {},
   "outputs": [
    {
     "data": {
      "text/plain": [
       "(2212450, 33)"
      ]
     },
     "execution_count": 301,
     "metadata": {},
     "output_type": "execute_result"
    }
   ],
   "source": [
    "violation.shape"
   ]
  },
  {
   "cell_type": "markdown",
   "metadata": {},
   "source": [
    "Again, the number of id is inconsistent with the number fo records, we create a new ID for the column as primary key."
   ]
  },
  {
   "cell_type": "code",
   "execution_count": 307,
   "metadata": {},
   "outputs": [],
   "source": [
    "ids_violation = []\n",
    "for idx in range(violation.shape[0]):\n",
    "    ids_violation.append(str(uuid.uuid4()))"
   ]
  },
  {
   "cell_type": "code",
   "execution_count": 308,
   "metadata": {},
   "outputs": [
    {
     "data": {
      "text/plain": [
       "['da7c77d1-57fa-40e6-9a8e-01bbbf9dbbd3',\n",
       " 'de518b9e-5d0b-4a81-8159-289024c0e5ee',\n",
       " 'c60dcd65-443d-45a2-b385-8c3fa400d6b6',\n",
       " '366f21f4-abfb-41ac-b0fa-a5d5442c6e83',\n",
       " 'aaec3dd6-246f-4fd6-bf13-a237b2714d76']"
      ]
     },
     "execution_count": 308,
     "metadata": {},
     "output_type": "execute_result"
    }
   ],
   "source": [
    "ids_violation[:5]"
   ]
  },
  {
   "cell_type": "code",
   "execution_count": 309,
   "metadata": {},
   "outputs": [],
   "source": [
    "# Prepend the ID serie to the dataframe\n",
    "violation.insert(0, 'ID', pd.Series(ids_violation, index=violation.index))"
   ]
  },
  {
   "cell_type": "code",
   "execution_count": 310,
   "metadata": {},
   "outputs": [
    {
     "data": {
      "text/html": [
       "<div>\n",
       "<style scoped>\n",
       "    .dataframe tbody tr th:only-of-type {\n",
       "        vertical-align: middle;\n",
       "    }\n",
       "\n",
       "    .dataframe tbody tr th {\n",
       "        vertical-align: top;\n",
       "    }\n",
       "\n",
       "    .dataframe thead th {\n",
       "        text-align: right;\n",
       "    }\n",
       "</style>\n",
       "<table border=\"1\" class=\"dataframe\">\n",
       "  <thead>\n",
       "    <tr style=\"text-align: right;\">\n",
       "      <th></th>\n",
       "      <th>ID</th>\n",
       "      <th>VIOLATION.VIOLATION_ID</th>\n",
       "      <th>VIOLATION.FACILITY_ID</th>\n",
       "      <th>VIOLATION.POPULATION_SERVED_COUNT</th>\n",
       "      <th>VIOLATION.NPM_CANDIDATE</th>\n",
       "      <th>VIOLATION.PWS_ACTIVITY_CODE</th>\n",
       "      <th>VIOLATION.PWS_DEACTIVATION_DATE</th>\n",
       "      <th>VIOLATION.PRIMARY_SOURCE_CODE</th>\n",
       "      <th>VIOLATION.POP_CAT_5_CODE</th>\n",
       "      <th>VIOLATION.PRIMACY_AGENCY_CODE</th>\n",
       "      <th>...</th>\n",
       "      <th>VIOLATION.LATEST_ENFORCEMENT_ID</th>\n",
       "      <th>VIOLATION.RTC_ENFORCEMENT_ID</th>\n",
       "      <th>VIOLATION.RTC_DATE</th>\n",
       "      <th>VIOLATION.PUBLIC_NOTIFICATION_TIER</th>\n",
       "      <th>VIOLATION.ORIGINATOR_CODE</th>\n",
       "      <th>VIOLATION.SAMPLE_RESULT_ID</th>\n",
       "      <th>VIOLATION.CORRECTIVE_ACTION_ID</th>\n",
       "      <th>VIOLATION.RULE_CODE</th>\n",
       "      <th>VIOLATION.RULE_GROUP_CODE</th>\n",
       "      <th>VIOLATION.RULE_FAMILY_CODE</th>\n",
       "    </tr>\n",
       "    <tr>\n",
       "      <th>VIOLATION.PWSID</th>\n",
       "      <th></th>\n",
       "      <th></th>\n",
       "      <th></th>\n",
       "      <th></th>\n",
       "      <th></th>\n",
       "      <th></th>\n",
       "      <th></th>\n",
       "      <th></th>\n",
       "      <th></th>\n",
       "      <th></th>\n",
       "      <th></th>\n",
       "      <th></th>\n",
       "      <th></th>\n",
       "      <th></th>\n",
       "      <th></th>\n",
       "      <th></th>\n",
       "      <th></th>\n",
       "      <th></th>\n",
       "      <th></th>\n",
       "      <th></th>\n",
       "      <th></th>\n",
       "    </tr>\n",
       "  </thead>\n",
       "  <tbody>\n",
       "    <tr>\n",
       "      <th>WI1110274</th>\n",
       "      <td>da7c77d1-57fa-40e6-9a8e-01bbbf9dbbd3</td>\n",
       "      <td>1200004</td>\n",
       "      <td>2</td>\n",
       "      <td>35</td>\n",
       "      <td>N</td>\n",
       "      <td>A</td>\n",
       "      <td>NaN</td>\n",
       "      <td>GW</td>\n",
       "      <td>1</td>\n",
       "      <td>WI</td>\n",
       "      <td>...</td>\n",
       "      <td>1300019</td>\n",
       "      <td>1300016</td>\n",
       "      <td>2012-10-24</td>\n",
       "      <td>3</td>\n",
       "      <td>S</td>\n",
       "      <td>NaN</td>\n",
       "      <td>NaN</td>\n",
       "      <td>310</td>\n",
       "      <td>300</td>\n",
       "      <td>310</td>\n",
       "    </tr>\n",
       "    <tr>\n",
       "      <th>WI1110274</th>\n",
       "      <td>de518b9e-5d0b-4a81-8159-289024c0e5ee</td>\n",
       "      <td>1200003</td>\n",
       "      <td>2</td>\n",
       "      <td>35</td>\n",
       "      <td>N</td>\n",
       "      <td>A</td>\n",
       "      <td>NaN</td>\n",
       "      <td>GW</td>\n",
       "      <td>1</td>\n",
       "      <td>WI</td>\n",
       "      <td>...</td>\n",
       "      <td>1300019</td>\n",
       "      <td>1300016</td>\n",
       "      <td>2012-10-24</td>\n",
       "      <td>3</td>\n",
       "      <td>S</td>\n",
       "      <td>NaN</td>\n",
       "      <td>NaN</td>\n",
       "      <td>310</td>\n",
       "      <td>300</td>\n",
       "      <td>310</td>\n",
       "    </tr>\n",
       "    <tr>\n",
       "      <th>WI1110274</th>\n",
       "      <td>c60dcd65-443d-45a2-b385-8c3fa400d6b6</td>\n",
       "      <td>1200024</td>\n",
       "      <td>NaN</td>\n",
       "      <td>35</td>\n",
       "      <td>N</td>\n",
       "      <td>A</td>\n",
       "      <td>NaN</td>\n",
       "      <td>GW</td>\n",
       "      <td>1</td>\n",
       "      <td>WI</td>\n",
       "      <td>...</td>\n",
       "      <td>1200015</td>\n",
       "      <td>1200015</td>\n",
       "      <td>2012-08-21</td>\n",
       "      <td>2</td>\n",
       "      <td>S</td>\n",
       "      <td>NaN</td>\n",
       "      <td>NaN</td>\n",
       "      <td>110</td>\n",
       "      <td>100</td>\n",
       "      <td>110</td>\n",
       "    </tr>\n",
       "    <tr>\n",
       "      <th>WI1110274</th>\n",
       "      <td>366f21f4-abfb-41ac-b0fa-a5d5442c6e83</td>\n",
       "      <td>1200023</td>\n",
       "      <td>2</td>\n",
       "      <td>35</td>\n",
       "      <td>N</td>\n",
       "      <td>A</td>\n",
       "      <td>NaN</td>\n",
       "      <td>GW</td>\n",
       "      <td>1</td>\n",
       "      <td>WI</td>\n",
       "      <td>...</td>\n",
       "      <td>1300019</td>\n",
       "      <td>1300016</td>\n",
       "      <td>2012-10-24</td>\n",
       "      <td>3</td>\n",
       "      <td>S</td>\n",
       "      <td>NaN</td>\n",
       "      <td>NaN</td>\n",
       "      <td>310</td>\n",
       "      <td>300</td>\n",
       "      <td>310</td>\n",
       "    </tr>\n",
       "    <tr>\n",
       "      <th>WI1110274</th>\n",
       "      <td>aaec3dd6-246f-4fd6-bf13-a237b2714d76</td>\n",
       "      <td>1200002</td>\n",
       "      <td>NaN</td>\n",
       "      <td>35</td>\n",
       "      <td>N</td>\n",
       "      <td>A</td>\n",
       "      <td>NaN</td>\n",
       "      <td>GW</td>\n",
       "      <td>1</td>\n",
       "      <td>WI</td>\n",
       "      <td>...</td>\n",
       "      <td>1200010</td>\n",
       "      <td>1200010</td>\n",
       "      <td>2012-03-26</td>\n",
       "      <td>2</td>\n",
       "      <td>S</td>\n",
       "      <td>NaN</td>\n",
       "      <td>NaN</td>\n",
       "      <td>110</td>\n",
       "      <td>100</td>\n",
       "      <td>110</td>\n",
       "    </tr>\n",
       "  </tbody>\n",
       "</table>\n",
       "<p>5 rows × 34 columns</p>\n",
       "</div>"
      ],
      "text/plain": [
       "                                                   ID VIOLATION.VIOLATION_ID  \\\n",
       "VIOLATION.PWSID                                                                \n",
       "WI1110274        da7c77d1-57fa-40e6-9a8e-01bbbf9dbbd3                1200004   \n",
       "WI1110274        de518b9e-5d0b-4a81-8159-289024c0e5ee                1200003   \n",
       "WI1110274        c60dcd65-443d-45a2-b385-8c3fa400d6b6                1200024   \n",
       "WI1110274        366f21f4-abfb-41ac-b0fa-a5d5442c6e83                1200023   \n",
       "WI1110274        aaec3dd6-246f-4fd6-bf13-a237b2714d76                1200002   \n",
       "\n",
       "                VIOLATION.FACILITY_ID  VIOLATION.POPULATION_SERVED_COUNT  \\\n",
       "VIOLATION.PWSID                                                            \n",
       "WI1110274                           2                                 35   \n",
       "WI1110274                           2                                 35   \n",
       "WI1110274                         NaN                                 35   \n",
       "WI1110274                           2                                 35   \n",
       "WI1110274                         NaN                                 35   \n",
       "\n",
       "                VIOLATION.NPM_CANDIDATE VIOLATION.PWS_ACTIVITY_CODE  \\\n",
       "VIOLATION.PWSID                                                       \n",
       "WI1110274                             N                           A   \n",
       "WI1110274                             N                           A   \n",
       "WI1110274                             N                           A   \n",
       "WI1110274                             N                           A   \n",
       "WI1110274                             N                           A   \n",
       "\n",
       "                VIOLATION.PWS_DEACTIVATION_DATE VIOLATION.PRIMARY_SOURCE_CODE  \\\n",
       "VIOLATION.PWSID                                                                 \n",
       "WI1110274                                   NaN                            GW   \n",
       "WI1110274                                   NaN                            GW   \n",
       "WI1110274                                   NaN                            GW   \n",
       "WI1110274                                   NaN                            GW   \n",
       "WI1110274                                   NaN                            GW   \n",
       "\n",
       "                 VIOLATION.POP_CAT_5_CODE VIOLATION.PRIMACY_AGENCY_CODE  ...  \\\n",
       "VIOLATION.PWSID                                                          ...   \n",
       "WI1110274                               1                            WI  ...   \n",
       "WI1110274                               1                            WI  ...   \n",
       "WI1110274                               1                            WI  ...   \n",
       "WI1110274                               1                            WI  ...   \n",
       "WI1110274                               1                            WI  ...   \n",
       "\n",
       "                 VIOLATION.LATEST_ENFORCEMENT_ID VIOLATION.RTC_ENFORCEMENT_ID  \\\n",
       "VIOLATION.PWSID                                                                 \n",
       "WI1110274                                1300019                      1300016   \n",
       "WI1110274                                1300019                      1300016   \n",
       "WI1110274                                1200015                      1200015   \n",
       "WI1110274                                1300019                      1300016   \n",
       "WI1110274                                1200010                      1200010   \n",
       "\n",
       "                VIOLATION.RTC_DATE VIOLATION.PUBLIC_NOTIFICATION_TIER  \\\n",
       "VIOLATION.PWSID                                                         \n",
       "WI1110274               2012-10-24                                  3   \n",
       "WI1110274               2012-10-24                                  3   \n",
       "WI1110274               2012-08-21                                  2   \n",
       "WI1110274               2012-10-24                                  3   \n",
       "WI1110274               2012-03-26                                  2   \n",
       "\n",
       "                VIOLATION.ORIGINATOR_CODE VIOLATION.SAMPLE_RESULT_ID  \\\n",
       "VIOLATION.PWSID                                                        \n",
       "WI1110274                               S                        NaN   \n",
       "WI1110274                               S                        NaN   \n",
       "WI1110274                               S                        NaN   \n",
       "WI1110274                               S                        NaN   \n",
       "WI1110274                               S                        NaN   \n",
       "\n",
       "                VIOLATION.CORRECTIVE_ACTION_ID  VIOLATION.RULE_CODE  \\\n",
       "VIOLATION.PWSID                                                       \n",
       "WI1110274                                  NaN                  310   \n",
       "WI1110274                                  NaN                  310   \n",
       "WI1110274                                  NaN                  110   \n",
       "WI1110274                                  NaN                  310   \n",
       "WI1110274                                  NaN                  110   \n",
       "\n",
       "                VIOLATION.RULE_GROUP_CODE  VIOLATION.RULE_FAMILY_CODE  \n",
       "VIOLATION.PWSID                                                        \n",
       "WI1110274                             300                         310  \n",
       "WI1110274                             300                         310  \n",
       "WI1110274                             100                         110  \n",
       "WI1110274                             300                         310  \n",
       "WI1110274                             100                         110  \n",
       "\n",
       "[5 rows x 34 columns]"
      ]
     },
     "execution_count": 310,
     "metadata": {},
     "output_type": "execute_result"
    }
   ],
   "source": [
    "violation.head()"
   ]
  },
  {
   "cell_type": "code",
   "execution_count": 311,
   "metadata": {},
   "outputs": [],
   "source": [
    "# Data will be saved in the `sanitized` folder.\n",
    "sanitized_violation_file = join(PATH_TO_DATA_FOLDER, 'sanitized', 'VIOLATION.csv')\n",
    "violation.to_csv(sanitized_violation_file, sep=\",\", encoding='utf-8', quotechar='\"')"
   ]
  },
  {
   "cell_type": "code",
   "execution_count": 322,
   "metadata": {},
   "outputs": [
    {
     "ename": "TypeError",
     "evalue": "object of type 'numpy.int64' has no len()",
     "output_type": "error",
     "traceback": [
      "\u001b[0;31m-----------------------------------------------------------\u001b[0m",
      "\u001b[0;31mTypeError\u001b[0m                 Traceback (most recent call last)",
      "\u001b[0;32m<ipython-input-322-9f628890ae06>\u001b[0m in \u001b[0;36m<module>\u001b[0;34m\u001b[0m\n\u001b[0;32m----> 1\u001b[0;31m \u001b[0mlongest_item\u001b[0m\u001b[0;34m(\u001b[0m\u001b[0mviolation\u001b[0m\u001b[0;34m[\u001b[0m\u001b[0;34m'VIOLATION.RULE_CODE'\u001b[0m\u001b[0;34m]\u001b[0m\u001b[0;34m)\u001b[0m\u001b[0;34m\u001b[0m\u001b[0;34m\u001b[0m\u001b[0m\n\u001b[0m",
      "\u001b[0;32m<ipython-input-285-63999c85a172>\u001b[0m in \u001b[0;36mlongest_item\u001b[0;34m(arr)\u001b[0m\n\u001b[1;32m      1\u001b[0m \u001b[0;32mdef\u001b[0m \u001b[0mlongest_item\u001b[0m\u001b[0;34m(\u001b[0m\u001b[0marr\u001b[0m\u001b[0;34m)\u001b[0m\u001b[0;34m:\u001b[0m\u001b[0;34m\u001b[0m\u001b[0;34m\u001b[0m\u001b[0m\n\u001b[1;32m      2\u001b[0m     \u001b[0mm\u001b[0m \u001b[0;34m=\u001b[0m \u001b[0marr\u001b[0m\u001b[0;34m[\u001b[0m\u001b[0;36m0\u001b[0m\u001b[0;34m]\u001b[0m\u001b[0;34m\u001b[0m\u001b[0;34m\u001b[0m\u001b[0m\n\u001b[0;32m----> 3\u001b[0;31m     \u001b[0ml\u001b[0m \u001b[0;34m=\u001b[0m \u001b[0mlen\u001b[0m\u001b[0;34m(\u001b[0m\u001b[0mm\u001b[0m\u001b[0;34m)\u001b[0m\u001b[0;34m\u001b[0m\u001b[0;34m\u001b[0m\u001b[0m\n\u001b[0m\u001b[1;32m      4\u001b[0m     \u001b[0;32mfor\u001b[0m \u001b[0mi\u001b[0m \u001b[0;32min\u001b[0m \u001b[0marr\u001b[0m\u001b[0;34m:\u001b[0m\u001b[0;34m\u001b[0m\u001b[0;34m\u001b[0m\u001b[0m\n\u001b[1;32m      5\u001b[0m         \u001b[0;32mif\u001b[0m \u001b[0mlen\u001b[0m\u001b[0;34m(\u001b[0m\u001b[0mi\u001b[0m\u001b[0;34m)\u001b[0m \u001b[0;34m>\u001b[0m \u001b[0ml\u001b[0m\u001b[0;34m:\u001b[0m\u001b[0;34m\u001b[0m\u001b[0;34m\u001b[0m\u001b[0m\n",
      "\u001b[0;31mTypeError\u001b[0m: object of type 'numpy.int64' has no len()"
     ]
    }
   ],
   "source": [
    "longest_item(violation['VIOLATION.RULE_CODE'])"
   ]
  },
  {
   "cell_type": "code",
   "execution_count": 332,
   "metadata": {},
   "outputs": [
    {
     "data": {
      "text/plain": [
       "array([    35,   2500,     59, ..., 205489,  13560,  13855])"
      ]
     },
     "execution_count": 332,
     "metadata": {},
     "output_type": "execute_result"
    }
   ],
   "source": [
    "violation['VIOLATION.POPULATION_SERVED_COUNT'].unique()"
   ]
  },
  {
   "cell_type": "code",
   "execution_count": null,
   "metadata": {},
   "outputs": [],
   "source": []
  }
 ],
 "metadata": {
  "kernelspec": {
   "display_name": "Python 3",
   "language": "python",
   "name": "python3"
  },
  "language_info": {
   "codemirror_mode": {
    "name": "ipython",
    "version": 3
   },
   "file_extension": ".py",
   "mimetype": "text/x-python",
   "name": "python",
   "nbconvert_exporter": "python",
   "pygments_lexer": "ipython3",
   "version": "3.7.2"
  }
 },
 "nbformat": 4,
 "nbformat_minor": 2
}
