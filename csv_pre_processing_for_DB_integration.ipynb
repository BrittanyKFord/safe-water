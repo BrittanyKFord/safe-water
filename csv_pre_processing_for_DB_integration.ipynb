{
 "cells": [
  {
   "cell_type": "markdown",
   "metadata": {},
   "source": [
    "# Explore CSV files and format fields to streamline the integration in a SQL DB"
   ]
  },
  {
   "cell_type": "markdown",
   "metadata": {},
   "source": [
    "Most date fields in our csv are not formatted in the way MySQL expect to find them (_expected format is `YYYY-MM-DD`_). Some pre-processing is required.\n",
    "\n",
    "**Note**: all the table from the original archive contain a comma at the end of the header. This mess up with `pandas` and other data wrangling tool. I copied the original data in files prefix with `DG_` that I use below to process the dates. _e.g._ `WATER-SYSTEM.csv` becomes `DG_WATER_SYSTEM.csv` with a first header row which DOES NOT terminate by a comma."
   ]
  },
  {
   "cell_type": "code",
   "execution_count": 57,
   "metadata": {},
   "outputs": [],
   "source": [
    "from os.path import join\n",
    "\n",
    "import pandas as pd\n",
    "from datetime import datetime as dt"
   ]
  },
  {
   "cell_type": "markdown",
   "metadata": {},
   "source": [
    "**Important**: Update the global variable below with the absolute path to the folder containing all the csv files."
   ]
  },
  {
   "cell_type": "code",
   "execution_count": 97,
   "metadata": {},
   "outputs": [],
   "source": [
    "PATH_TO_DATA_FOLDER = \"/Users/fpaupier/projects/safe-water/data/SDWIS/\""
   ]
  },
  {
   "cell_type": "markdown",
   "metadata": {},
   "source": [
    "## `WATER_SYSTEM` table"
   ]
  },
  {
   "cell_type": "markdown",
   "metadata": {},
   "source": [
    "There are 5 dates fields in this table. With two types of formatting:\n",
    "\n",
    "1. Date formatted in `dd-mm-yy` _e.g `01-JUN-83` for June 1, 1983_. Fields encoded with this date format are:\n",
    "    - `OUTSTANDING_PERFORM_BEGIN_DATE`\n",
    "    - `PWS_DEACTIVATION_DATE`\n",
    "    - `SOURCE_PROTECTION_BEGIN_DATE`\n",
    "    \n",
    "    Note that this formatting is ambiguous about the year. \n",
    "    --> Dates fromatted that way will be converted to the MySQL friendly date format `YYY-MM-DD`.\n",
    "    \n",
    "    \n",
    "2. Dates are also formatted with the `MM-DD` format, fields encoded that way are:\n",
    "     - `SEASON_BEGIN_DATE` formatted in `MM-DD`\n",
    "     - `SEASON_END_DATE` formatted in `MM-DD`\n",
    "     \n",
    "     Note that those dates inform on year-recurring events, they occur every years. We keep them as raw text fields. Fine grained processing of those dates will be done by consumers applications.\n",
    "     \n"
   ]
  },
  {
   "cell_type": "markdown",
   "metadata": {},
   "source": [
    "## Load and format data"
   ]
  },
  {
   "cell_type": "code",
   "execution_count": 83,
   "metadata": {},
   "outputs": [],
   "source": [
    "OUTSTANDING_PERFORM_BEGIN_DATE_idx = 44\n",
    "PWS_DEACTIVATION_DATE_idx = 8\n",
    "SOURCE_PROTECTION_BEGIN_DATE_idx = 42"
   ]
  },
  {
   "cell_type": "code",
   "execution_count": 126,
   "metadata": {
    "scrolled": true
   },
   "outputs": [
    {
     "name": "stderr",
     "output_type": "stream",
     "text": [
      "/Users/fpaupier/.envs/safe-water/lib/python3.7/site-packages/IPython/core/interactiveshell.py:3049: DtypeWarning: Columns (11) have mixed types. Specify dtype option on import or set low_memory=False.\n",
      "  interactivity=interactivity, compiler=compiler, result=result)\n"
     ]
    }
   ],
   "source": [
    "df = pd.read_csv(join(PATH_TO_DATA_FOLDER, \"DG_WATER_SYSTEM.csv\"), sep=\",\", header=0, parse_dates=[PWS_DEACTIVATION_DATE_idx, SOURCE_PROTECTION_BEGIN_DATE_idx, OUTSTANDING_PERFORM_BEGIN_DATE_idx])\n",
    "\n"
   ]
  },
  {
   "cell_type": "code",
   "execution_count": 128,
   "metadata": {
    "scrolled": false
   },
   "outputs": [
    {
     "data": {
      "text/html": [
       "<div>\n",
       "<style scoped>\n",
       "    .dataframe tbody tr th:only-of-type {\n",
       "        vertical-align: middle;\n",
       "    }\n",
       "\n",
       "    .dataframe tbody tr th {\n",
       "        vertical-align: top;\n",
       "    }\n",
       "\n",
       "    .dataframe thead th {\n",
       "        text-align: right;\n",
       "    }\n",
       "</style>\n",
       "<table border=\"1\" class=\"dataframe\">\n",
       "  <thead>\n",
       "    <tr style=\"text-align: right;\">\n",
       "      <th></th>\n",
       "      <th>WATER_SYSTEM.PWSID</th>\n",
       "      <th>WATER_SYSTEM.PWS_NAME</th>\n",
       "      <th>WATER_SYSTEM.NPM_CANDIDATE</th>\n",
       "      <th>WATER_SYSTEM.PRIMACY_AGENCY_CODE</th>\n",
       "      <th>WATER_SYSTEM.EPA_REGION</th>\n",
       "      <th>WATER_SYSTEM.SEASON_BEGIN_DATE</th>\n",
       "      <th>WATER_SYSTEM.SEASON_END_DATE</th>\n",
       "      <th>WATER_SYSTEM.PWS_ACTIVITY_CODE</th>\n",
       "      <th>WATER_SYSTEM.PWS_DEACTIVATION_DATE</th>\n",
       "      <th>WATER_SYSTEM.PWS_TYPE_CODE</th>\n",
       "      <th>...</th>\n",
       "      <th>WATER_SYSTEM.CITY_NAME</th>\n",
       "      <th>WATER_SYSTEM.ZIP_CODE</th>\n",
       "      <th>WATER_SYSTEM.COUNTRY_CODE</th>\n",
       "      <th>WATER_SYSTEM.STATE_CODE</th>\n",
       "      <th>WATER_SYSTEM.SOURCE_WATER_PROTECTION_CODE</th>\n",
       "      <th>WATER_SYSTEM.SOURCE_PROTECTION_BEGIN_DATE</th>\n",
       "      <th>WATER_SYSTEM.OUTSTANDING_PERFORMER</th>\n",
       "      <th>WATER_SYSTEM.OUTSTANDING_PERFORM_BEGIN_DATE</th>\n",
       "      <th>WATER_SYSTEM.CITIES_SERVED</th>\n",
       "      <th>WATER_SYSTEM.COUNTIES_SERVED</th>\n",
       "    </tr>\n",
       "  </thead>\n",
       "  <tbody>\n",
       "    <tr>\n",
       "      <th>0</th>\n",
       "      <td>AR1900063</td>\n",
       "      <td>USCOE BSWP118 PONTIAC</td>\n",
       "      <td>N</td>\n",
       "      <td>AR</td>\n",
       "      <td>6</td>\n",
       "      <td>01-01</td>\n",
       "      <td>12-31</td>\n",
       "      <td>I</td>\n",
       "      <td>1983-06-01</td>\n",
       "      <td>TNCWS</td>\n",
       "      <td>...</td>\n",
       "      <td>LITTLE ROCK</td>\n",
       "      <td>72203</td>\n",
       "      <td>US</td>\n",
       "      <td>AR</td>\n",
       "      <td>NaN</td>\n",
       "      <td>NaT</td>\n",
       "      <td>NaN</td>\n",
       "      <td>NaT</td>\n",
       "      <td>Not Reported</td>\n",
       "      <td>Marion</td>\n",
       "    </tr>\n",
       "    <tr>\n",
       "      <th>1</th>\n",
       "      <td>AR1900071</td>\n",
       "      <td>USCOE BSWP126 HIGHWAY K</td>\n",
       "      <td>N</td>\n",
       "      <td>AR</td>\n",
       "      <td>6</td>\n",
       "      <td>01-01</td>\n",
       "      <td>12-31</td>\n",
       "      <td>I</td>\n",
       "      <td>1983-06-01</td>\n",
       "      <td>TNCWS</td>\n",
       "      <td>...</td>\n",
       "      <td>LITTLE ROCK</td>\n",
       "      <td>72203</td>\n",
       "      <td>US</td>\n",
       "      <td>AR</td>\n",
       "      <td>NaN</td>\n",
       "      <td>NaT</td>\n",
       "      <td>NaN</td>\n",
       "      <td>NaT</td>\n",
       "      <td>Not Reported</td>\n",
       "      <td>Marion</td>\n",
       "    </tr>\n",
       "    <tr>\n",
       "      <th>2</th>\n",
       "      <td>AR1900072</td>\n",
       "      <td>USCOE BSW127 LOWERY</td>\n",
       "      <td>N</td>\n",
       "      <td>AR</td>\n",
       "      <td>6</td>\n",
       "      <td>01-01</td>\n",
       "      <td>12-31</td>\n",
       "      <td>I</td>\n",
       "      <td>1983-06-01</td>\n",
       "      <td>TNCWS</td>\n",
       "      <td>...</td>\n",
       "      <td>LITTLE ROCK</td>\n",
       "      <td>72203</td>\n",
       "      <td>US</td>\n",
       "      <td>AR</td>\n",
       "      <td>NaN</td>\n",
       "      <td>NaT</td>\n",
       "      <td>NaN</td>\n",
       "      <td>NaT</td>\n",
       "      <td>Not Reported</td>\n",
       "      <td>Marion</td>\n",
       "    </tr>\n",
       "    <tr>\n",
       "      <th>3</th>\n",
       "      <td>AR1900075</td>\n",
       "      <td>USCOE GFW02 DAM SITE</td>\n",
       "      <td>N</td>\n",
       "      <td>AR</td>\n",
       "      <td>6</td>\n",
       "      <td>01-01</td>\n",
       "      <td>12-31</td>\n",
       "      <td>I</td>\n",
       "      <td>1983-06-01</td>\n",
       "      <td>TNCWS</td>\n",
       "      <td>...</td>\n",
       "      <td>LITTLE ROCK</td>\n",
       "      <td>72203</td>\n",
       "      <td>US</td>\n",
       "      <td>AR</td>\n",
       "      <td>NaN</td>\n",
       "      <td>NaT</td>\n",
       "      <td>NaN</td>\n",
       "      <td>NaT</td>\n",
       "      <td>Not Reported</td>\n",
       "      <td>Cleburne</td>\n",
       "    </tr>\n",
       "    <tr>\n",
       "      <th>4</th>\n",
       "      <td>AR1900076</td>\n",
       "      <td>USCOE GFW03 DAM SITE</td>\n",
       "      <td>N</td>\n",
       "      <td>AR</td>\n",
       "      <td>6</td>\n",
       "      <td>01-01</td>\n",
       "      <td>12-31</td>\n",
       "      <td>I</td>\n",
       "      <td>1983-06-01</td>\n",
       "      <td>TNCWS</td>\n",
       "      <td>...</td>\n",
       "      <td>LITTLE ROCK</td>\n",
       "      <td>72203</td>\n",
       "      <td>US</td>\n",
       "      <td>AR</td>\n",
       "      <td>NaN</td>\n",
       "      <td>NaT</td>\n",
       "      <td>NaN</td>\n",
       "      <td>NaT</td>\n",
       "      <td>Not Reported</td>\n",
       "      <td>Cleburne</td>\n",
       "    </tr>\n",
       "  </tbody>\n",
       "</table>\n",
       "<p>5 rows × 47 columns</p>\n",
       "</div>"
      ],
      "text/plain": [
       "  WATER_SYSTEM.PWSID    WATER_SYSTEM.PWS_NAME WATER_SYSTEM.NPM_CANDIDATE  \\\n",
       "0          AR1900063    USCOE BSWP118 PONTIAC                          N   \n",
       "1          AR1900071  USCOE BSWP126 HIGHWAY K                          N   \n",
       "2          AR1900072      USCOE BSW127 LOWERY                          N   \n",
       "3          AR1900075     USCOE GFW02 DAM SITE                          N   \n",
       "4          AR1900076     USCOE GFW03 DAM SITE                          N   \n",
       "\n",
       "  WATER_SYSTEM.PRIMACY_AGENCY_CODE  WATER_SYSTEM.EPA_REGION  \\\n",
       "0                               AR                        6   \n",
       "1                               AR                        6   \n",
       "2                               AR                        6   \n",
       "3                               AR                        6   \n",
       "4                               AR                        6   \n",
       "\n",
       "  WATER_SYSTEM.SEASON_BEGIN_DATE WATER_SYSTEM.SEASON_END_DATE  \\\n",
       "0                          01-01                        12-31   \n",
       "1                          01-01                        12-31   \n",
       "2                          01-01                        12-31   \n",
       "3                          01-01                        12-31   \n",
       "4                          01-01                        12-31   \n",
       "\n",
       "  WATER_SYSTEM.PWS_ACTIVITY_CODE WATER_SYSTEM.PWS_DEACTIVATION_DATE  \\\n",
       "0                              I                         1983-06-01   \n",
       "1                              I                         1983-06-01   \n",
       "2                              I                         1983-06-01   \n",
       "3                              I                         1983-06-01   \n",
       "4                              I                         1983-06-01   \n",
       "\n",
       "  WATER_SYSTEM.PWS_TYPE_CODE  ...  WATER_SYSTEM.CITY_NAME  \\\n",
       "0                      TNCWS  ...             LITTLE ROCK   \n",
       "1                      TNCWS  ...             LITTLE ROCK   \n",
       "2                      TNCWS  ...             LITTLE ROCK   \n",
       "3                      TNCWS  ...             LITTLE ROCK   \n",
       "4                      TNCWS  ...             LITTLE ROCK   \n",
       "\n",
       "  WATER_SYSTEM.ZIP_CODE WATER_SYSTEM.COUNTRY_CODE  WATER_SYSTEM.STATE_CODE  \\\n",
       "0                 72203                        US                       AR   \n",
       "1                 72203                        US                       AR   \n",
       "2                 72203                        US                       AR   \n",
       "3                 72203                        US                       AR   \n",
       "4                 72203                        US                       AR   \n",
       "\n",
       "  WATER_SYSTEM.SOURCE_WATER_PROTECTION_CODE  \\\n",
       "0                                       NaN   \n",
       "1                                       NaN   \n",
       "2                                       NaN   \n",
       "3                                       NaN   \n",
       "4                                       NaN   \n",
       "\n",
       "   WATER_SYSTEM.SOURCE_PROTECTION_BEGIN_DATE  \\\n",
       "0                                        NaT   \n",
       "1                                        NaT   \n",
       "2                                        NaT   \n",
       "3                                        NaT   \n",
       "4                                        NaT   \n",
       "\n",
       "   WATER_SYSTEM.OUTSTANDING_PERFORMER  \\\n",
       "0                                 NaN   \n",
       "1                                 NaN   \n",
       "2                                 NaN   \n",
       "3                                 NaN   \n",
       "4                                 NaN   \n",
       "\n",
       "   WATER_SYSTEM.OUTSTANDING_PERFORM_BEGIN_DATE  WATER_SYSTEM.CITIES_SERVED  \\\n",
       "0                                          NaT                Not Reported   \n",
       "1                                          NaT                Not Reported   \n",
       "2                                          NaT                Not Reported   \n",
       "3                                          NaT                Not Reported   \n",
       "4                                          NaT                Not Reported   \n",
       "\n",
       "   WATER_SYSTEM.COUNTIES_SERVED  \n",
       "0                        Marion  \n",
       "1                        Marion  \n",
       "2                        Marion  \n",
       "3                      Cleburne  \n",
       "4                      Cleburne  \n",
       "\n",
       "[5 rows x 47 columns]"
      ]
     },
     "execution_count": 128,
     "metadata": {},
     "output_type": "execute_result"
    }
   ],
   "source": [
    "df.head()"
   ]
  },
  {
   "cell_type": "markdown",
   "metadata": {},
   "source": [
    "### Sanitize booleans\n",
    "The fields `IS_GRANT_ELIGIBLE_IND`, `IS_WHOLESALER_IND` and `IS_SCHOOL_OR_DAYCARE_IND` are text values `N` or `Y`. They should be casted as `Booleans` in the database to allow easily expressed queries."
   ]
  },
  {
   "cell_type": "code",
   "execution_count": 129,
   "metadata": {
    "scrolled": true
   },
   "outputs": [
    {
     "data": {
      "text/plain": [
       "array(['N', 'Y'], dtype=object)"
      ]
     },
     "execution_count": 129,
     "metadata": {},
     "output_type": "execute_result"
    }
   ],
   "source": [
    "df['WATER_SYSTEM.IS_GRANT_ELIGIBLE_IND'].dropna().unique()"
   ]
  },
  {
   "cell_type": "code",
   "execution_count": 130,
   "metadata": {
    "scrolled": true
   },
   "outputs": [
    {
     "data": {
      "text/plain": [
       "array(['N', 'Y'], dtype=object)"
      ]
     },
     "execution_count": 130,
     "metadata": {},
     "output_type": "execute_result"
    }
   ],
   "source": [
    "df['WATER_SYSTEM.IS_WHOLESALER_IND'].dropna().unique()"
   ]
  },
  {
   "cell_type": "code",
   "execution_count": 131,
   "metadata": {
    "scrolled": true
   },
   "outputs": [
    {
     "data": {
      "text/plain": [
       "array(['N', 'Y'], dtype=object)"
      ]
     },
     "execution_count": 131,
     "metadata": {},
     "output_type": "execute_result"
    }
   ],
   "source": [
    "df['WATER_SYSTEM.IS_SCHOOL_OR_DAYCARE_IND'].dropna().unique()"
   ]
  },
  {
   "cell_type": "markdown",
   "metadata": {},
   "source": [
    "### Perform sanitization\n",
    "\n",
    "Map `N` to `False` and `Y` to `True`."
   ]
  },
  {
   "cell_type": "code",
   "execution_count": 132,
   "metadata": {},
   "outputs": [],
   "source": [
    "df['WATER_SYSTEM.IS_GRANT_ELIGIBLE_IND'] = df['WATER_SYSTEM.IS_GRANT_ELIGIBLE_IND'].map({'N': False, 'Y': True})\n",
    "df['WATER_SYSTEM.IS_WHOLESALER_IND'] = df['WATER_SYSTEM.IS_WHOLESALER_IND'].map({'N': False, 'Y': True})\n",
    "df['WATER_SYSTEM.IS_SCHOOL_OR_DAYCARE_IND'] = df['WATER_SYSTEM.IS_SCHOOL_OR_DAYCARE_IND'].map({'N': False, 'Y': True});"
   ]
  },
  {
   "cell_type": "markdown",
   "metadata": {},
   "source": [
    "Check sanitization output:"
   ]
  },
  {
   "cell_type": "code",
   "execution_count": 133,
   "metadata": {},
   "outputs": [
    {
     "data": {
      "text/plain": [
       "array([False,  True])"
      ]
     },
     "execution_count": 133,
     "metadata": {},
     "output_type": "execute_result"
    }
   ],
   "source": [
    "df['WATER_SYSTEM.IS_GRANT_ELIGIBLE_IND'].dropna().unique()"
   ]
  },
  {
   "cell_type": "code",
   "execution_count": 134,
   "metadata": {},
   "outputs": [
    {
     "data": {
      "text/plain": [
       "array([False,  True])"
      ]
     },
     "execution_count": 134,
     "metadata": {},
     "output_type": "execute_result"
    }
   ],
   "source": [
    "df['WATER_SYSTEM.IS_WHOLESALER_IND'].dropna().unique()"
   ]
  },
  {
   "cell_type": "code",
   "execution_count": 135,
   "metadata": {},
   "outputs": [
    {
     "data": {
      "text/plain": [
       "array([False,  True])"
      ]
     },
     "execution_count": 135,
     "metadata": {},
     "output_type": "execute_result"
    }
   ],
   "source": [
    "df['WATER_SYSTEM.IS_SCHOOL_OR_DAYCARE_IND'].dropna().unique()"
   ]
  },
  {
   "cell_type": "markdown",
   "metadata": {},
   "source": [
    "## Save sanitized data"
   ]
  },
  {
   "cell_type": "markdown",
   "metadata": {},
   "source": [
    "Save the sanitized dataset in a new csv file:"
   ]
  },
  {
   "cell_type": "code",
   "execution_count": 136,
   "metadata": {},
   "outputs": [],
   "source": [
    "# Data will be saved in the `sanitized` folder.\n",
    "sanitized_csv_file = join(PATH_TO_DATA_FOLDER, 'sanitized', 'WATER_SYSTEM.csv')"
   ]
  },
  {
   "cell_type": "code",
   "execution_count": 137,
   "metadata": {},
   "outputs": [],
   "source": [
    "df.to_csv(sanitized_csv_file, sep=\",\", encoding='utf-8')\n",
    "\n"
   ]
  },
  {
   "cell_type": "code",
   "execution_count": null,
   "metadata": {},
   "outputs": [],
   "source": []
  }
 ],
 "metadata": {
  "kernelspec": {
   "display_name": "Python 3",
   "language": "python",
   "name": "python3"
  },
  "language_info": {
   "codemirror_mode": {
    "name": "ipython",
    "version": 3
   },
   "file_extension": ".py",
   "mimetype": "text/x-python",
   "name": "python",
   "nbconvert_exporter": "python",
   "pygments_lexer": "ipython3",
   "version": "3.7.2"
  }
 },
 "nbformat": 4,
 "nbformat_minor": 2
}
