{
 "cells": [
  {
   "cell_type": "markdown",
   "metadata": {},
   "source": [
    "# Bar charts of violations by state, year, contaminant code(s)"
   ]
  },
  {
   "cell_type": "code",
   "execution_count": 105,
   "metadata": {},
   "outputs": [],
   "source": [
    "import os\n",
    "import numpy as np\n",
    "import pandas as pd\n",
    "import MySQLdb\n",
    "\n",
    "%matplotlib inline\n",
    "\n",
    "data_dir = '../../../data'\n",
    "epa_dir = '../../../data/epa'"
   ]
  },
  {
   "cell_type": "markdown",
   "metadata": {},
   "source": [
    "## Connect to MySQL cloud db\n",
    "1. slack @fpaupier for db_user and password\n",
    "2.1  Download Google SDK: \n",
    "        Linux: https://cloud.google.com/sdk/docs/quickstart-linux\n",
    "        Windows: https://cloud.google.com/sdk/docs/quickstart-windows\n",
    "        macOS: https://cloud.google.com/sdk/docs/quickstart-macos\n",
    "2.2 from command line `gcloud auth login`\n",
    "2.3 from command line `gcloud init`\n",
    "3.1 install https://cloud.google.com/sql/docs/mysql/quickstart-proxy-test#install-proxy\n",
    "3.2 run sql cloud proxy ./cloud_sql_proxy -instances=safe-water-235819:us-east1:safe-water-db=tcp:3306\n",
    "4. pip install MySQLdb"
   ]
  },
  {
   "cell_type": "code",
   "execution_count": 106,
   "metadata": {},
   "outputs": [],
   "source": [
    "# Read un and pwd from local file that is not deployed!\n",
    "# first line un, second line pwd\n",
    "# Alternatively just enter un, pwd in cell below but don't check it in!\n",
    "my_settings = []\n",
    "with open(os.path.join(data_dir, 'my_settings.txt')) as f:\n",
    "    for line in f:\n",
    "        my_settings.append(line)\n",
    "un = my_settings[0].rstrip('\\n')\n",
    "pwd = my_settings[1].rstrip('\\n')"
   ]
  },
  {
   "cell_type": "code",
   "execution_count": 107,
   "metadata": {},
   "outputs": [],
   "source": [
    "db_user= un\n",
    "password= pwd\n",
    "db = MySQLdb.connect(host=\"127.0.0.1\",    # your host, usually localhost\n",
    "                     user=db_user,         # your username\n",
    "                     passwd=password,  # your password\n",
    "                     port=3306,\n",
    "                     db = 'safe_water')        # name of the data base"
   ]
  },
  {
   "cell_type": "markdown",
   "metadata": {},
   "source": [
    "## Fetch data into DataFrames"
   ]
  },
  {
   "cell_type": "code",
   "execution_count": 108,
   "metadata": {},
   "outputs": [
    {
     "data": {
      "text/html": [
       "<div>\n",
       "<style scoped>\n",
       "    .dataframe tbody tr th:only-of-type {\n",
       "        vertical-align: middle;\n",
       "    }\n",
       "\n",
       "    .dataframe tbody tr th {\n",
       "        vertical-align: top;\n",
       "    }\n",
       "\n",
       "    .dataframe thead th {\n",
       "        text-align: right;\n",
       "    }\n",
       "</style>\n",
       "<table border=\"1\" class=\"dataframe\">\n",
       "  <thead>\n",
       "    <tr style=\"text-align: right;\">\n",
       "      <th></th>\n",
       "      <th>PWSID</th>\n",
       "      <th>PWS_TYPE_CODE</th>\n",
       "      <th>STATE_CODE</th>\n",
       "    </tr>\n",
       "  </thead>\n",
       "  <tbody>\n",
       "    <tr>\n",
       "      <th>0</th>\n",
       "      <td>010106001</td>\n",
       "      <td>CWS</td>\n",
       "      <td>CT</td>\n",
       "    </tr>\n",
       "    <tr>\n",
       "      <th>1</th>\n",
       "      <td>010109001</td>\n",
       "      <td>NTNCWS</td>\n",
       "      <td>None</td>\n",
       "    </tr>\n",
       "    <tr>\n",
       "      <th>2</th>\n",
       "      <td>010109005</td>\n",
       "      <td>CWS</td>\n",
       "      <td>CT</td>\n",
       "    </tr>\n",
       "    <tr>\n",
       "      <th>3</th>\n",
       "      <td>010307001</td>\n",
       "      <td>CWS</td>\n",
       "      <td>MA</td>\n",
       "    </tr>\n",
       "    <tr>\n",
       "      <th>4</th>\n",
       "      <td>010502001</td>\n",
       "      <td>TNCWS</td>\n",
       "      <td>RI</td>\n",
       "    </tr>\n",
       "  </tbody>\n",
       "</table>\n",
       "</div>"
      ],
      "text/plain": [
       "       PWSID PWS_TYPE_CODE STATE_CODE\n",
       "0  010106001           CWS         CT\n",
       "1  010109001        NTNCWS       None\n",
       "2  010109005           CWS         CT\n",
       "3  010307001           CWS         MA\n",
       "4  010502001         TNCWS         RI"
      ]
     },
     "execution_count": 108,
     "metadata": {},
     "output_type": "execute_result"
    }
   ],
   "source": [
    "cmd = \"select PWSID, PWS_TYPE_CODE, STATE_CODE from WATER_SYSTEM\"\n",
    "water_sys = pd.read_sql(cmd, db)\n",
    "water_sys.head()"
   ]
  },
  {
   "cell_type": "code",
   "execution_count": 109,
   "metadata": {},
   "outputs": [
    {
     "data": {
      "text/html": [
       "<div>\n",
       "<style scoped>\n",
       "    .dataframe tbody tr th:only-of-type {\n",
       "        vertical-align: middle;\n",
       "    }\n",
       "\n",
       "    .dataframe tbody tr th {\n",
       "        vertical-align: top;\n",
       "    }\n",
       "\n",
       "    .dataframe thead th {\n",
       "        text-align: right;\n",
       "    }\n",
       "</style>\n",
       "<table border=\"1\" class=\"dataframe\">\n",
       "  <thead>\n",
       "    <tr style=\"text-align: right;\">\n",
       "      <th></th>\n",
       "      <th>PWSID</th>\n",
       "      <th>CONTAMINANT_CODE</th>\n",
       "      <th>COMPL_PER_BEGIN_DATE</th>\n",
       "    </tr>\n",
       "  </thead>\n",
       "  <tbody>\n",
       "    <tr>\n",
       "      <th>0</th>\n",
       "      <td>AZ0413116</td>\n",
       "      <td>1005</td>\n",
       "      <td>2009-10-01</td>\n",
       "    </tr>\n",
       "    <tr>\n",
       "      <th>1</th>\n",
       "      <td>IN2570051</td>\n",
       "      <td>3100</td>\n",
       "      <td>2009-08-01</td>\n",
       "    </tr>\n",
       "    <tr>\n",
       "      <th>2</th>\n",
       "      <td>CO0145750</td>\n",
       "      <td>4000</td>\n",
       "      <td>2013-01-01</td>\n",
       "    </tr>\n",
       "    <tr>\n",
       "      <th>3</th>\n",
       "      <td>PA4050029</td>\n",
       "      <td>700</td>\n",
       "      <td>2016-12-01</td>\n",
       "    </tr>\n",
       "    <tr>\n",
       "      <th>4</th>\n",
       "      <td>PR0457034</td>\n",
       "      <td>100</td>\n",
       "      <td>1992-10-01</td>\n",
       "    </tr>\n",
       "  </tbody>\n",
       "</table>\n",
       "</div>"
      ],
      "text/plain": [
       "       PWSID  CONTAMINANT_CODE COMPL_PER_BEGIN_DATE\n",
       "0  AZ0413116              1005           2009-10-01\n",
       "1  IN2570051              3100           2009-08-01\n",
       "2  CO0145750              4000           2013-01-01\n",
       "3  PA4050029               700           2016-12-01\n",
       "4  PR0457034               100           1992-10-01"
      ]
     },
     "execution_count": 109,
     "metadata": {},
     "output_type": "execute_result"
    }
   ],
   "source": [
    "cmd = \"select distinct PWSID, CONTAMINANT_CODE, COMPL_PER_BEGIN_DATE from VIOLATION \" \\\n",
    "    + \"where IS_HEALTH_BASED_IND = 'Y'\"\n",
    "viol = pd.read_sql(cmd, db)\n",
    "viol.head()"
   ]
  },
  {
   "cell_type": "markdown",
   "metadata": {},
   "source": [
    "## Join violations to dictionary of contaminants, to get names"
   ]
  },
  {
   "cell_type": "code",
   "execution_count": 110,
   "metadata": {},
   "outputs": [
    {
     "data": {
      "text/html": [
       "<div>\n",
       "<style scoped>\n",
       "    .dataframe tbody tr th:only-of-type {\n",
       "        vertical-align: middle;\n",
       "    }\n",
       "\n",
       "    .dataframe tbody tr th {\n",
       "        vertical-align: top;\n",
       "    }\n",
       "\n",
       "    .dataframe thead th {\n",
       "        text-align: right;\n",
       "    }\n",
       "</style>\n",
       "<table border=\"1\" class=\"dataframe\">\n",
       "  <thead>\n",
       "    <tr style=\"text-align: right;\">\n",
       "      <th></th>\n",
       "      <th>CONTAMINANT</th>\n",
       "      <th>SDWIS_CONTAMINANT_CODE</th>\n",
       "      <th>TYPE</th>\n",
       "      <th>MCL_GOAL</th>\n",
       "      <th>MCL_OR_TT</th>\n",
       "      <th>POTENTIAL_HEALTH_EFFECTS</th>\n",
       "      <th>SOURCES_OF_CONTAMINANT_IN_DRINKING_WATER</th>\n",
       "    </tr>\n",
       "  </thead>\n",
       "  <tbody>\n",
       "    <tr>\n",
       "      <th>0</th>\n",
       "      <td>Cryptosporidium</td>\n",
       "      <td>2078.0</td>\n",
       "      <td>Microorganisms</td>\n",
       "      <td>zero</td>\n",
       "      <td>TT3</td>\n",
       "      <td>Gastrointestinal illness (such as diarrhea, vo...</td>\n",
       "      <td>Human and animal fecal waste</td>\n",
       "    </tr>\n",
       "    <tr>\n",
       "      <th>1</th>\n",
       "      <td>Giardia lamblia</td>\n",
       "      <td>3008.0</td>\n",
       "      <td>Microorganisms</td>\n",
       "      <td>zero</td>\n",
       "      <td>TT3</td>\n",
       "      <td>Gastrointestinal illness (such as diarrhea, vo...</td>\n",
       "      <td>Human and animal fecal waste</td>\n",
       "    </tr>\n",
       "    <tr>\n",
       "      <th>2</th>\n",
       "      <td>Heterotrophic plate count (HPC)</td>\n",
       "      <td>3001.0</td>\n",
       "      <td>Microorganisms</td>\n",
       "      <td>NaN</td>\n",
       "      <td>TT3</td>\n",
       "      <td>HPC has no health effects; it is an analytic m...</td>\n",
       "      <td>HPC measures a range of bacteria that are natu...</td>\n",
       "    </tr>\n",
       "    <tr>\n",
       "      <th>3</th>\n",
       "      <td>Legionella</td>\n",
       "      <td>3012.0</td>\n",
       "      <td>Microorganisms</td>\n",
       "      <td>zero</td>\n",
       "      <td>TT3</td>\n",
       "      <td>Legionnaire's Disease, a type of pneumonia</td>\n",
       "      <td>Found naturally in water; multiplies in heatin...</td>\n",
       "    </tr>\n",
       "    <tr>\n",
       "      <th>4</th>\n",
       "      <td>Total Coliforms (including fecal coliform and ...</td>\n",
       "      <td>3100.0</td>\n",
       "      <td>Microorganisms</td>\n",
       "      <td>zero</td>\n",
       "      <td>5.0%4</td>\n",
       "      <td>Not a health threat in itself; it is used to i...</td>\n",
       "      <td>Coliforms are naturally present in the environ...</td>\n",
       "    </tr>\n",
       "  </tbody>\n",
       "</table>\n",
       "</div>"
      ],
      "text/plain": [
       "                                         CONTAMINANT  SDWIS_CONTAMINANT_CODE  \\\n",
       "0                                    Cryptosporidium                  2078.0   \n",
       "1                                    Giardia lamblia                  3008.0   \n",
       "2                    Heterotrophic plate count (HPC)                  3001.0   \n",
       "3                                         Legionella                  3012.0   \n",
       "4  Total Coliforms (including fecal coliform and ...                  3100.0   \n",
       "\n",
       "             TYPE MCL_GOAL MCL_OR_TT  \\\n",
       "0  Microorganisms     zero       TT3   \n",
       "1  Microorganisms     zero       TT3   \n",
       "2  Microorganisms      NaN       TT3   \n",
       "3  Microorganisms     zero       TT3   \n",
       "4  Microorganisms     zero     5.0%4   \n",
       "\n",
       "                            POTENTIAL_HEALTH_EFFECTS  \\\n",
       "0  Gastrointestinal illness (such as diarrhea, vo...   \n",
       "1  Gastrointestinal illness (such as diarrhea, vo...   \n",
       "2  HPC has no health effects; it is an analytic m...   \n",
       "3         Legionnaire's Disease, a type of pneumonia   \n",
       "4  Not a health threat in itself; it is used to i...   \n",
       "\n",
       "            SOURCES_OF_CONTAMINANT_IN_DRINKING_WATER  \n",
       "0                       Human and animal fecal waste  \n",
       "1                       Human and animal fecal waste  \n",
       "2  HPC measures a range of bacteria that are natu...  \n",
       "3  Found naturally in water; multiplies in heatin...  \n",
       "4  Coliforms are naturally present in the environ...  "
      ]
     },
     "execution_count": 110,
     "metadata": {},
     "output_type": "execute_result"
    }
   ],
   "source": [
    "drinking_water_regs = pd.read_csv(os.path.join(epa_dir, 'drinking-water-regulations.csv'), sep=',')\n",
    "drinking_water_regs.head()"
   ]
  },
  {
   "cell_type": "code",
   "execution_count": 111,
   "metadata": {},
   "outputs": [],
   "source": [
    "viol = pd.merge(viol, drinking_water_regs, left_on='CONTAMINANT_CODE', right_on='SDWIS_CONTAMINANT_CODE', how='left')\n",
    "viol = viol[['PWSID', 'CONTAMINANT_CODE', 'CONTAMINANT', 'COMPL_PER_BEGIN_DATE']].drop_duplicates()"
   ]
  },
  {
   "cell_type": "code",
   "execution_count": 112,
   "metadata": {},
   "outputs": [],
   "source": [
    "def get_year_for_violation(row):\n",
    "    if row['COMPL_PER_BEGIN_DATE'] is not None:\n",
    "        return row['COMPL_PER_BEGIN_DATE'].year\n",
    "    else:\n",
    "        return 0"
   ]
  },
  {
   "cell_type": "code",
   "execution_count": 113,
   "metadata": {},
   "outputs": [],
   "source": [
    "viol.loc[:, 'VIOLATION_YEAR'] = viol.apply(get_year_for_violation, axis=1)"
   ]
  },
  {
   "cell_type": "code",
   "execution_count": 114,
   "metadata": {},
   "outputs": [
    {
     "data": {
      "text/html": [
       "<div>\n",
       "<style scoped>\n",
       "    .dataframe tbody tr th:only-of-type {\n",
       "        vertical-align: middle;\n",
       "    }\n",
       "\n",
       "    .dataframe tbody tr th {\n",
       "        vertical-align: top;\n",
       "    }\n",
       "\n",
       "    .dataframe thead th {\n",
       "        text-align: right;\n",
       "    }\n",
       "</style>\n",
       "<table border=\"1\" class=\"dataframe\">\n",
       "  <thead>\n",
       "    <tr style=\"text-align: right;\">\n",
       "      <th></th>\n",
       "      <th>PWSID</th>\n",
       "      <th>PWS_TYPE_CODE</th>\n",
       "      <th>STATE_CODE</th>\n",
       "      <th>CONTAMINANT_CODE</th>\n",
       "      <th>CONTAMINANT</th>\n",
       "      <th>COMPL_PER_BEGIN_DATE</th>\n",
       "      <th>VIOLATION_YEAR</th>\n",
       "    </tr>\n",
       "  </thead>\n",
       "  <tbody>\n",
       "    <tr>\n",
       "      <th>0</th>\n",
       "      <td>010307001</td>\n",
       "      <td>CWS</td>\n",
       "      <td>MA</td>\n",
       "      <td>5000</td>\n",
       "      <td>NaN</td>\n",
       "      <td>2009-01-01</td>\n",
       "      <td>2009</td>\n",
       "    </tr>\n",
       "    <tr>\n",
       "      <th>1</th>\n",
       "      <td>010307001</td>\n",
       "      <td>CWS</td>\n",
       "      <td>MA</td>\n",
       "      <td>3100</td>\n",
       "      <td>Total Coliforms (including fecal coliform and ...</td>\n",
       "      <td>2011-07-01</td>\n",
       "      <td>2011</td>\n",
       "    </tr>\n",
       "    <tr>\n",
       "      <th>2</th>\n",
       "      <td>010502002</td>\n",
       "      <td>NTNCWS</td>\n",
       "      <td>RI</td>\n",
       "      <td>3100</td>\n",
       "      <td>Total Coliforms (including fecal coliform and ...</td>\n",
       "      <td>2009-08-01</td>\n",
       "      <td>2009</td>\n",
       "    </tr>\n",
       "    <tr>\n",
       "      <th>3</th>\n",
       "      <td>010502002</td>\n",
       "      <td>NTNCWS</td>\n",
       "      <td>RI</td>\n",
       "      <td>3100</td>\n",
       "      <td>Total Coliforms (including fecal coliform and ...</td>\n",
       "      <td>2009-06-01</td>\n",
       "      <td>2009</td>\n",
       "    </tr>\n",
       "    <tr>\n",
       "      <th>4</th>\n",
       "      <td>010502002</td>\n",
       "      <td>NTNCWS</td>\n",
       "      <td>RI</td>\n",
       "      <td>3100</td>\n",
       "      <td>Total Coliforms (including fecal coliform and ...</td>\n",
       "      <td>2009-07-01</td>\n",
       "      <td>2009</td>\n",
       "    </tr>\n",
       "  </tbody>\n",
       "</table>\n",
       "</div>"
      ],
      "text/plain": [
       "       PWSID PWS_TYPE_CODE STATE_CODE  CONTAMINANT_CODE  \\\n",
       "0  010307001           CWS         MA              5000   \n",
       "1  010307001           CWS         MA              3100   \n",
       "2  010502002        NTNCWS         RI              3100   \n",
       "3  010502002        NTNCWS         RI              3100   \n",
       "4  010502002        NTNCWS         RI              3100   \n",
       "\n",
       "                                         CONTAMINANT COMPL_PER_BEGIN_DATE  \\\n",
       "0                                                NaN           2009-01-01   \n",
       "1  Total Coliforms (including fecal coliform and ...           2011-07-01   \n",
       "2  Total Coliforms (including fecal coliform and ...           2009-08-01   \n",
       "3  Total Coliforms (including fecal coliform and ...           2009-06-01   \n",
       "4  Total Coliforms (including fecal coliform and ...           2009-07-01   \n",
       "\n",
       "   VIOLATION_YEAR  \n",
       "0            2009  \n",
       "1            2011  \n",
       "2            2009  \n",
       "3            2009  \n",
       "4            2009  "
      ]
     },
     "execution_count": 114,
     "metadata": {},
     "output_type": "execute_result"
    }
   ],
   "source": [
    "water_sys_viol = pd.merge(water_sys, viol, on='PWSID')\n",
    "water_sys_viol.head()"
   ]
  },
  {
   "cell_type": "code",
   "execution_count": 115,
   "metadata": {},
   "outputs": [],
   "source": [
    "# df: water system violation dataframe\n",
    "# state: two letter code\n",
    "# contaminant_codes: enter empty array for all\n",
    "def get_num_violations(df, state, min_year, max_year, contaminant_codes=[]):\n",
    "    if len(contaminant_codes) > 0:\n",
    "        return df[(df['STATE_CODE']==state) & \\\n",
    "                  (df['VIOLATION_YEAR'] >= min_year) & \\\n",
    "                  (df['VIOLATION_YEAR'] <= max_year) & \\\n",
    "                  (df['CONTAMINANT_CODE'].isin(contaminant_codes))\n",
    "                 ].groupby(['CONTAMINANT', 'VIOLATION_YEAR'])\n",
    "    else:\n",
    "        return df[(df['STATE_CODE']==state) & \\\n",
    "                  (df['VIOLATION_YEAR'] >= min_year) & \\\n",
    "                  (df['VIOLATION_YEAR'] <= max_year)\n",
    "                 ].groupby(['CONTAMINANT', 'VIOLATION_YEAR'])"
   ]
  },
  {
   "cell_type": "markdown",
   "metadata": {},
   "source": [
    "\n",
    "## Plot number of violations on a bar chart"
   ]
  },
  {
   "cell_type": "code",
   "execution_count": 116,
   "metadata": {},
   "outputs": [
    {
     "data": {
      "image/png": "[encoded data removed]",
      "text/plain": [
       "<Figure size 1800x1080 with 1 Axes>"
      ]
     },
     "metadata": {
      "needs_background": "light"
     },
     "output_type": "display_data"
    }
   ],
   "source": [
    "# Violations in the state of NY between 2008 and 2018\n",
    "contaminant_codes = [1022, 1030] # pass this optionally to filter by contaminant\n",
    "df = get_num_violations(water_sys_viol, 'NY', 2008, 2018)\n",
    "s1 = df.size()\n",
    "\n",
    "if len(s1.index) > 0:\n",
    "    df3 = s1.unstack()\n",
    "    df3.T.plot.bar(stacked=True, figsize = (25,15), title='Number of violations', fontsize=14)\n",
    "else:\n",
    "    print ('No data to chart')"
   ]
  },
  {
   "cell_type": "code",
   "execution_count": null,
   "metadata": {},
   "outputs": [],
   "source": []
  }
 ],
 "metadata": {
  "kernelspec": {
   "display_name": "Python 3",
   "language": "python",
   "name": "python3"
  },
  "language_info": {
   "codemirror_mode": {
    "name": "ipython",
    "version": 3
   },
   "file_extension": ".py",
   "mimetype": "text/x-python",
   "name": "python",
   "nbconvert_exporter": "python",
   "pygments_lexer": "ipython3",
   "version": "3.7.1"
  }
 },
 "nbformat": 4,
 "nbformat_minor": 2
}
