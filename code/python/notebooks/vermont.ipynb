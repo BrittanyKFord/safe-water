{
 "cells": [
  {
   "cell_type": "markdown",
   "metadata": {},
   "source": [
    "## Water violations in Vermont\n",
    "\n",
    "To run this notebook, load SDWIS csv data files into the folder ../../../data/sdwis/SDWIS"
   ]
  },
  {
   "cell_type": "code",
   "execution_count": 87,
   "metadata": {},
   "outputs": [],
   "source": [
    "import os\n",
    "import numpy as np\n",
    "import pandas as pd\n",
    "\n",
    "%matplotlib inline\n",
    "import matplotlib.pyplot as plt"
   ]
  },
  {
   "cell_type": "code",
   "execution_count": 88,
   "metadata": {},
   "outputs": [],
   "source": [
    "# Label data with full year, e.g., 2012 for 01-JUL-12, 1990 for 01-JUN-90\n",
    "def get_full_year(ddmmmyy):\n",
    "    full_year = 0\n",
    "    date_parts = ddmmmyy.split('-')\n",
    "    if len(date_parts) == 3:\n",
    "        if (int(date_parts[2]) <= 19):\n",
    "            full_year = int('20' + date_parts[2])\n",
    "        else:\n",
    "            full_year = int('19' + date_parts[2])\n",
    "    return full_year"
   ]
  },
  {
   "cell_type": "code",
   "execution_count": 89,
   "metadata": {},
   "outputs": [],
   "source": [
    "def get_full_year_for_row(row):\n",
    "    return get_full_year(row['VIOLATION.COMPL_PER_BEGIN_DATE'])"
   ]
  },
  {
   "cell_type": "code",
   "execution_count": 90,
   "metadata": {},
   "outputs": [],
   "source": [
    "# calculate years ago from input 'current_year'\n",
    "def get_years_ago(row, current_year):\n",
    "    row_year = get_full_year(row['VIOLATION.COMPL_PER_BEGIN_DATE'])\n",
    "    return str(current_year - row_year) + '_yrs_ago'"
   ]
  },
  {
   "cell_type": "code",
   "execution_count": 91,
   "metadata": {},
   "outputs": [],
   "source": [
    "def print_water_system_violations(water_system_df, viol_df):\n",
    "    viol_df = viol_df.merge(water_system_df, left_on='VIOLATION.PWSID', right_on='WATER_SYSTEM.PWSID')\n",
    "    print('# water systems: ' + str(water_system_df.shape[0]))\n",
    "    print('# violations: ' + str(viol_df.shape[0]))\n",
    "    print('# reporting violations: ' \\\n",
    "          + str(viol_df[viol_df['VIOLATION.VIOLATION_CATEGORY_CODE'] == 'MR'].shape[0]))\n",
    "    print('# health violations: ' \\\n",
    "          + str(viol_df[viol_df['VIOLATION.IS_HEALTH_BASED_IND'] == 'Y'].shape[0]))\n",
    "        "
   ]
  },
  {
   "cell_type": "code",
   "execution_count": 92,
   "metadata": {},
   "outputs": [],
   "source": [
    "# read input files\n",
    "data_dir = '../../../data'\n",
    "# print(os.listdir(data_dir))\n",
    "\n",
    "# assumes csv files are in folder ../../../data/sdwis/SDWIS\n",
    "viol = pd.read_csv(os.path.join(data_dir + '/sdwis/SDWIS', 'VIOLATION.csv'), sep=',', \\\n",
    "                  dtype={'VIOLATION.CONTAMINANT_CODE': np.str}, low_memory=False)\n",
    "water_system = pd.read_csv(os.path.join(data_dir + '/sdwis/SDWIS', 'WATER_SYSTEM.csv'), low_memory=False)"
   ]
  },
  {
   "cell_type": "code",
   "execution_count": 93,
   "metadata": {},
   "outputs": [],
   "source": [
    "viol.loc[:, 'VIOLATION.YEAR'] = viol.apply(get_full_year_for_row, axis=1)"
   ]
  },
  {
   "cell_type": "code",
   "execution_count": 94,
   "metadata": {},
   "outputs": [
    {
     "data": {
      "text/html": [
       "<div>\n",
       "<style scoped>\n",
       "    .dataframe tbody tr th:only-of-type {\n",
       "        vertical-align: middle;\n",
       "    }\n",
       "\n",
       "    .dataframe tbody tr th {\n",
       "        vertical-align: top;\n",
       "    }\n",
       "\n",
       "    .dataframe thead th {\n",
       "        text-align: right;\n",
       "    }\n",
       "</style>\n",
       "<table border=\"1\" class=\"dataframe\">\n",
       "  <thead>\n",
       "    <tr style=\"text-align: right;\">\n",
       "      <th></th>\n",
       "      <th>VIOLATION.PWSID</th>\n",
       "      <th>VIOLATION.VIOLATION_ID</th>\n",
       "      <th>VIOLATION.FACILITY_ID</th>\n",
       "      <th>VIOLATION.POPULATION_SERVED_COUNT</th>\n",
       "      <th>VIOLATION.NPM_CANDIDATE</th>\n",
       "      <th>VIOLATION.PWS_ACTIVITY_CODE</th>\n",
       "      <th>VIOLATION.PWS_DEACTIVATION_DATE</th>\n",
       "      <th>VIOLATION.PRIMARY_SOURCE_CODE</th>\n",
       "      <th>VIOLATION.POP_CAT_5_CODE</th>\n",
       "      <th>VIOLATION.PRIMACY_AGENCY_CODE</th>\n",
       "      <th>...</th>\n",
       "      <th>VIOLATION.RTC_DATE</th>\n",
       "      <th>VIOLATION.PUBLIC_NOTIFICATION_TIER</th>\n",
       "      <th>VIOLATION.ORIGINATOR_CODE</th>\n",
       "      <th>VIOLATION.SAMPLE_RESULT_ID</th>\n",
       "      <th>VIOLATION.CORRECTIVE_ACTION_ID</th>\n",
       "      <th>VIOLATION.RULE_CODE</th>\n",
       "      <th>VIOLATION.RULE_GROUP_CODE</th>\n",
       "      <th>VIOLATION.RULE_FAMILY_CODE</th>\n",
       "      <th>Unnamed: 34</th>\n",
       "      <th>VIOLATION.YEAR</th>\n",
       "    </tr>\n",
       "  </thead>\n",
       "  <tbody>\n",
       "    <tr>\n",
       "      <th>54</th>\n",
       "      <td>NH2539010</td>\n",
       "      <td>1700027</td>\n",
       "      <td>NaN</td>\n",
       "      <td>1000</td>\n",
       "      <td>Y</td>\n",
       "      <td>A</td>\n",
       "      <td>NaN</td>\n",
       "      <td>GW</td>\n",
       "      <td>2</td>\n",
       "      <td>NH</td>\n",
       "      <td>...</td>\n",
       "      <td>NaN</td>\n",
       "      <td>3</td>\n",
       "      <td>S</td>\n",
       "      <td>NaN</td>\n",
       "      <td>NaN</td>\n",
       "      <td>111</td>\n",
       "      <td>100</td>\n",
       "      <td>110</td>\n",
       "      <td>NaN</td>\n",
       "      <td>2017</td>\n",
       "    </tr>\n",
       "    <tr>\n",
       "      <th>55</th>\n",
       "      <td>NH2539010</td>\n",
       "      <td>1700026</td>\n",
       "      <td>NaN</td>\n",
       "      <td>1000</td>\n",
       "      <td>Y</td>\n",
       "      <td>A</td>\n",
       "      <td>NaN</td>\n",
       "      <td>GW</td>\n",
       "      <td>2</td>\n",
       "      <td>NH</td>\n",
       "      <td>...</td>\n",
       "      <td>NaN</td>\n",
       "      <td>2</td>\n",
       "      <td>S</td>\n",
       "      <td>NaN</td>\n",
       "      <td>NaN</td>\n",
       "      <td>111</td>\n",
       "      <td>100</td>\n",
       "      <td>110</td>\n",
       "      <td>NaN</td>\n",
       "      <td>2017</td>\n",
       "    </tr>\n",
       "    <tr>\n",
       "      <th>205</th>\n",
       "      <td>NY2621115</td>\n",
       "      <td>911</td>\n",
       "      <td>NaN</td>\n",
       "      <td>120</td>\n",
       "      <td>N</td>\n",
       "      <td>A</td>\n",
       "      <td>NaN</td>\n",
       "      <td>GW</td>\n",
       "      <td>1</td>\n",
       "      <td>NY</td>\n",
       "      <td>...</td>\n",
       "      <td>20-OCT-17</td>\n",
       "      <td>3</td>\n",
       "      <td>S</td>\n",
       "      <td>NaN</td>\n",
       "      <td>NaN</td>\n",
       "      <td>500</td>\n",
       "      <td>500</td>\n",
       "      <td>500</td>\n",
       "      <td>NaN</td>\n",
       "      <td>2017</td>\n",
       "    </tr>\n",
       "    <tr>\n",
       "      <th>207</th>\n",
       "      <td>NY5507077</td>\n",
       "      <td>6617</td>\n",
       "      <td>NaN</td>\n",
       "      <td>45</td>\n",
       "      <td>N</td>\n",
       "      <td>A</td>\n",
       "      <td>NaN</td>\n",
       "      <td>GW</td>\n",
       "      <td>1</td>\n",
       "      <td>NY</td>\n",
       "      <td>...</td>\n",
       "      <td>11-MAY-17</td>\n",
       "      <td>3</td>\n",
       "      <td>S</td>\n",
       "      <td>NaN</td>\n",
       "      <td>NaN</td>\n",
       "      <td>500</td>\n",
       "      <td>500</td>\n",
       "      <td>500</td>\n",
       "      <td>NaN</td>\n",
       "      <td>2017</td>\n",
       "    </tr>\n",
       "    <tr>\n",
       "      <th>208</th>\n",
       "      <td>NY5507077</td>\n",
       "      <td>6618</td>\n",
       "      <td>NaN</td>\n",
       "      <td>45</td>\n",
       "      <td>N</td>\n",
       "      <td>A</td>\n",
       "      <td>NaN</td>\n",
       "      <td>GW</td>\n",
       "      <td>1</td>\n",
       "      <td>NY</td>\n",
       "      <td>...</td>\n",
       "      <td>NaN</td>\n",
       "      <td>3</td>\n",
       "      <td>S</td>\n",
       "      <td>NaN</td>\n",
       "      <td>NaN</td>\n",
       "      <td>111</td>\n",
       "      <td>100</td>\n",
       "      <td>110</td>\n",
       "      <td>NaN</td>\n",
       "      <td>2017</td>\n",
       "    </tr>\n",
       "  </tbody>\n",
       "</table>\n",
       "<p>5 rows × 36 columns</p>\n",
       "</div>"
      ],
      "text/plain": [
       "    VIOLATION.PWSID VIOLATION.VIOLATION_ID VIOLATION.FACILITY_ID  \\\n",
       "54        NH2539010                1700027                   NaN   \n",
       "55        NH2539010                1700026                   NaN   \n",
       "205       NY2621115                    911                   NaN   \n",
       "207       NY5507077                   6617                   NaN   \n",
       "208       NY5507077                   6618                   NaN   \n",
       "\n",
       "     VIOLATION.POPULATION_SERVED_COUNT VIOLATION.NPM_CANDIDATE  \\\n",
       "54                                1000                       Y   \n",
       "55                                1000                       Y   \n",
       "205                                120                       N   \n",
       "207                                 45                       N   \n",
       "208                                 45                       N   \n",
       "\n",
       "    VIOLATION.PWS_ACTIVITY_CODE VIOLATION.PWS_DEACTIVATION_DATE  \\\n",
       "54                            A                             NaN   \n",
       "55                            A                             NaN   \n",
       "205                           A                             NaN   \n",
       "207                           A                             NaN   \n",
       "208                           A                             NaN   \n",
       "\n",
       "    VIOLATION.PRIMARY_SOURCE_CODE  VIOLATION.POP_CAT_5_CODE  \\\n",
       "54                             GW                         2   \n",
       "55                             GW                         2   \n",
       "205                            GW                         1   \n",
       "207                            GW                         1   \n",
       "208                            GW                         1   \n",
       "\n",
       "    VIOLATION.PRIMACY_AGENCY_CODE       ...        VIOLATION.RTC_DATE  \\\n",
       "54                             NH       ...                       NaN   \n",
       "55                             NH       ...                       NaN   \n",
       "205                            NY       ...                 20-OCT-17   \n",
       "207                            NY       ...                 11-MAY-17   \n",
       "208                            NY       ...                       NaN   \n",
       "\n",
       "    VIOLATION.PUBLIC_NOTIFICATION_TIER VIOLATION.ORIGINATOR_CODE  \\\n",
       "54                                   3                         S   \n",
       "55                                   2                         S   \n",
       "205                                  3                         S   \n",
       "207                                  3                         S   \n",
       "208                                  3                         S   \n",
       "\n",
       "    VIOLATION.SAMPLE_RESULT_ID VIOLATION.CORRECTIVE_ACTION_ID  \\\n",
       "54                         NaN                            NaN   \n",
       "55                         NaN                            NaN   \n",
       "205                        NaN                            NaN   \n",
       "207                        NaN                            NaN   \n",
       "208                        NaN                            NaN   \n",
       "\n",
       "    VIOLATION.RULE_CODE VIOLATION.RULE_GROUP_CODE  VIOLATION.RULE_FAMILY_CODE  \\\n",
       "54                  111                       100                         110   \n",
       "55                  111                       100                         110   \n",
       "205                 500                       500                         500   \n",
       "207                 500                       500                         500   \n",
       "208                 111                       100                         110   \n",
       "\n",
       "    Unnamed: 34  VIOLATION.YEAR  \n",
       "54          NaN            2017  \n",
       "55          NaN            2017  \n",
       "205         NaN            2017  \n",
       "207         NaN            2017  \n",
       "208         NaN            2017  \n",
       "\n",
       "[5 rows x 36 columns]"
      ]
     },
     "execution_count": 94,
     "metadata": {},
     "output_type": "execute_result"
    }
   ],
   "source": [
    "# violations in 2017\n",
    "viol_2017 = viol[viol['VIOLATION.YEAR'] == 2017]\n",
    "viol_2017.head()"
   ]
  },
  {
   "cell_type": "code",
   "execution_count": 95,
   "metadata": {},
   "outputs": [],
   "source": [
    "# Water systems in Vermont\n",
    "water_system = water_system[(water_system['WATER_SYSTEM.STATE_CODE'] == 'VT') \\\n",
    "                            & (water_system['WATER_SYSTEM.PWS_ACTIVITY_CODE'] == 'A')]"
   ]
  },
  {
   "cell_type": "code",
   "execution_count": 96,
   "metadata": {},
   "outputs": [
    {
     "data": {
      "text/html": [
       "<div>\n",
       "<style scoped>\n",
       "    .dataframe tbody tr th:only-of-type {\n",
       "        vertical-align: middle;\n",
       "    }\n",
       "\n",
       "    .dataframe tbody tr th {\n",
       "        vertical-align: top;\n",
       "    }\n",
       "\n",
       "    .dataframe thead th {\n",
       "        text-align: right;\n",
       "    }\n",
       "</style>\n",
       "<table border=\"1\" class=\"dataframe\">\n",
       "  <thead>\n",
       "    <tr style=\"text-align: right;\">\n",
       "      <th></th>\n",
       "      <th>WATER_SYSTEM.PWSID</th>\n",
       "      <th>WATER_SYSTEM.PWS_NAME</th>\n",
       "      <th>WATER_SYSTEM.NPM_CANDIDATE</th>\n",
       "      <th>WATER_SYSTEM.PRIMACY_AGENCY_CODE</th>\n",
       "      <th>WATER_SYSTEM.EPA_REGION</th>\n",
       "      <th>WATER_SYSTEM.SEASON_BEGIN_DATE</th>\n",
       "      <th>WATER_SYSTEM.SEASON_END_DATE</th>\n",
       "      <th>WATER_SYSTEM.PWS_ACTIVITY_CODE</th>\n",
       "      <th>WATER_SYSTEM.PWS_DEACTIVATION_DATE</th>\n",
       "      <th>WATER_SYSTEM.PWS_TYPE_CODE</th>\n",
       "      <th>...</th>\n",
       "      <th>WATER_SYSTEM.ZIP_CODE</th>\n",
       "      <th>WATER_SYSTEM.COUNTRY_CODE</th>\n",
       "      <th>WATER_SYSTEM.STATE_CODE</th>\n",
       "      <th>WATER_SYSTEM.SOURCE_WATER_PROTECTION_CODE</th>\n",
       "      <th>WATER_SYSTEM.SOURCE_PROTECTION_BEGIN_DATE</th>\n",
       "      <th>WATER_SYSTEM.OUTSTANDING_PERFORMER</th>\n",
       "      <th>WATER_SYSTEM.OUTSTANDING_PERFORM_BEGIN_DATE</th>\n",
       "      <th>WATER_SYSTEM.CITIES_SERVED</th>\n",
       "      <th>WATER_SYSTEM.COUNTIES_SERVED</th>\n",
       "      <th>Unnamed: 47</th>\n",
       "    </tr>\n",
       "  </thead>\n",
       "  <tbody>\n",
       "    <tr>\n",
       "      <th>399</th>\n",
       "      <td>VT0021449</td>\n",
       "      <td>WARREN MUNICIPAL BUILDINGS</td>\n",
       "      <td>Y</td>\n",
       "      <td>VT</td>\n",
       "      <td>1</td>\n",
       "      <td>01-01</td>\n",
       "      <td>12-31</td>\n",
       "      <td>A</td>\n",
       "      <td>NaN</td>\n",
       "      <td>TNCWS</td>\n",
       "      <td>...</td>\n",
       "      <td>05674</td>\n",
       "      <td>US</td>\n",
       "      <td>VT</td>\n",
       "      <td>NaN</td>\n",
       "      <td>NaN</td>\n",
       "      <td>NaN</td>\n",
       "      <td>NaN</td>\n",
       "      <td>WARREN</td>\n",
       "      <td>Washington</td>\n",
       "      <td>NaN</td>\n",
       "    </tr>\n",
       "    <tr>\n",
       "      <th>400</th>\n",
       "      <td>VT0020397</td>\n",
       "      <td>CATAMOUNT CHARLOTTE</td>\n",
       "      <td>Y</td>\n",
       "      <td>VT</td>\n",
       "      <td>1</td>\n",
       "      <td>01-01</td>\n",
       "      <td>12-31</td>\n",
       "      <td>A</td>\n",
       "      <td>NaN</td>\n",
       "      <td>NTNCWS</td>\n",
       "      <td>...</td>\n",
       "      <td>05401</td>\n",
       "      <td>US</td>\n",
       "      <td>VT</td>\n",
       "      <td>N</td>\n",
       "      <td>NaN</td>\n",
       "      <td>NaN</td>\n",
       "      <td>NaN</td>\n",
       "      <td>CHARLOTTE</td>\n",
       "      <td>Chittenden</td>\n",
       "      <td>NaN</td>\n",
       "    </tr>\n",
       "    <tr>\n",
       "      <th>1392</th>\n",
       "      <td>NY0412272</td>\n",
       "      <td>COUNTRY CLUB HOMES</td>\n",
       "      <td>Y</td>\n",
       "      <td>NY</td>\n",
       "      <td>2</td>\n",
       "      <td>NaN</td>\n",
       "      <td>NaN</td>\n",
       "      <td>A</td>\n",
       "      <td>NaN</td>\n",
       "      <td>CWS</td>\n",
       "      <td>...</td>\n",
       "      <td>05855</td>\n",
       "      <td>US</td>\n",
       "      <td>VT</td>\n",
       "      <td>Y</td>\n",
       "      <td>23-JUN-09</td>\n",
       "      <td>NaN</td>\n",
       "      <td>NaN</td>\n",
       "      <td>MACHIAS (T)</td>\n",
       "      <td>Cattaraugus</td>\n",
       "      <td>NaN</td>\n",
       "    </tr>\n",
       "    <tr>\n",
       "      <th>2088</th>\n",
       "      <td>VT0005051</td>\n",
       "      <td>BOLTON COMMUNITY WATER SYSTEM</td>\n",
       "      <td>Y</td>\n",
       "      <td>VT</td>\n",
       "      <td>1</td>\n",
       "      <td>NaN</td>\n",
       "      <td>NaN</td>\n",
       "      <td>A</td>\n",
       "      <td>NaN</td>\n",
       "      <td>CWS</td>\n",
       "      <td>...</td>\n",
       "      <td>05477</td>\n",
       "      <td>US</td>\n",
       "      <td>VT</td>\n",
       "      <td>N</td>\n",
       "      <td>NaN</td>\n",
       "      <td>NaN</td>\n",
       "      <td>NaN</td>\n",
       "      <td>BOLTON</td>\n",
       "      <td>Chittenden</td>\n",
       "      <td>NaN</td>\n",
       "    </tr>\n",
       "    <tr>\n",
       "      <th>2360</th>\n",
       "      <td>VT0021296</td>\n",
       "      <td>MAXFIELD SPORTS FIELDS</td>\n",
       "      <td>Y</td>\n",
       "      <td>VT</td>\n",
       "      <td>1</td>\n",
       "      <td>04-01</td>\n",
       "      <td>11-30</td>\n",
       "      <td>A</td>\n",
       "      <td>NaN</td>\n",
       "      <td>TNCWS</td>\n",
       "      <td>...</td>\n",
       "      <td>05001</td>\n",
       "      <td>US</td>\n",
       "      <td>VT</td>\n",
       "      <td>N</td>\n",
       "      <td>NaN</td>\n",
       "      <td>N</td>\n",
       "      <td>NaN</td>\n",
       "      <td>HARTFORD</td>\n",
       "      <td>Windsor</td>\n",
       "      <td>NaN</td>\n",
       "    </tr>\n",
       "  </tbody>\n",
       "</table>\n",
       "<p>5 rows × 48 columns</p>\n",
       "</div>"
      ],
      "text/plain": [
       "     WATER_SYSTEM.PWSID          WATER_SYSTEM.PWS_NAME  \\\n",
       "399           VT0021449     WARREN MUNICIPAL BUILDINGS   \n",
       "400           VT0020397            CATAMOUNT CHARLOTTE   \n",
       "1392          NY0412272             COUNTRY CLUB HOMES   \n",
       "2088          VT0005051  BOLTON COMMUNITY WATER SYSTEM   \n",
       "2360          VT0021296         MAXFIELD SPORTS FIELDS   \n",
       "\n",
       "     WATER_SYSTEM.NPM_CANDIDATE WATER_SYSTEM.PRIMACY_AGENCY_CODE  \\\n",
       "399                           Y                               VT   \n",
       "400                           Y                               VT   \n",
       "1392                          Y                               NY   \n",
       "2088                          Y                               VT   \n",
       "2360                          Y                               VT   \n",
       "\n",
       "      WATER_SYSTEM.EPA_REGION WATER_SYSTEM.SEASON_BEGIN_DATE  \\\n",
       "399                         1                          01-01   \n",
       "400                         1                          01-01   \n",
       "1392                        2                            NaN   \n",
       "2088                        1                            NaN   \n",
       "2360                        1                          04-01   \n",
       "\n",
       "     WATER_SYSTEM.SEASON_END_DATE WATER_SYSTEM.PWS_ACTIVITY_CODE  \\\n",
       "399                         12-31                              A   \n",
       "400                         12-31                              A   \n",
       "1392                          NaN                              A   \n",
       "2088                          NaN                              A   \n",
       "2360                        11-30                              A   \n",
       "\n",
       "     WATER_SYSTEM.PWS_DEACTIVATION_DATE WATER_SYSTEM.PWS_TYPE_CODE  \\\n",
       "399                                 NaN                      TNCWS   \n",
       "400                                 NaN                     NTNCWS   \n",
       "1392                                NaN                        CWS   \n",
       "2088                                NaN                        CWS   \n",
       "2360                                NaN                      TNCWS   \n",
       "\n",
       "         ...       WATER_SYSTEM.ZIP_CODE WATER_SYSTEM.COUNTRY_CODE  \\\n",
       "399      ...                       05674                        US   \n",
       "400      ...                       05401                        US   \n",
       "1392     ...                       05855                        US   \n",
       "2088     ...                       05477                        US   \n",
       "2360     ...                       05001                        US   \n",
       "\n",
       "     WATER_SYSTEM.STATE_CODE  WATER_SYSTEM.SOURCE_WATER_PROTECTION_CODE  \\\n",
       "399                       VT                                        NaN   \n",
       "400                       VT                                          N   \n",
       "1392                      VT                                          Y   \n",
       "2088                      VT                                          N   \n",
       "2360                      VT                                          N   \n",
       "\n",
       "     WATER_SYSTEM.SOURCE_PROTECTION_BEGIN_DATE  \\\n",
       "399                                        NaN   \n",
       "400                                        NaN   \n",
       "1392                                 23-JUN-09   \n",
       "2088                                       NaN   \n",
       "2360                                       NaN   \n",
       "\n",
       "      WATER_SYSTEM.OUTSTANDING_PERFORMER  \\\n",
       "399                                  NaN   \n",
       "400                                  NaN   \n",
       "1392                                 NaN   \n",
       "2088                                 NaN   \n",
       "2360                                   N   \n",
       "\n",
       "      WATER_SYSTEM.OUTSTANDING_PERFORM_BEGIN_DATE  WATER_SYSTEM.CITIES_SERVED  \\\n",
       "399                                           NaN                      WARREN   \n",
       "400                                           NaN                   CHARLOTTE   \n",
       "1392                                          NaN                 MACHIAS (T)   \n",
       "2088                                          NaN                      BOLTON   \n",
       "2360                                          NaN                    HARTFORD   \n",
       "\n",
       "      WATER_SYSTEM.COUNTIES_SERVED  Unnamed: 47  \n",
       "399                     Washington          NaN  \n",
       "400                     Chittenden          NaN  \n",
       "1392                   Cattaraugus          NaN  \n",
       "2088                    Chittenden          NaN  \n",
       "2360                       Windsor          NaN  \n",
       "\n",
       "[5 rows x 48 columns]"
      ]
     },
     "execution_count": 96,
     "metadata": {},
     "output_type": "execute_result"
    }
   ],
   "source": [
    "water_system.head()"
   ]
  },
  {
   "cell_type": "code",
   "execution_count": 97,
   "metadata": {},
   "outputs": [
    {
     "data": {
      "text/plain": [
       "array(['TNCWS', 'NTNCWS', 'CWS'], dtype=object)"
      ]
     },
     "execution_count": 97,
     "metadata": {},
     "output_type": "execute_result"
    }
   ],
   "source": [
    "water_system['WATER_SYSTEM.PWS_TYPE_CODE'].unique()"
   ]
  },
  {
   "cell_type": "code",
   "execution_count": 98,
   "metadata": {
    "scrolled": true
   },
   "outputs": [
    {
     "data": {
      "text/plain": [
       "WATER_SYSTEM.PWS_TYPE_CODE\n",
       "CWS       399\n",
       "NTNCWS    248\n",
       "TNCWS     721\n",
       "dtype: int64"
      ]
     },
     "execution_count": 98,
     "metadata": {},
     "output_type": "execute_result"
    }
   ],
   "source": [
    "# Water systems by type\n",
    "water_system.groupby(['WATER_SYSTEM.PWS_TYPE_CODE']).size()"
   ]
  },
  {
   "cell_type": "code",
   "execution_count": 99,
   "metadata": {},
   "outputs": [
    {
     "data": {
      "text/plain": [
       "array(['RPT', 'TT', 'Other', 'MON', 'MR', 'MCL', 'MRDL'], dtype=object)"
      ]
     },
     "execution_count": 99,
     "metadata": {},
     "output_type": "execute_result"
    }
   ],
   "source": [
    "# https://ofmpub.epa.gov/enviro/EF_METADATA_HTML.sdwis_page?p_column_name=VIOLATION_CATEGORY_CODE\n",
    "# is 'RPT' also a reporting violation?\n",
    "viol_2017['VIOLATION.VIOLATION_CATEGORY_CODE'].unique()"
   ]
  },
  {
   "cell_type": "code",
   "execution_count": 100,
   "metadata": {},
   "outputs": [
    {
     "name": "stdout",
     "output_type": "stream",
     "text": [
      "All water systems\n",
      "# water systems: 1368\n",
      "# violations: 1455\n",
      "# reporting violations: 1090\n",
      "# health violations: 36\n"
     ]
    }
   ],
   "source": [
    "print('All water systems')\n",
    "print_water_system_violations(water_system, viol_2017)"
   ]
  },
  {
   "cell_type": "code",
   "execution_count": 101,
   "metadata": {},
   "outputs": [
    {
     "name": "stdout",
     "output_type": "stream",
     "text": [
      "Water systems serving 3300 or fewer\n",
      "# water systems: 1336\n",
      "# violations: 1441\n",
      "# reporting violations: 1078\n",
      "# health violations: 36\n"
     ]
    }
   ],
   "source": [
    "print('Water systems serving 3300 or fewer')\n",
    "water_system_lt_3300 = water_system[water_system['WATER_SYSTEM.POPULATION_SERVED_COUNT'] <= 3300]\n",
    "print_water_system_violations(water_system_lt_3300, viol_2017)"
   ]
  },
  {
   "cell_type": "code",
   "execution_count": 102,
   "metadata": {},
   "outputs": [
    {
     "name": "stdout",
     "output_type": "stream",
     "text": [
      "Water systems serving 500 or fewer\n",
      "# water systems: 1204\n",
      "# violations: 1238\n",
      "# reporting violations: 890\n",
      "# health violations: 35\n"
     ]
    }
   ],
   "source": [
    "print('Water systems serving 500 or fewer')\n",
    "water_system_lt_500 = water_system[water_system['WATER_SYSTEM.POPULATION_SERVED_COUNT'] <= 500]\n",
    "print_water_system_violations(water_system_lt_500, viol_2017)"
   ]
  },
  {
   "cell_type": "code",
   "execution_count": 103,
   "metadata": {},
   "outputs": [
    {
     "data": {
      "text/plain": [
       "399"
      ]
     },
     "execution_count": 103,
     "metadata": {},
     "output_type": "execute_result"
    }
   ],
   "source": [
    "# community water systems\n",
    "water_system_cws = water_system[water_system['WATER_SYSTEM.PWS_TYPE_CODE'] == 'CWS']\n",
    "water_system_cws.shape[0]"
   ]
  },
  {
   "cell_type": "code",
   "execution_count": 104,
   "metadata": {},
   "outputs": [
    {
     "name": "stdout",
     "output_type": "stream",
     "text": [
      "community water systems\n",
      "# water systems: 399\n",
      "# violations: 690\n",
      "# reporting violations: 613\n",
      "# health violations: 12\n"
     ]
    }
   ],
   "source": [
    "print('community water systems')\n",
    "print_water_system_violations(water_system_cws, viol_2017)"
   ]
  },
  {
   "cell_type": "code",
   "execution_count": 105,
   "metadata": {},
   "outputs": [
    {
     "name": "stdout",
     "output_type": "stream",
     "text": [
      "community water systems serving 500 or fewer\n",
      "# water systems: 284\n",
      "# violations: 561\n",
      "# reporting violations: 493\n",
      "# health violations: 12\n"
     ]
    }
   ],
   "source": [
    "print('community water systems serving 500 or fewer')\n",
    "water_system_cws_lt_500 = water_system_cws[water_system_cws['WATER_SYSTEM.POPULATION_SERVED_COUNT'] <= 500]\n",
    "print_water_system_violations(water_system_cws_lt_500, viol_2017)"
   ]
  },
  {
   "cell_type": "code",
   "execution_count": 106,
   "metadata": {},
   "outputs": [
    {
     "name": "stdout",
     "output_type": "stream",
     "text": [
      "community water systems serving 3300 or fewer\n",
      "# water systems: 367\n",
      "# violations: 676\n",
      "# reporting violations: 601\n",
      "# health violations: 12\n"
     ]
    }
   ],
   "source": [
    "print('community water systems serving 3300 or fewer')\n",
    "water_system_cws_lt_3300 = water_system_cws[water_system_cws['WATER_SYSTEM.POPULATION_SERVED_COUNT'] <= 3300]\n",
    "print_water_system_violations(water_system_cws_lt_3300, viol_2017)"
   ]
  },
  {
   "cell_type": "code",
   "execution_count": null,
   "metadata": {},
   "outputs": [],
   "source": []
  }
 ],
 "metadata": {
  "kernelspec": {
   "display_name": "Python 3",
   "language": "python",
   "name": "python3"
  },
  "language_info": {
   "codemirror_mode": {
    "name": "ipython",
    "version": 3
   },
   "file_extension": ".py",
   "mimetype": "text/x-python",
   "name": "python",
   "nbconvert_exporter": "python",
   "pygments_lexer": "ipython3",
   "version": "3.7.1"
  }
 },
 "nbformat": 4,
 "nbformat_minor": 2
}
