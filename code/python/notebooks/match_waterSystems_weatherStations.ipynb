{
 "cells": [
  {
   "cell_type": "code",
   "execution_count": 2,
   "metadata": {
    "collapsed": true
   },
   "outputs": [],
   "source": [
    "import pandas as pd\n",
    "import numpy as np"
   ]
  },
  {
   "cell_type": "code",
   "execution_count": 3,
   "metadata": {},
   "outputs": [],
   "source": [
    "weatherStation = pd.read_csv('weatherStationLocation.csv')\n",
    "waterSystem = pd.read_csv('waterSystemLocation.csv')"
   ]
  },
  {
   "cell_type": "code",
   "execution_count": 4,
   "metadata": {},
   "outputs": [
    {
     "name": "stdout",
     "output_type": "stream",
     "text": [
      "      PWSID        LAT       LON\n",
      "0  10106001  41.449482 -71.98233\n",
      "1  10109005  41.457198 -72.11459\n",
      "2  10307001  41.345578 -70.75145\n",
      "3  10502002  41.385256 -71.66813\n",
      "4  10502003  41.385256 -71.66813\n",
      "                Station       Lat        Lon\n",
      "0  STOVEPIPE WELLS 1 SW  36.60200 -117.14490\n",
      "1          DEATH VALLEY  36.46220 -116.86690\n",
      "2    IMPERIAL COUNTY AP  32.83417 -115.57861\n",
      "3         YUMA 13.8 ESE  32.63410 -114.40560\n",
      "4           YUMA 7.7 SE  32.64320 -114.52300\n"
     ]
    }
   ],
   "source": [
    "# print(waterSystem.head)\n",
    "print(waterSystem[:5])\n",
    "print(weatherStation[:5])\n",
    "# print(waterSystem['PWSID'])"
   ]
  },
  {
   "cell_type": "code",
   "execution_count": 11,
   "metadata": {},
   "outputs": [
    {
     "name": "stdout",
     "output_type": "stream",
     "text": [
      "PWSID    WY5680260\n",
      "LAT        42.7298\n",
      "LON       -108.632\n",
      "Name: 146347, dtype: object\n",
      "PWSID    WY5680250\n",
      "LAT        43.7015\n",
      "LON       -110.832\n",
      "Name: 146341, dtype: object\n"
     ]
    }
   ],
   "source": [
    "print(waterSystem.ix[146347])\n",
    "print(waterSystem.ix[146341])"
   ]
  },
  {
   "cell_type": "code",
   "execution_count": 12,
   "metadata": {},
   "outputs": [
    {
     "name": "stdout",
     "output_type": "stream",
     "text": [
      "(146351, 2)\n",
      "(9191, 2)\n"
     ]
    }
   ],
   "source": [
    "weatherLatLong = weatherStation[['Lat','Lon']].values\n",
    "waterLatLong = waterSystem[['LAT','LON']].values\n",
    "\n",
    "print(waterLatLong.shape)\n",
    "print(weatherLatLong.shape)"
   ]
  },
  {
   "cell_type": "code",
   "execution_count": 13,
   "metadata": {
    "collapsed": true
   },
   "outputs": [],
   "source": [
    "import time\n",
    "import scipy.spatial.distance"
   ]
  },
  {
   "cell_type": "code",
   "execution_count": 14,
   "metadata": {},
   "outputs": [
    {
     "name": "stdout",
     "output_type": "stream",
     "text": [
      "(146351, 9191)\n",
      "Total computation time is ... 14.421862125396729 seconds.\n"
     ]
    }
   ],
   "source": [
    "bestWeatherStations = []\n",
    "\n",
    "start = time.time()\n",
    "\n",
    "# distances_test = np.sum(np.power(waterLatLong[ii,:] - weatherLatLong,2),axis=1)\n",
    "# bestWeatherStations.append(weatherStation['Station'][np.argsort(distances_test)[0]])\n",
    "\n",
    "Y = scipy.spatial.distance.cdist(waterLatLong,weatherLatLong)\n",
    "\n",
    "print(Y.shape)\n",
    "\n",
    "end = time.time()\n",
    "\n",
    "\n",
    "print('Total computation time is ...', end-start, 'seconds.')\n"
   ]
  },
  {
   "cell_type": "code",
   "execution_count": 20,
   "metadata": {},
   "outputs": [
    {
     "name": "stdout",
     "output_type": "stream",
     "text": [
      "Total computation time is ... 47.458112955093384 seconds.\n"
     ]
    }
   ],
   "source": [
    "start = time.time()\n",
    "\n",
    "bestOrder = np.argmin(Y,axis=1)\n",
    "\n",
    "end = time.time()\n",
    "\n",
    "print('Total computation time is ...', end-start, 'seconds.')"
   ]
  },
  {
   "cell_type": "code",
   "execution_count": 22,
   "metadata": {},
   "outputs": [
    {
     "name": "stdout",
     "output_type": "stream",
     "text": [
      "5448    NORWICH PUB UTILITY PLANT\n",
      "5448    NORWICH PUB UTILITY PLANT\n",
      "5830         WOODS HOLE GOLF CLUB\n",
      "5517       WESTERLY STATE AIRPORT\n",
      "5517       WESTERLY STATE AIRPORT\n",
      "7837          ALLEGANY STATE PARK\n",
      "7837          ALLEGANY STATE PARK\n",
      "3313              MASSENA INTL AP\n",
      "7837          ALLEGANY STATE PARK\n",
      "7837          ALLEGANY STATE PARK\n",
      "6318              DE WITT 1.4 WSW\n",
      "3106       NIAGARA FALLS INT'L AP\n",
      "7837          ALLEGANY STATE PARK\n",
      "7837          ALLEGANY STATE PARK\n",
      "8001                       ATMORE\n",
      "7159     HOLLYWOOD NORTH PERRY AP\n",
      "7159     HOLLYWOOD NORTH PERRY AP\n",
      "7159     HOLLYWOOD NORTH PERRY AP\n",
      "7159     HOLLYWOOD NORTH PERRY AP\n",
      "8700       MIAMI INTERNATIONAL AP\n",
      "8700       MIAMI INTERNATIONAL AP\n",
      "8079           PHILADELPHIA 1 WSW\n",
      "8079           PHILADELPHIA 1 WSW\n",
      "8079           PHILADELPHIA 1 WSW\n",
      "8079           PHILADELPHIA 1 WSW\n",
      "6771                  OCONALUFTEE\n",
      "6771                  OCONALUFTEE\n",
      "6771                  OCONALUFTEE\n",
      "6771                  OCONALUFTEE\n",
      "6771                  OCONALUFTEE\n",
      "                  ...            \n",
      "1746              SHERIDAN 1.7 NW\n",
      "902                   KEMMERER 2N\n",
      "2196                      JACKSON\n",
      "1037           IDAHO FALLS - KIFI\n",
      "2196                      JACKSON\n",
      "2196                      JACKSON\n",
      "2196                      JACKSON\n",
      "776                  CODY 2.4 WSW\n",
      "776                  CODY 2.4 WSW\n",
      "776                  CODY 2.4 WSW\n",
      "1746              SHERIDAN 1.7 NW\n",
      "1746              SHERIDAN 1.7 NW\n",
      "657                   SARATOGA 4N\n",
      "776                  CODY 2.4 WSW\n",
      "776                  CODY 2.4 WSW\n",
      "776                  CODY 2.4 WSW\n",
      "776                  CODY 2.4 WSW\n",
      "1746              SHERIDAN 1.7 NW\n",
      "1746              SHERIDAN 1.7 NW\n",
      "665                    LARAMIE AP\n",
      "2584                        MOOSE\n",
      "789                        DUBOIS\n",
      "665                    LARAMIE AP\n",
      "665                    LARAMIE AP\n",
      "2196                      JACKSON\n",
      "2196                      JACKSON\n",
      "2170                LANDER 11 SSE\n",
      "2170                LANDER 11 SSE\n",
      "2170                LANDER 11 SSE\n",
      "1746              SHERIDAN 1.7 NW\n",
      "Name: Station, Length: 146351, dtype: object\n"
     ]
    }
   ],
   "source": [
    "nearestWeatherStations = weatherStation['Station'][bestOrder]\n",
    "\n",
    "print(nearestWeatherStations)"
   ]
  },
  {
   "cell_type": "code",
   "execution_count": 9,
   "metadata": {},
   "outputs": [
    {
     "name": "stdout",
     "output_type": "stream",
     "text": [
      "(146351, 1)\n",
      "(146351,)\n"
     ]
    }
   ],
   "source": [
    "print(waterSystem[['PWSID']].shape)\n",
    "print(nearestWeatherStations.shape)"
   ]
  },
  {
   "cell_type": "code",
   "execution_count": 24,
   "metadata": {},
   "outputs": [
    {
     "name": "stdout",
     "output_type": "stream",
     "text": [
      "True\n",
      "False\n"
     ]
    },
    {
     "data": {
      "text/plain": [
       "True"
      ]
     },
     "execution_count": 24,
     "metadata": {},
     "output_type": "execute_result"
    }
   ],
   "source": [
    "print(isinstance(waterSystem[['PWSID']],pd.DataFrame))\n",
    "print(isinstance(nearestWeatherStations,pd.DataFrame))\n",
    "\n",
    "nearestWeatherStations = pd.DataFrame(np.expand_dims(nearestWeatherStations,1))\n",
    "\n",
    "isinstance(nearestWeatherStations,pd.DataFrame)"
   ]
  },
  {
   "cell_type": "code",
   "execution_count": 25,
   "metadata": {
    "collapsed": true
   },
   "outputs": [],
   "source": [
    "nearestWeatherStationResults = waterSystem[['PWSID']].join(nearestWeatherStations)"
   ]
  },
  {
   "cell_type": "code",
   "execution_count": 26,
   "metadata": {},
   "outputs": [
    {
     "name": "stdout",
     "output_type": "stream",
     "text": [
      "            PWSID                          0\n",
      "0        10106001  NORWICH PUB UTILITY PLANT\n",
      "1        10109005  NORWICH PUB UTILITY PLANT\n",
      "2        10307001       WOODS HOLE GOLF CLUB\n",
      "3        10502002     WESTERLY STATE AIRPORT\n",
      "4        10502003     WESTERLY STATE AIRPORT\n",
      "5        20000001        ALLEGANY STATE PARK\n",
      "6        20000004        ALLEGANY STATE PARK\n",
      "7        20000005            MASSENA INTL AP\n",
      "8        20000007        ALLEGANY STATE PARK\n",
      "9        20000008        ALLEGANY STATE PARK\n",
      "10       20000012            DE WITT 1.4 WSW\n",
      "11       20000015     NIAGARA FALLS INT'L AP\n",
      "12       20000016        ALLEGANY STATE PARK\n",
      "13       20011102        ALLEGANY STATE PARK\n",
      "14       40000002                     ATMORE\n",
      "15       41200001   HOLLYWOOD NORTH PERRY AP\n",
      "16       41200002   HOLLYWOOD NORTH PERRY AP\n",
      "17       41200003   HOLLYWOOD NORTH PERRY AP\n",
      "18       41200004   HOLLYWOOD NORTH PERRY AP\n",
      "19       41210001     MIAMI INTERNATIONAL AP\n",
      "20       41210003     MIAMI INTERNATIONAL AP\n",
      "21       42800001         PHILADELPHIA 1 WSW\n",
      "22       42800002         PHILADELPHIA 1 WSW\n",
      "23       42800003         PHILADELPHIA 1 WSW\n",
      "24       42800004         PHILADELPHIA 1 WSW\n",
      "25       43700056                OCONALUFTEE\n",
      "26       43740008                OCONALUFTEE\n",
      "27       43740012                OCONALUFTEE\n",
      "28       43740013                OCONALUFTEE\n",
      "29       43740017                OCONALUFTEE\n",
      "...           ...                        ...\n",
      "146321  WY5680184            SHERIDAN 1.7 NW\n",
      "146322  WY5680202                KEMMERER 2N\n",
      "146323  WY5680207                    JACKSON\n",
      "146324  WY5680208         IDAHO FALLS - KIFI\n",
      "146325  WY5680210                    JACKSON\n",
      "146326  WY5680211                    JACKSON\n",
      "146327  WY5680212                    JACKSON\n",
      "146328  WY5680218               CODY 2.4 WSW\n",
      "146329  WY5680221               CODY 2.4 WSW\n",
      "146330  WY5680224               CODY 2.4 WSW\n",
      "146331  WY5680231            SHERIDAN 1.7 NW\n",
      "146332  WY5680232            SHERIDAN 1.7 NW\n",
      "146333  WY5680233                SARATOGA 4N\n",
      "146334  WY5680235               CODY 2.4 WSW\n",
      "146335  WY5680236               CODY 2.4 WSW\n",
      "146336  WY5680237               CODY 2.4 WSW\n",
      "146337  WY5680240               CODY 2.4 WSW\n",
      "146338  WY5680243            SHERIDAN 1.7 NW\n",
      "146339  WY5680244            SHERIDAN 1.7 NW\n",
      "146340  WY5680249                 LARAMIE AP\n",
      "146341  WY5680250                      MOOSE\n",
      "146342  WY5680251                     DUBOIS\n",
      "146343  WY5680252                 LARAMIE AP\n",
      "146344  WY5680254                 LARAMIE AP\n",
      "146345  WY5680258                    JACKSON\n",
      "146346  WY5680259                    JACKSON\n",
      "146347  WY5680260              LANDER 11 SSE\n",
      "146348  WY5680261              LANDER 11 SSE\n",
      "146349  WY5680262              LANDER 11 SSE\n",
      "146350  WY5680263            SHERIDAN 1.7 NW\n",
      "\n",
      "[146351 rows x 2 columns]\n"
     ]
    }
   ],
   "source": [
    "print(nearestWeatherStationResults)"
   ]
  },
  {
   "cell_type": "code",
   "execution_count": null,
   "metadata": {
    "collapsed": true
   },
   "outputs": [],
   "source": []
  }
 ],
 "metadata": {
  "kernelspec": {
   "display_name": "Python 3",
   "language": "python",
   "name": "python3"
  },
  "language_info": {
   "codemirror_mode": {
    "name": "ipython",
    "version": 3
   },
   "file_extension": ".py",
   "mimetype": "text/x-python",
   "name": "python",
   "nbconvert_exporter": "python",
   "pygments_lexer": "ipython3",
   "version": "3.6.8"
  }
 },
 "nbformat": 4,
 "nbformat_minor": 2
}
