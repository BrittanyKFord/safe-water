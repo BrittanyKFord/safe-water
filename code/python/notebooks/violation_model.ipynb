{
 "cells": [
  {
   "cell_type": "markdown",
   "metadata": {},
   "source": [
    "## Shape violation data by number of violations for a contaminant and year\n",
    "\n",
    "Notes about this Logistic Regression model:\n",
    "1. To run this notebook, load SDWIS csv data files into the folder ../../../data/sdwis/SDWIS\n",
    "2. The input data set is water systems that have had a violation in the past, NOT all water systems\n",
    "3. The features and target variable are generated calling the function get_violations_by_year_df, # violations for current_year will become the target variable (0_yrs_ago)\n",
    "4. TODO: Improve model performance by adding other water system features"
   ]
  },
  {
   "cell_type": "code",
   "execution_count": 42,
   "metadata": {},
   "outputs": [],
   "source": [
    "import os\n",
    "import numpy as np\n",
    "import pandas as pd\n",
    "\n",
    "%matplotlib inline\n",
    "import matplotlib.pyplot as plt\n",
    "\n",
    "from sklearn.linear_model import LogisticRegression\n",
    "from sklearn.metrics import roc_curve, roc_auc_score\n",
    "from sklearn.preprocessing import MinMaxScaler, LabelBinarizer\n",
    "from sklearn.model_selection import train_test_split"
   ]
  },
  {
   "cell_type": "code",
   "execution_count": 43,
   "metadata": {},
   "outputs": [],
   "source": [
    "# Label data with full year, e.g., 2012 for 01-JUL-12, 1990 for 01-JUN-90\n",
    "def get_full_year(ddmmmyy):\n",
    "    full_year = 0\n",
    "    date_parts = ddmmmyy.split('-')\n",
    "    if len(date_parts) == 3:\n",
    "        if (int(date_parts[2]) <= 19):\n",
    "            full_year = int('20' + date_parts[2])\n",
    "        else:\n",
    "            full_year = int('19' + date_parts[2])\n",
    "    return full_year"
   ]
  },
  {
   "cell_type": "code",
   "execution_count": 44,
   "metadata": {},
   "outputs": [],
   "source": [
    "def get_full_year_for_row(row):\n",
    "    return get_full_year(row['VIOLATION.COMPL_PER_BEGIN_DATE'])"
   ]
  },
  {
   "cell_type": "code",
   "execution_count": 45,
   "metadata": {},
   "outputs": [],
   "source": [
    "# calculate years ago from input 'current_year'\n",
    "def get_years_ago(row, current_year):\n",
    "    row_year = get_full_year(row['VIOLATION.COMPL_PER_BEGIN_DATE'])\n",
    "    return str(current_year - row_year) + '_yrs_ago'"
   ]
  },
  {
   "cell_type": "code",
   "execution_count": 46,
   "metadata": {},
   "outputs": [],
   "source": [
    "# pass in empty contaminant_codes for ALL contaminants\n",
    "def get_violations_by_year_df(viol_df, contaminant_codes, current_year):\n",
    "    # generate year column for filtering\n",
    "    viol_df = viol_df[['VIOLATION.PWSID', 'VIOLATION.CONTAMINANT_CODE', 'VIOLATION.COMPL_PER_BEGIN_DATE']]\n",
    "    viol_df.loc[:, 'VIOLATION.YEAR'] = viol_df.apply(get_full_year_for_row, axis=1)\n",
    "    \n",
    "    # filter 10 years back from current year\n",
    "    viol_df = viol_df[viol_df['VIOLATION.YEAR'] >= current_year - 10]\n",
    "    viol_df.loc[:, 'VIOLATION.YEARS_AGO'] = viol_df.apply(get_years_ago, args=(current_year, ), axis=1)\n",
    "    viol_df = viol_df.drop(['VIOLATION.COMPL_PER_BEGIN_DATE', 'VIOLATION.YEAR'], axis=1)\n",
    "    \n",
    "    # filter by contaminant codes\n",
    "    if len(contaminant_codes) > 0:\n",
    "        viol_df = viol_df[viol_df['VIOLATION.CONTAMINANT_CODE'].isin(contaminant_codes)]\n",
    "    viol_df = viol_df.drop(['VIOLATION.CONTAMINANT_CODE'], axis=1)\n",
    "    \n",
    "    # group by water system and year, and return counts\n",
    "    viol_grouped = viol_df.groupby(['VIOLATION.PWSID', 'VIOLATION.YEARS_AGO'])\n",
    "    viol_by_year = viol_grouped.size().unstack().fillna(0)\n",
    "    \n",
    "    return viol_by_year"
   ]
  },
  {
   "cell_type": "code",
   "execution_count": 47,
   "metadata": {},
   "outputs": [],
   "source": [
    "# read input files\n",
    "data_dir = '../../../data'\n",
    "# print(os.listdir(data_dir))\n",
    "\n",
    "# assumes csv files are in folder ../../../data/sdwis/SDWIS\n",
    "viol = pd.read_csv(os.path.join(data_dir + '/sdwis/SDWIS', 'VIOLATION.csv'), sep=',', \\\n",
    "                  dtype={'VIOLATION.CONTAMINANT_CODE': np.str}, low_memory=False)\n",
    "water_system = pd.read_csv(os.path.join(data_dir + '/sdwis/SDWIS', 'WATER_SYSTEM.csv'), low_memory=False)\n",
    "contaminant_codes = pd.read_csv(os.path.join(data_dir + '/sdwis', 'contaminant-codes.csv'), sep=',')"
   ]
  },
  {
   "cell_type": "code",
   "execution_count": 48,
   "metadata": {},
   "outputs": [
    {
     "data": {
      "text/html": [
       "<div>\n",
       "<style scoped>\n",
       "    .dataframe tbody tr th:only-of-type {\n",
       "        vertical-align: middle;\n",
       "    }\n",
       "\n",
       "    .dataframe tbody tr th {\n",
       "        vertical-align: top;\n",
       "    }\n",
       "\n",
       "    .dataframe thead th {\n",
       "        text-align: right;\n",
       "    }\n",
       "</style>\n",
       "<table border=\"1\" class=\"dataframe\">\n",
       "  <thead>\n",
       "    <tr style=\"text-align: right;\">\n",
       "      <th></th>\n",
       "      <th>CODE</th>\n",
       "      <th>NAME</th>\n",
       "      <th>SCIENTIFIC_NAME</th>\n",
       "      <th>TYPE_CODE</th>\n",
       "    </tr>\n",
       "  </thead>\n",
       "  <tbody>\n",
       "    <tr>\n",
       "      <th>39</th>\n",
       "      <td>1030</td>\n",
       "      <td>LEAD</td>\n",
       "      <td>NaN</td>\n",
       "      <td>IOC</td>\n",
       "    </tr>\n",
       "    <tr>\n",
       "      <th>713</th>\n",
       "      <td>4370</td>\n",
       "      <td>82-LEAD-203</td>\n",
       "      <td>NaN</td>\n",
       "      <td>RA</td>\n",
       "    </tr>\n",
       "    <tr>\n",
       "      <th>714</th>\n",
       "      <td>4372</td>\n",
       "      <td>82-LEAD-210</td>\n",
       "      <td>NaN</td>\n",
       "      <td>RA</td>\n",
       "    </tr>\n",
       "    <tr>\n",
       "      <th>722</th>\n",
       "      <td>5000</td>\n",
       "      <td>LEAD &amp; COPPER RULE</td>\n",
       "      <td>NaN</td>\n",
       "      <td>RL</td>\n",
       "    </tr>\n",
       "    <tr>\n",
       "      <th>767</th>\n",
       "      <td>PB90</td>\n",
       "      <td>LEAD SUMMARY</td>\n",
       "      <td>NaN</td>\n",
       "      <td>IOC</td>\n",
       "    </tr>\n",
       "  </tbody>\n",
       "</table>\n",
       "</div>"
      ],
      "text/plain": [
       "     CODE                NAME SCIENTIFIC_NAME TYPE_CODE\n",
       "39   1030                LEAD             NaN       IOC\n",
       "713  4370         82-LEAD-203             NaN        RA\n",
       "714  4372         82-LEAD-210             NaN        RA\n",
       "722  5000  LEAD & COPPER RULE             NaN        RL\n",
       "767  PB90        LEAD SUMMARY             NaN       IOC"
      ]
     },
     "execution_count": 48,
     "metadata": {},
     "output_type": "execute_result"
    }
   ],
   "source": [
    "# get contaminant code\n",
    "contaminant_codes[contaminant_codes['NAME'].str.contains(\"lead\", case=False)]"
   ]
  },
  {
   "cell_type": "markdown",
   "metadata": {},
   "source": [
    "### TODO: Get rid of warning below"
   ]
  },
  {
   "cell_type": "code",
   "execution_count": 49,
   "metadata": {
    "scrolled": false
   },
   "outputs": [
    {
     "name": "stderr",
     "output_type": "stream",
     "text": [
      "/anaconda3/lib/python3.7/site-packages/pandas/core/indexing.py:362: SettingWithCopyWarning: \n",
      "A value is trying to be set on a copy of a slice from a DataFrame.\n",
      "Try using .loc[row_indexer,col_indexer] = value instead\n",
      "\n",
      "See the caveats in the documentation: http://pandas.pydata.org/pandas-docs/stable/indexing.html#indexing-view-versus-copy\n",
      "  self.obj[key] = _infer_fill_value(value)\n",
      "/anaconda3/lib/python3.7/site-packages/pandas/core/indexing.py:543: SettingWithCopyWarning: \n",
      "A value is trying to be set on a copy of a slice from a DataFrame.\n",
      "Try using .loc[row_indexer,col_indexer] = value instead\n",
      "\n",
      "See the caveats in the documentation: http://pandas.pydata.org/pandas-docs/stable/indexing.html#indexing-view-versus-copy\n",
      "  self.obj[item] = s\n"
     ]
    }
   ],
   "source": [
    "viol_by_yr = get_violations_by_year_df(viol, ['1030', '5000', 'PB90'], 2017)"
   ]
  },
  {
   "cell_type": "code",
   "execution_count": 50,
   "metadata": {},
   "outputs": [
    {
     "data": {
      "text/plain": [
       "(24556, 12)"
      ]
     },
     "execution_count": 50,
     "metadata": {},
     "output_type": "execute_result"
    }
   ],
   "source": [
    "viol_by_yr.shape"
   ]
  },
  {
   "cell_type": "markdown",
   "metadata": {},
   "source": [
    "### These are the features:"
   ]
  },
  {
   "cell_type": "code",
   "execution_count": 51,
   "metadata": {},
   "outputs": [
    {
     "data": {
      "text/html": [
       "<div>\n",
       "<style scoped>\n",
       "    .dataframe tbody tr th:only-of-type {\n",
       "        vertical-align: middle;\n",
       "    }\n",
       "\n",
       "    .dataframe tbody tr th {\n",
       "        vertical-align: top;\n",
       "    }\n",
       "\n",
       "    .dataframe thead th {\n",
       "        text-align: right;\n",
       "    }\n",
       "</style>\n",
       "<table border=\"1\" class=\"dataframe\">\n",
       "  <thead>\n",
       "    <tr style=\"text-align: right;\">\n",
       "      <th></th>\n",
       "      <th>WATER_SYSTEM.STATE_CODE</th>\n",
       "      <th>WATER_SYSTEM.PWS_TYPE_CODE</th>\n",
       "      <th>WATER_SYSTEM.POPULATION_SERVED_COUNT</th>\n",
       "      <th>WATER_SYSTEM.SERVICE_CONNECTIONS_COUNT</th>\n",
       "      <th>-1_yrs_ago</th>\n",
       "      <th>0_yrs_ago</th>\n",
       "      <th>10_yrs_ago</th>\n",
       "      <th>1_yrs_ago</th>\n",
       "      <th>2_yrs_ago</th>\n",
       "      <th>3_yrs_ago</th>\n",
       "      <th>4_yrs_ago</th>\n",
       "      <th>5_yrs_ago</th>\n",
       "      <th>6_yrs_ago</th>\n",
       "      <th>7_yrs_ago</th>\n",
       "      <th>8_yrs_ago</th>\n",
       "      <th>9_yrs_ago</th>\n",
       "    </tr>\n",
       "  </thead>\n",
       "  <tbody>\n",
       "    <tr>\n",
       "      <th>0</th>\n",
       "      <td>NY</td>\n",
       "      <td>CWS</td>\n",
       "      <td>1496</td>\n",
       "      <td>522</td>\n",
       "      <td>0.0</td>\n",
       "      <td>0.0</td>\n",
       "      <td>0.0</td>\n",
       "      <td>0.0</td>\n",
       "      <td>0.0</td>\n",
       "      <td>0.0</td>\n",
       "      <td>0.0</td>\n",
       "      <td>0.0</td>\n",
       "      <td>0.0</td>\n",
       "      <td>1.0</td>\n",
       "      <td>0.0</td>\n",
       "      <td>0.0</td>\n",
       "    </tr>\n",
       "    <tr>\n",
       "      <th>1</th>\n",
       "      <td>CO</td>\n",
       "      <td>NTNCWS</td>\n",
       "      <td>452</td>\n",
       "      <td>8</td>\n",
       "      <td>0.0</td>\n",
       "      <td>0.0</td>\n",
       "      <td>0.0</td>\n",
       "      <td>0.0</td>\n",
       "      <td>1.0</td>\n",
       "      <td>0.0</td>\n",
       "      <td>0.0</td>\n",
       "      <td>0.0</td>\n",
       "      <td>2.0</td>\n",
       "      <td>0.0</td>\n",
       "      <td>0.0</td>\n",
       "      <td>1.0</td>\n",
       "    </tr>\n",
       "    <tr>\n",
       "      <th>2</th>\n",
       "      <td>PA</td>\n",
       "      <td>NTNCWS</td>\n",
       "      <td>275</td>\n",
       "      <td>1</td>\n",
       "      <td>0.0</td>\n",
       "      <td>0.0</td>\n",
       "      <td>0.0</td>\n",
       "      <td>1.0</td>\n",
       "      <td>0.0</td>\n",
       "      <td>0.0</td>\n",
       "      <td>0.0</td>\n",
       "      <td>0.0</td>\n",
       "      <td>0.0</td>\n",
       "      <td>0.0</td>\n",
       "      <td>0.0</td>\n",
       "      <td>0.0</td>\n",
       "    </tr>\n",
       "    <tr>\n",
       "      <th>3</th>\n",
       "      <td>IL</td>\n",
       "      <td>CWS</td>\n",
       "      <td>100</td>\n",
       "      <td>47</td>\n",
       "      <td>0.0</td>\n",
       "      <td>0.0</td>\n",
       "      <td>1.0</td>\n",
       "      <td>0.0</td>\n",
       "      <td>0.0</td>\n",
       "      <td>0.0</td>\n",
       "      <td>0.0</td>\n",
       "      <td>0.0</td>\n",
       "      <td>0.0</td>\n",
       "      <td>0.0</td>\n",
       "      <td>0.0</td>\n",
       "      <td>0.0</td>\n",
       "    </tr>\n",
       "    <tr>\n",
       "      <th>4</th>\n",
       "      <td>IL</td>\n",
       "      <td>CWS</td>\n",
       "      <td>60</td>\n",
       "      <td>26</td>\n",
       "      <td>0.0</td>\n",
       "      <td>0.0</td>\n",
       "      <td>0.0</td>\n",
       "      <td>0.0</td>\n",
       "      <td>0.0</td>\n",
       "      <td>0.0</td>\n",
       "      <td>0.0</td>\n",
       "      <td>0.0</td>\n",
       "      <td>1.0</td>\n",
       "      <td>1.0</td>\n",
       "      <td>0.0</td>\n",
       "      <td>0.0</td>\n",
       "    </tr>\n",
       "  </tbody>\n",
       "</table>\n",
       "</div>"
      ],
      "text/plain": [
       "  WATER_SYSTEM.STATE_CODE WATER_SYSTEM.PWS_TYPE_CODE  \\\n",
       "0                      NY                        CWS   \n",
       "1                      CO                     NTNCWS   \n",
       "2                      PA                     NTNCWS   \n",
       "3                      IL                        CWS   \n",
       "4                      IL                        CWS   \n",
       "\n",
       "   WATER_SYSTEM.POPULATION_SERVED_COUNT  \\\n",
       "0                                  1496   \n",
       "1                                   452   \n",
       "2                                   275   \n",
       "3                                   100   \n",
       "4                                    60   \n",
       "\n",
       "   WATER_SYSTEM.SERVICE_CONNECTIONS_COUNT  -1_yrs_ago  0_yrs_ago  10_yrs_ago  \\\n",
       "0                                     522         0.0        0.0         0.0   \n",
       "1                                       8         0.0        0.0         0.0   \n",
       "2                                       1         0.0        0.0         0.0   \n",
       "3                                      47         0.0        0.0         1.0   \n",
       "4                                      26         0.0        0.0         0.0   \n",
       "\n",
       "   1_yrs_ago  2_yrs_ago  3_yrs_ago  4_yrs_ago  5_yrs_ago  6_yrs_ago  \\\n",
       "0        0.0        0.0        0.0        0.0        0.0        0.0   \n",
       "1        0.0        1.0        0.0        0.0        0.0        2.0   \n",
       "2        1.0        0.0        0.0        0.0        0.0        0.0   \n",
       "3        0.0        0.0        0.0        0.0        0.0        0.0   \n",
       "4        0.0        0.0        0.0        0.0        0.0        1.0   \n",
       "\n",
       "   7_yrs_ago  8_yrs_ago  9_yrs_ago  \n",
       "0        1.0        0.0        0.0  \n",
       "1        0.0        0.0        1.0  \n",
       "2        0.0        0.0        0.0  \n",
       "3        0.0        0.0        0.0  \n",
       "4        1.0        0.0        0.0  "
      ]
     },
     "execution_count": 51,
     "metadata": {},
     "output_type": "execute_result"
    }
   ],
   "source": [
    "water_system = pd.read_csv(os.path.join(data_dir + '/sdwis/SDWIS', 'WATER_SYSTEM.csv'), low_memory=False)\n",
    "water_system = water_system[['WATER_SYSTEM.PWSID', 'WATER_SYSTEM.STATE_CODE', 'WATER_SYSTEM.PWS_TYPE_CODE', \\\n",
    "                             'WATER_SYSTEM.POPULATION_SERVED_COUNT', 'WATER_SYSTEM.SERVICE_CONNECTIONS_COUNT']]\n",
    "water_system = water_system.merge(viol_by_yr, left_on='WATER_SYSTEM.PWSID', right_on='VIOLATION.PWSID')\n",
    "water_system = water_system.drop(['WATER_SYSTEM.PWSID'], axis=1)\n",
    "water_system.head()"
   ]
  },
  {
   "cell_type": "markdown",
   "metadata": {},
   "source": [
    "### One Hot encode categoricals"
   ]
  },
  {
   "cell_type": "code",
   "execution_count": 52,
   "metadata": {
    "scrolled": true
   },
   "outputs": [
    {
     "data": {
      "text/plain": [
       "array([[0, 0, 0, ..., 0, 0, 0],\n",
       "       [0, 0, 0, ..., 0, 0, 0],\n",
       "       [0, 0, 0, ..., 0, 0, 0],\n",
       "       ...,\n",
       "       [0, 0, 0, ..., 0, 0, 0],\n",
       "       [0, 0, 0, ..., 0, 0, 0],\n",
       "       [0, 0, 0, ..., 0, 0, 0]])"
      ]
     },
     "execution_count": 52,
     "metadata": {},
     "output_type": "execute_result"
    }
   ],
   "source": [
    "water_state = water_system['WATER_SYSTEM.STATE_CODE']\n",
    "water_state = water_state.fillna('State unknown')\n",
    "encoder = LabelBinarizer(sparse_output=False)\n",
    "water_state_cat = encoder.fit_transform(water_state)\n",
    "water_state_cat"
   ]
  },
  {
   "cell_type": "code",
   "execution_count": 53,
   "metadata": {},
   "outputs": [
    {
     "data": {
      "text/plain": [
       "(24556, 3)"
      ]
     },
     "execution_count": 53,
     "metadata": {},
     "output_type": "execute_result"
    }
   ],
   "source": [
    "water_pws_type = water_system['WATER_SYSTEM.PWS_TYPE_CODE']\n",
    "water_pws_type = water_pws_type.fillna('Type unknown')\n",
    "encoder = LabelBinarizer(sparse_output=False)\n",
    "water_pws_type_cat = encoder.fit_transform(water_pws_type)\n",
    "water_pws_type_cat.shape"
   ]
  },
  {
   "cell_type": "markdown",
   "metadata": {},
   "source": [
    "## Run Logistic Regression"
   ]
  },
  {
   "cell_type": "code",
   "execution_count": 54,
   "metadata": {},
   "outputs": [
    {
     "data": {
      "text/plain": [
       "array([[0., 0., 0., ..., 0., 0., 0.],\n",
       "       [0., 1., 0., ..., 0., 1., 0.],\n",
       "       [0., 0., 0., ..., 0., 0., 1.],\n",
       "       ...,\n",
       "       [1., 0., 0., ..., 0., 0., 0.],\n",
       "       [0., 0., 2., ..., 2., 0., 0.],\n",
       "       [0., 0., 1., ..., 0., 0., 0.]])"
      ]
     },
     "execution_count": 54,
     "metadata": {},
     "output_type": "execute_result"
    }
   ],
   "source": [
    "X = water_system[['10_yrs_ago','9_yrs_ago','8_yrs_ago','7_yrs_ago','6_yrs_ago','5_yrs_ago', \\\n",
    "    '4_yrs_ago', '3_yrs_ago', '2_yrs_ago', '1_yrs_ago']].values\n",
    "X.shape\n",
    "X"
   ]
  },
  {
   "cell_type": "code",
   "execution_count": 55,
   "metadata": {},
   "outputs": [
    {
     "data": {
      "text/plain": [
       "(24556, 70)"
      ]
     },
     "execution_count": 55,
     "metadata": {},
     "output_type": "execute_result"
    }
   ],
   "source": [
    "X = np.concatenate([X, water_state_cat, water_pws_type_cat], axis=1)\n",
    "X.shape"
   ]
  },
  {
   "cell_type": "code",
   "execution_count": 56,
   "metadata": {},
   "outputs": [
    {
     "data": {
      "text/plain": [
       "array([0, 0, 0, ..., 0, 0, 0])"
      ]
     },
     "execution_count": 56,
     "metadata": {},
     "output_type": "execute_result"
    }
   ],
   "source": [
    "# convert all non-zero values to 1\n",
    "y = (water_system['0_yrs_ago'] >= 1).values.astype(np.int)\n",
    "y.shape\n",
    "y"
   ]
  },
  {
   "cell_type": "markdown",
   "metadata": {},
   "source": [
    "### Split data into training and test sets"
   ]
  },
  {
   "cell_type": "code",
   "execution_count": 57,
   "metadata": {},
   "outputs": [
    {
     "name": "stderr",
     "output_type": "stream",
     "text": [
      "/anaconda3/lib/python3.7/site-packages/sklearn/linear_model/logistic.py:433: FutureWarning: Default solver will be changed to 'lbfgs' in 0.22. Specify a solver to silence this warning.\n",
      "  FutureWarning)\n"
     ]
    },
    {
     "data": {
      "text/plain": [
       "LogisticRegression(C=1.0, class_weight='balanced', dual=False,\n",
       "          fit_intercept=True, intercept_scaling=1, max_iter=100,\n",
       "          multi_class='warn', n_jobs=None, penalty='l2', random_state=None,\n",
       "          solver='warn', tol=0.0001, verbose=0, warm_start=False)"
      ]
     },
     "execution_count": 57,
     "metadata": {},
     "output_type": "execute_result"
    }
   ],
   "source": [
    "X_train, X_test, y_train, y_test = train_test_split(X, y, test_size=0.20, random_state=42)\n",
    "\n",
    "scaler = MinMaxScaler()\n",
    "scaler.fit(X_train)\n",
    "X_train = scaler.transform(X_train)\n",
    "\n",
    "log_reg = LogisticRegression(class_weight='balanced')\n",
    "log_reg.fit(X_train, y_train)\n"
   ]
  },
  {
   "cell_type": "code",
   "execution_count": 58,
   "metadata": {},
   "outputs": [],
   "source": [
    "#X_new = [X[2]]\n",
    "#y_pred = log_reg.predict(X_new)\n",
    "# probabilities sorted by target label\n",
    "# y_proba = log_reg.predict_proba(X_new)\n",
    "# y_proba"
   ]
  },
  {
   "cell_type": "markdown",
   "metadata": {},
   "source": [
    "## Measure performance of model"
   ]
  },
  {
   "cell_type": "code",
   "execution_count": 59,
   "metadata": {},
   "outputs": [
    {
     "data": {
      "image/png": "[encoded data removed]",
      "text/plain": [
       "<Figure size 432x288 with 1 Axes>"
      ]
     },
     "metadata": {
      "needs_background": "light"
     },
     "output_type": "display_data"
    }
   ],
   "source": [
    "y_scores = log_reg.decision_function(X_test)\n",
    "fpr, tpr, thresholds = roc_curve(y_test, y_scores)\n",
    "\n",
    "def plot_roc_curve(fpr, tpr, label=None):\n",
    "    plt.plot(fpr, tpr, linewidth=2, label=label)\n",
    "    plt.plot([0, 1], [0, 1], 'k--')\n",
    "    plt.axis([0, 1, 0, 1])\n",
    "    plt.xlabel('False Positive Rate')\n",
    "    plt.ylabel('True Positive Rate')\n",
    "    \n",
    "plot_roc_curve(fpr, tpr)\n",
    "plt.show()"
   ]
  },
  {
   "cell_type": "code",
   "execution_count": 60,
   "metadata": {},
   "outputs": [
    {
     "data": {
      "text/plain": [
       "0.6952387230940427"
      ]
     },
     "execution_count": 60,
     "metadata": {},
     "output_type": "execute_result"
    }
   ],
   "source": [
    "roc_auc_score(y_test, y_scores)"
   ]
  }
 ],
 "metadata": {
  "kernelspec": {
   "display_name": "Python 3",
   "language": "python",
   "name": "python3"
  },
  "language_info": {
   "codemirror_mode": {
    "name": "ipython",
    "version": 3
   },
   "file_extension": ".py",
   "mimetype": "text/x-python",
   "name": "python",
   "nbconvert_exporter": "python",
   "pygments_lexer": "ipython3",
   "version": "3.7.1"
  }
 },
 "nbformat": 4,
 "nbformat_minor": 2
}
