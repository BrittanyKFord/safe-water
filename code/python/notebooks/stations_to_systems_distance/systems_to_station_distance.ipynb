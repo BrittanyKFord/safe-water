{
 "cells": [
  {
   "cell_type": "markdown",
   "metadata": {},
   "source": [
    "### Weather stations and Municipal water locations"
   ]
  },
  {
   "cell_type": "code",
   "execution_count": 1,
   "metadata": {},
   "outputs": [
    {
     "name": "stdout",
     "output_type": "stream",
     "text": [
      "Station,Lat,Lon\r",
      "\r\n",
      "STOVEPIPE WELLS 1 SW,36.602,-117.1449\r",
      "\r\n",
      "DEATH VALLEY,36.4622,-116.8669\r",
      "\r\n",
      "IMPERIAL COUNTY AP,32.83417,-115.57861\r",
      "\r\n",
      "YUMA 13.8 ESE,32.6341,-114.4056\r",
      "\r\n",
      "YUMA 7.7 SE,32.6432,-114.523\r",
      "\r\n",
      "YUMA PROVING GROUND,32.8356,-114.3942\r",
      "\r\n",
      "YUMA 27 ENE,32.835,-114.1884\r",
      "\r\n",
      "SOMERTON 3.0 ESE,32.5676,-114.6555\r",
      "\r\n",
      "INDIO FIRE STATION,33.7086,-116.2152\r",
      "\r\n",
      "cat: write error: Broken pipe\r\n"
     ]
    }
   ],
   "source": [
    "!cat ../../../../data/geography/weather_stations.csv | head"
   ]
  },
  {
   "cell_type": "code",
   "execution_count": 2,
   "metadata": {},
   "outputs": [
    {
     "name": "stdout",
     "output_type": "stream",
     "text": [
      "PWSID,LAT,LON\r",
      "\r\n",
      "10106001,41.449482,-71.98233\r",
      "\r\n",
      "10109005,41.457198,-72.11459\r",
      "\r\n",
      "10307001,41.345578,-70.75145\r",
      "\r\n",
      "10502002,41.385256,-71.66813\r",
      "\r\n",
      "10502003,41.385256,-71.66813\r",
      "\r\n",
      "20000001,42.168508,-78.7297\r",
      "\r\n",
      "20000004,42.168508,-78.7297\r",
      "\r\n",
      "20000005,44.98184,-74.67374\r",
      "\r\n",
      "20000007,42.168508,-78.7297\r",
      "\r\n",
      "cat: write error: Broken pipe\r\n"
     ]
    }
   ],
   "source": [
    "!cat ../../../../data/geography/water_systems.csv | head"
   ]
  },
  {
   "cell_type": "code",
   "execution_count": 7,
   "metadata": {
    "collapsed": true
   },
   "outputs": [],
   "source": [
    "weather_station_path = '../../../../data/geography/weather_stations.csv'"
   ]
  },
  {
   "cell_type": "code",
   "execution_count": 8,
   "metadata": {
    "collapsed": true
   },
   "outputs": [],
   "source": [
    "water_system_path = '../../../../data/geography/water_systems.csv'"
   ]
  },
  {
   "cell_type": "code",
   "execution_count": 3,
   "metadata": {
    "collapsed": true
   },
   "outputs": [],
   "source": [
    "import pandas as pd\n",
    "import numpy as np\n",
    "from geopy.distance import geodesic #this isn't actually very useful as it's ridiculously slow.\n",
    "                                    #I've instead done a rough approximate by querying a spatial.KDTree"
   ]
  },
  {
   "cell_type": "code",
   "execution_count": 9,
   "metadata": {},
   "outputs": [],
   "source": [
    "water_systems = pd.read_csv(water_system_path) #the csvs are mis-named"
   ]
  },
  {
   "cell_type": "code",
   "execution_count": 10,
   "metadata": {},
   "outputs": [
    {
     "data": {
      "text/plain": [
       "146351"
      ]
     },
     "execution_count": 10,
     "metadata": {},
     "output_type": "execute_result"
    }
   ],
   "source": [
    "len(water_systems)"
   ]
  },
  {
   "cell_type": "code",
   "execution_count": 11,
   "metadata": {},
   "outputs": [
    {
     "data": {
      "text/html": [
       "<div>\n",
       "<style scoped>\n",
       "    .dataframe tbody tr th:only-of-type {\n",
       "        vertical-align: middle;\n",
       "    }\n",
       "\n",
       "    .dataframe tbody tr th {\n",
       "        vertical-align: top;\n",
       "    }\n",
       "\n",
       "    .dataframe thead th {\n",
       "        text-align: right;\n",
       "    }\n",
       "</style>\n",
       "<table border=\"1\" class=\"dataframe\">\n",
       "  <thead>\n",
       "    <tr style=\"text-align: right;\">\n",
       "      <th></th>\n",
       "      <th>PWSID</th>\n",
       "      <th>LAT</th>\n",
       "      <th>LON</th>\n",
       "    </tr>\n",
       "  </thead>\n",
       "  <tbody>\n",
       "    <tr>\n",
       "      <th>0</th>\n",
       "      <td>10106001</td>\n",
       "      <td>41.449482</td>\n",
       "      <td>-71.98233</td>\n",
       "    </tr>\n",
       "    <tr>\n",
       "      <th>1</th>\n",
       "      <td>10109005</td>\n",
       "      <td>41.457198</td>\n",
       "      <td>-72.11459</td>\n",
       "    </tr>\n",
       "    <tr>\n",
       "      <th>2</th>\n",
       "      <td>10307001</td>\n",
       "      <td>41.345578</td>\n",
       "      <td>-70.75145</td>\n",
       "    </tr>\n",
       "    <tr>\n",
       "      <th>3</th>\n",
       "      <td>10502002</td>\n",
       "      <td>41.385256</td>\n",
       "      <td>-71.66813</td>\n",
       "    </tr>\n",
       "    <tr>\n",
       "      <th>4</th>\n",
       "      <td>10502003</td>\n",
       "      <td>41.385256</td>\n",
       "      <td>-71.66813</td>\n",
       "    </tr>\n",
       "    <tr>\n",
       "      <th>5</th>\n",
       "      <td>20000001</td>\n",
       "      <td>42.168508</td>\n",
       "      <td>-78.72970</td>\n",
       "    </tr>\n",
       "    <tr>\n",
       "      <th>6</th>\n",
       "      <td>20000004</td>\n",
       "      <td>42.168508</td>\n",
       "      <td>-78.72970</td>\n",
       "    </tr>\n",
       "    <tr>\n",
       "      <th>7</th>\n",
       "      <td>20000005</td>\n",
       "      <td>44.981840</td>\n",
       "      <td>-74.67374</td>\n",
       "    </tr>\n",
       "    <tr>\n",
       "      <th>8</th>\n",
       "      <td>20000007</td>\n",
       "      <td>42.168508</td>\n",
       "      <td>-78.72970</td>\n",
       "    </tr>\n",
       "    <tr>\n",
       "      <th>9</th>\n",
       "      <td>20000008</td>\n",
       "      <td>42.168508</td>\n",
       "      <td>-78.72970</td>\n",
       "    </tr>\n",
       "  </tbody>\n",
       "</table>\n",
       "</div>"
      ],
      "text/plain": [
       "      PWSID        LAT       LON\n",
       "0  10106001  41.449482 -71.98233\n",
       "1  10109005  41.457198 -72.11459\n",
       "2  10307001  41.345578 -70.75145\n",
       "3  10502002  41.385256 -71.66813\n",
       "4  10502003  41.385256 -71.66813\n",
       "5  20000001  42.168508 -78.72970\n",
       "6  20000004  42.168508 -78.72970\n",
       "7  20000005  44.981840 -74.67374\n",
       "8  20000007  42.168508 -78.72970\n",
       "9  20000008  42.168508 -78.72970"
      ]
     },
     "execution_count": 11,
     "metadata": {},
     "output_type": "execute_result"
    }
   ],
   "source": [
    "water_systems[:10]"
   ]
  },
  {
   "cell_type": "code",
   "execution_count": 12,
   "metadata": {
    "collapsed": true
   },
   "outputs": [],
   "source": [
    "#weather_stations = pd.read_csv('weatherStationLocation.csv')\n",
    "weather_stations = pd.read_csv(weather_station_path)"
   ]
  },
  {
   "cell_type": "code",
   "execution_count": 13,
   "metadata": {},
   "outputs": [
    {
     "data": {
      "text/html": [
       "<div>\n",
       "<style scoped>\n",
       "    .dataframe tbody tr th:only-of-type {\n",
       "        vertical-align: middle;\n",
       "    }\n",
       "\n",
       "    .dataframe tbody tr th {\n",
       "        vertical-align: top;\n",
       "    }\n",
       "\n",
       "    .dataframe thead th {\n",
       "        text-align: right;\n",
       "    }\n",
       "</style>\n",
       "<table border=\"1\" class=\"dataframe\">\n",
       "  <thead>\n",
       "    <tr style=\"text-align: right;\">\n",
       "      <th></th>\n",
       "      <th>Station</th>\n",
       "      <th>Lat</th>\n",
       "      <th>Lon</th>\n",
       "    </tr>\n",
       "  </thead>\n",
       "  <tbody>\n",
       "    <tr>\n",
       "      <th>0</th>\n",
       "      <td>STOVEPIPE WELLS 1 SW</td>\n",
       "      <td>36.60200</td>\n",
       "      <td>-117.14490</td>\n",
       "    </tr>\n",
       "    <tr>\n",
       "      <th>1</th>\n",
       "      <td>DEATH VALLEY</td>\n",
       "      <td>36.46220</td>\n",
       "      <td>-116.86690</td>\n",
       "    </tr>\n",
       "    <tr>\n",
       "      <th>2</th>\n",
       "      <td>IMPERIAL COUNTY AP</td>\n",
       "      <td>32.83417</td>\n",
       "      <td>-115.57861</td>\n",
       "    </tr>\n",
       "    <tr>\n",
       "      <th>3</th>\n",
       "      <td>YUMA 13.8 ESE</td>\n",
       "      <td>32.63410</td>\n",
       "      <td>-114.40560</td>\n",
       "    </tr>\n",
       "    <tr>\n",
       "      <th>4</th>\n",
       "      <td>YUMA 7.7 SE</td>\n",
       "      <td>32.64320</td>\n",
       "      <td>-114.52300</td>\n",
       "    </tr>\n",
       "    <tr>\n",
       "      <th>5</th>\n",
       "      <td>YUMA PROVING GROUND</td>\n",
       "      <td>32.83560</td>\n",
       "      <td>-114.39420</td>\n",
       "    </tr>\n",
       "    <tr>\n",
       "      <th>6</th>\n",
       "      <td>YUMA 27 ENE</td>\n",
       "      <td>32.83500</td>\n",
       "      <td>-114.18840</td>\n",
       "    </tr>\n",
       "    <tr>\n",
       "      <th>7</th>\n",
       "      <td>SOMERTON 3.0 ESE</td>\n",
       "      <td>32.56760</td>\n",
       "      <td>-114.65550</td>\n",
       "    </tr>\n",
       "    <tr>\n",
       "      <th>8</th>\n",
       "      <td>INDIO FIRE STATION</td>\n",
       "      <td>33.70860</td>\n",
       "      <td>-116.21520</td>\n",
       "    </tr>\n",
       "    <tr>\n",
       "      <th>9</th>\n",
       "      <td>TWENTYNINE PALMS</td>\n",
       "      <td>34.12800</td>\n",
       "      <td>-116.03690</td>\n",
       "    </tr>\n",
       "  </tbody>\n",
       "</table>\n",
       "</div>"
      ],
      "text/plain": [
       "                Station       Lat        Lon\n",
       "0  STOVEPIPE WELLS 1 SW  36.60200 -117.14490\n",
       "1          DEATH VALLEY  36.46220 -116.86690\n",
       "2    IMPERIAL COUNTY AP  32.83417 -115.57861\n",
       "3         YUMA 13.8 ESE  32.63410 -114.40560\n",
       "4           YUMA 7.7 SE  32.64320 -114.52300\n",
       "5   YUMA PROVING GROUND  32.83560 -114.39420\n",
       "6           YUMA 27 ENE  32.83500 -114.18840\n",
       "7      SOMERTON 3.0 ESE  32.56760 -114.65550\n",
       "8    INDIO FIRE STATION  33.70860 -116.21520\n",
       "9      TWENTYNINE PALMS  34.12800 -116.03690"
      ]
     },
     "execution_count": 13,
     "metadata": {},
     "output_type": "execute_result"
    }
   ],
   "source": [
    "weather_stations[:10]"
   ]
  },
  {
   "cell_type": "code",
   "execution_count": 14,
   "metadata": {},
   "outputs": [
    {
     "data": {
      "text/plain": [
       "Station     object\n",
       "Lat        float64\n",
       "Lon        float64\n",
       "dtype: object"
      ]
     },
     "execution_count": 14,
     "metadata": {},
     "output_type": "execute_result"
    }
   ],
   "source": [
    "weather_stations.dtypes"
   ]
  },
  {
   "cell_type": "code",
   "execution_count": 15,
   "metadata": {},
   "outputs": [
    {
     "data": {
      "text/plain": [
       "PWSID     object\n",
       "LAT      float64\n",
       "LON      float64\n",
       "dtype: object"
      ]
     },
     "execution_count": 15,
     "metadata": {},
     "output_type": "execute_result"
    }
   ],
   "source": [
    "water_systems.dtypes"
   ]
  },
  {
   "cell_type": "code",
   "execution_count": 16,
   "metadata": {},
   "outputs": [
    {
     "data": {
      "text/plain": [
       "9191"
      ]
     },
     "execution_count": 16,
     "metadata": {},
     "output_type": "execute_result"
    }
   ],
   "source": [
    "len(weather_stations)"
   ]
  },
  {
   "cell_type": "code",
   "execution_count": 17,
   "metadata": {},
   "outputs": [
    {
     "data": {
      "text/plain": [
       "146351"
      ]
     },
     "execution_count": 17,
     "metadata": {},
     "output_type": "execute_result"
    }
   ],
   "source": [
    "len(water_systems)"
   ]
  },
  {
   "cell_type": "code",
   "execution_count": 18,
   "metadata": {
    "collapsed": true
   },
   "outputs": [],
   "source": [
    "lat_weather, lon_weather = weather_stations['Lat'][0], weather_stations['Lon'][0]"
   ]
  },
  {
   "cell_type": "code",
   "execution_count": 19,
   "metadata": {},
   "outputs": [
    {
     "name": "stdout",
     "output_type": "stream",
     "text": [
      "36.602 -117.1449\n"
     ]
    }
   ],
   "source": [
    "print(lat_weather, lon_weather)"
   ]
  },
  {
   "cell_type": "code",
   "execution_count": 20,
   "metadata": {
    "collapsed": true
   },
   "outputs": [],
   "source": [
    "lat_water, lon_water = water_systems['LAT'][0], water_systems['LON'][0]"
   ]
  },
  {
   "cell_type": "code",
   "execution_count": 21,
   "metadata": {},
   "outputs": [
    {
     "name": "stdout",
     "output_type": "stream",
     "text": [
      "41.449482 -71.98233\n"
     ]
    }
   ],
   "source": [
    "print(lat_water, lon_water)"
   ]
  },
  {
   "cell_type": "code",
   "execution_count": 22,
   "metadata": {
    "collapsed": true
   },
   "outputs": [],
   "source": [
    "weather_coord = lat_weather, lon_weather"
   ]
  },
  {
   "cell_type": "code",
   "execution_count": 23,
   "metadata": {
    "collapsed": true
   },
   "outputs": [],
   "source": [
    "water_coord = lat_water, lon_water"
   ]
  },
  {
   "cell_type": "code",
   "execution_count": 24,
   "metadata": {},
   "outputs": [
    {
     "data": {
      "text/plain": [
       "(36.602, -117.1449)"
      ]
     },
     "execution_count": 24,
     "metadata": {},
     "output_type": "execute_result"
    }
   ],
   "source": [
    "weather_coord"
   ]
  },
  {
   "cell_type": "code",
   "execution_count": 25,
   "metadata": {},
   "outputs": [
    {
     "data": {
      "text/plain": [
       "(41.449482, -71.98233)"
      ]
     },
     "execution_count": 25,
     "metadata": {},
     "output_type": "execute_result"
    }
   ],
   "source": [
    "water_coord"
   ]
  },
  {
   "cell_type": "markdown",
   "metadata": {},
   "source": [
    "### Test data:"
   ]
  },
  {
   "cell_type": "code",
   "execution_count": 26,
   "metadata": {
    "collapsed": true
   },
   "outputs": [],
   "source": [
    "pd_tmp = pd.DataFrame(40 * np.random.random_sample(size=(100, 2)) + 30) #random coordinates to play with"
   ]
  },
  {
   "cell_type": "code",
   "execution_count": 27,
   "metadata": {
    "collapsed": true
   },
   "outputs": [],
   "source": [
    "pd_tmp_2 = pd.DataFrame(40 * np.random.random_sample(size=(100, 2)) + 30) #random coordinates to play with"
   ]
  },
  {
   "cell_type": "code",
   "execution_count": 28,
   "metadata": {
    "collapsed": true
   },
   "outputs": [],
   "source": [
    "pd_tmp.columns = ['Lat', 'Lon']"
   ]
  },
  {
   "cell_type": "code",
   "execution_count": 29,
   "metadata": {
    "collapsed": true
   },
   "outputs": [],
   "source": [
    "pd_tmp_2.columns = ['Lat', 'Lon']"
   ]
  },
  {
   "cell_type": "code",
   "execution_count": 30,
   "metadata": {},
   "outputs": [
    {
     "data": {
      "text/html": [
       "<div>\n",
       "<style scoped>\n",
       "    .dataframe tbody tr th:only-of-type {\n",
       "        vertical-align: middle;\n",
       "    }\n",
       "\n",
       "    .dataframe tbody tr th {\n",
       "        vertical-align: top;\n",
       "    }\n",
       "\n",
       "    .dataframe thead th {\n",
       "        text-align: right;\n",
       "    }\n",
       "</style>\n",
       "<table border=\"1\" class=\"dataframe\">\n",
       "  <thead>\n",
       "    <tr style=\"text-align: right;\">\n",
       "      <th></th>\n",
       "      <th>Lat</th>\n",
       "      <th>Lon</th>\n",
       "    </tr>\n",
       "  </thead>\n",
       "  <tbody>\n",
       "    <tr>\n",
       "      <th>0</th>\n",
       "      <td>50.029622</td>\n",
       "      <td>31.184756</td>\n",
       "    </tr>\n",
       "    <tr>\n",
       "      <th>1</th>\n",
       "      <td>67.170417</td>\n",
       "      <td>42.855607</td>\n",
       "    </tr>\n",
       "    <tr>\n",
       "      <th>2</th>\n",
       "      <td>63.574464</td>\n",
       "      <td>55.309269</td>\n",
       "    </tr>\n",
       "    <tr>\n",
       "      <th>3</th>\n",
       "      <td>68.680506</td>\n",
       "      <td>49.630252</td>\n",
       "    </tr>\n",
       "    <tr>\n",
       "      <th>4</th>\n",
       "      <td>47.833108</td>\n",
       "      <td>57.202716</td>\n",
       "    </tr>\n",
       "    <tr>\n",
       "      <th>5</th>\n",
       "      <td>64.228282</td>\n",
       "      <td>57.245945</td>\n",
       "    </tr>\n",
       "    <tr>\n",
       "      <th>6</th>\n",
       "      <td>48.971014</td>\n",
       "      <td>48.712493</td>\n",
       "    </tr>\n",
       "    <tr>\n",
       "      <th>7</th>\n",
       "      <td>64.505328</td>\n",
       "      <td>45.773187</td>\n",
       "    </tr>\n",
       "    <tr>\n",
       "      <th>8</th>\n",
       "      <td>69.038500</td>\n",
       "      <td>51.211282</td>\n",
       "    </tr>\n",
       "    <tr>\n",
       "      <th>9</th>\n",
       "      <td>39.936606</td>\n",
       "      <td>47.946563</td>\n",
       "    </tr>\n",
       "  </tbody>\n",
       "</table>\n",
       "</div>"
      ],
      "text/plain": [
       "         Lat        Lon\n",
       "0  50.029622  31.184756\n",
       "1  67.170417  42.855607\n",
       "2  63.574464  55.309269\n",
       "3  68.680506  49.630252\n",
       "4  47.833108  57.202716\n",
       "5  64.228282  57.245945\n",
       "6  48.971014  48.712493\n",
       "7  64.505328  45.773187\n",
       "8  69.038500  51.211282\n",
       "9  39.936606  47.946563"
      ]
     },
     "execution_count": 30,
     "metadata": {},
     "output_type": "execute_result"
    }
   ],
   "source": [
    "pd_tmp[:10]"
   ]
  },
  {
   "cell_type": "code",
   "execution_count": 31,
   "metadata": {
    "collapsed": true
   },
   "outputs": [],
   "source": [
    "pd_tmp['dist'] = pd_tmp.apply(lambda row: geodesic((row.Lat, row.Lon), water_coord).miles, axis=1)"
   ]
  },
  {
   "cell_type": "code",
   "execution_count": 32,
   "metadata": {},
   "outputs": [
    {
     "data": {
      "text/html": [
       "<div>\n",
       "<style scoped>\n",
       "    .dataframe tbody tr th:only-of-type {\n",
       "        vertical-align: middle;\n",
       "    }\n",
       "\n",
       "    .dataframe tbody tr th {\n",
       "        vertical-align: top;\n",
       "    }\n",
       "\n",
       "    .dataframe thead th {\n",
       "        text-align: right;\n",
       "    }\n",
       "</style>\n",
       "<table border=\"1\" class=\"dataframe\">\n",
       "  <thead>\n",
       "    <tr style=\"text-align: right;\">\n",
       "      <th></th>\n",
       "      <th>Lat</th>\n",
       "      <th>Lon</th>\n",
       "      <th>dist</th>\n",
       "    </tr>\n",
       "  </thead>\n",
       "  <tbody>\n",
       "    <tr>\n",
       "      <th>0</th>\n",
       "      <td>50.029622</td>\n",
       "      <td>31.184756</td>\n",
       "      <td>4612.176333</td>\n",
       "    </tr>\n",
       "    <tr>\n",
       "      <th>1</th>\n",
       "      <td>67.170417</td>\n",
       "      <td>42.855607</td>\n",
       "      <td>4212.308524</td>\n",
       "    </tr>\n",
       "    <tr>\n",
       "      <th>2</th>\n",
       "      <td>63.574464</td>\n",
       "      <td>55.309269</td>\n",
       "      <td>4642.671380</td>\n",
       "    </tr>\n",
       "    <tr>\n",
       "      <th>3</th>\n",
       "      <td>68.680506</td>\n",
       "      <td>49.630252</td>\n",
       "      <td>4276.306762</td>\n",
       "    </tr>\n",
       "    <tr>\n",
       "      <th>4</th>\n",
       "      <td>47.833108</td>\n",
       "      <td>57.202716</td>\n",
       "      <td>5545.938591</td>\n",
       "    </tr>\n",
       "    <tr>\n",
       "      <th>5</th>\n",
       "      <td>64.228282</td>\n",
       "      <td>57.245945</td>\n",
       "      <td>4645.580432</td>\n",
       "    </tr>\n",
       "    <tr>\n",
       "      <th>6</th>\n",
       "      <td>48.971014</td>\n",
       "      <td>48.712493</td>\n",
       "      <td>5239.609031</td>\n",
       "    </tr>\n",
       "    <tr>\n",
       "      <th>7</th>\n",
       "      <td>64.505328</td>\n",
       "      <td>45.773187</td>\n",
       "      <td>4395.198033</td>\n",
       "    </tr>\n",
       "    <tr>\n",
       "      <th>8</th>\n",
       "      <td>69.038500</td>\n",
       "      <td>51.211282</td>\n",
       "      <td>4287.418069</td>\n",
       "    </tr>\n",
       "    <tr>\n",
       "      <th>9</th>\n",
       "      <td>39.936606</td>\n",
       "      <td>47.946563</td>\n",
       "      <td>5683.528140</td>\n",
       "    </tr>\n",
       "  </tbody>\n",
       "</table>\n",
       "</div>"
      ],
      "text/plain": [
       "         Lat        Lon         dist\n",
       "0  50.029622  31.184756  4612.176333\n",
       "1  67.170417  42.855607  4212.308524\n",
       "2  63.574464  55.309269  4642.671380\n",
       "3  68.680506  49.630252  4276.306762\n",
       "4  47.833108  57.202716  5545.938591\n",
       "5  64.228282  57.245945  4645.580432\n",
       "6  48.971014  48.712493  5239.609031\n",
       "7  64.505328  45.773187  4395.198033\n",
       "8  69.038500  51.211282  4287.418069\n",
       "9  39.936606  47.946563  5683.528140"
      ]
     },
     "execution_count": 32,
     "metadata": {},
     "output_type": "execute_result"
    }
   ],
   "source": [
    "pd_tmp[:10]"
   ]
  },
  {
   "cell_type": "markdown",
   "metadata": {},
   "source": [
    "Returns the index of the smallest distance:"
   ]
  },
  {
   "cell_type": "code",
   "execution_count": 33,
   "metadata": {},
   "outputs": [
    {
     "data": {
      "text/plain": [
       "24"
      ]
     },
     "execution_count": 33,
     "metadata": {},
     "output_type": "execute_result"
    }
   ],
   "source": [
    "pd_tmp.apply(lambda inner_row: geodesic((inner_row.Lat, inner_row.Lon), water_coord).miles, axis=1).idxmin()"
   ]
  },
  {
   "cell_type": "code",
   "execution_count": 34,
   "metadata": {},
   "outputs": [
    {
     "data": {
      "text/html": [
       "<div>\n",
       "<style scoped>\n",
       "    .dataframe tbody tr th:only-of-type {\n",
       "        vertical-align: middle;\n",
       "    }\n",
       "\n",
       "    .dataframe tbody tr th {\n",
       "        vertical-align: top;\n",
       "    }\n",
       "\n",
       "    .dataframe thead th {\n",
       "        text-align: right;\n",
       "    }\n",
       "</style>\n",
       "<table border=\"1\" class=\"dataframe\">\n",
       "  <thead>\n",
       "    <tr style=\"text-align: right;\">\n",
       "      <th></th>\n",
       "      <th>Lat</th>\n",
       "      <th>Lon</th>\n",
       "    </tr>\n",
       "  </thead>\n",
       "  <tbody>\n",
       "    <tr>\n",
       "      <th>0</th>\n",
       "      <td>68.583610</td>\n",
       "      <td>49.784448</td>\n",
       "    </tr>\n",
       "    <tr>\n",
       "      <th>1</th>\n",
       "      <td>45.142953</td>\n",
       "      <td>53.580836</td>\n",
       "    </tr>\n",
       "    <tr>\n",
       "      <th>2</th>\n",
       "      <td>54.531124</td>\n",
       "      <td>64.946319</td>\n",
       "    </tr>\n",
       "  </tbody>\n",
       "</table>\n",
       "</div>"
      ],
      "text/plain": [
       "         Lat        Lon\n",
       "0  68.583610  49.784448\n",
       "1  45.142953  53.580836\n",
       "2  54.531124  64.946319"
      ]
     },
     "execution_count": 34,
     "metadata": {},
     "output_type": "execute_result"
    }
   ],
   "source": [
    "pd_tmp_2[:3]"
   ]
  },
  {
   "cell_type": "markdown",
   "metadata": {},
   "source": [
    "### Approximate distances computed with a KDTree:"
   ]
  },
  {
   "cell_type": "code",
   "execution_count": 35,
   "metadata": {
    "collapsed": true
   },
   "outputs": [],
   "source": [
    "#stackoverflow says use a KDTree\n",
    "#https://stackoverflow.com/questions/10818546/finding-index-of-nearest-point-in-numpy-arrays-of-x-and-y-coordinates"
   ]
  },
  {
   "cell_type": "code",
   "execution_count": 36,
   "metadata": {
    "collapsed": true
   },
   "outputs": [],
   "source": [
    "from scipy import spatial #this is where KDTree imports from"
   ]
  },
  {
   "cell_type": "code",
   "execution_count": 37,
   "metadata": {},
   "outputs": [
    {
     "data": {
      "text/plain": [
       "array([[  41.449482,  -71.98233 ],\n",
       "       [  41.457198,  -72.11459 ],\n",
       "       [  41.345578,  -70.75145 ],\n",
       "       ...,\n",
       "       [  42.729832, -108.63154 ],\n",
       "       [  42.729832, -108.63154 ],\n",
       "       [  44.801249, -106.96782 ]])"
      ]
     },
     "execution_count": 37,
     "metadata": {},
     "output_type": "execute_result"
    }
   ],
   "source": [
    "water_systems[['LAT', 'LON']].values #to initialize the KDTree, we need an array.\n",
    "                                     #We use this format below."
   ]
  },
  {
   "cell_type": "code",
   "execution_count": 38,
   "metadata": {},
   "outputs": [
    {
     "data": {
      "text/plain": [
       "(9191, 146351)"
      ]
     },
     "execution_count": 38,
     "metadata": {},
     "output_type": "execute_result"
    }
   ],
   "source": [
    "len(weather_stations), len(water_systems) #seeing again how big each df is."
   ]
  },
  {
   "cell_type": "code",
   "execution_count": 40,
   "metadata": {},
   "outputs": [
    {
     "name": "stdout",
     "output_type": "stream",
     "text": [
      "CPU times: user 88 ms, sys: 0 ns, total: 88 ms\n",
      "Wall time: 92.5 ms\n"
     ]
    }
   ],
   "source": [
    "%%time\n",
    "#initializing the KDTree on weather_stations.\n",
    "#We then poll this object in the next step over each line in water_systems.\n",
    "weather_kd_tree = spatial.KDTree(weather_stations[['Lat', 'Lon']].values)"
   ]
  },
  {
   "cell_type": "code",
   "execution_count": 41,
   "metadata": {
    "collapsed": true
   },
   "outputs": [],
   "source": [
    "#The following cell takes about 1 minute 15 seconds to run on a 2010 era middling laptop:"
   ]
  },
  {
   "cell_type": "code",
   "execution_count": 42,
   "metadata": {},
   "outputs": [
    {
     "name": "stdout",
     "output_type": "stream",
     "text": [
      "CPU times: user 1min 14s, sys: 176 ms, total: 1min 14s\n",
      "Wall time: 1min 14s\n"
     ]
    }
   ],
   "source": [
    "%%time\n",
    "water_weather_indexes = water_systems.apply(lambda row: np.asarray(weather_kd_tree.query([row.LAT, row.LON])), axis=1)"
   ]
  },
  {
   "cell_type": "code",
   "execution_count": 44,
   "metadata": {},
   "outputs": [
    {
     "data": {
      "text/plain": [
       "146351"
      ]
     },
     "execution_count": 44,
     "metadata": {},
     "output_type": "execute_result"
    }
   ],
   "source": [
    "len(water_weather_indexes)"
   ]
  },
  {
   "cell_type": "markdown",
   "metadata": {},
   "source": [
    "The returned distance is measured as if the coordinates were points on a flat grid. \n",
    "The units are a messy tangle of Lat and Lon but this seems good enough for our purposes."
   ]
  },
  {
   "cell_type": "code",
   "execution_count": 45,
   "metadata": {},
   "outputs": [
    {
     "data": {
      "text/plain": [
       "0    [0.11267760923980558, 5448.0]\n",
       "1    [0.08600884201057854, 5448.0]\n",
       "2    [0.20866895069463523, 5830.0]\n",
       "3    [0.13550271176621798, 5517.0]\n",
       "4    [0.13550271176621798, 5517.0]\n",
       "5    [0.07107975284144687, 7837.0]\n",
       "6    [0.07107975284144687, 7837.0]\n",
       "7    [0.17813446662563626, 3313.0]\n",
       "8    [0.07107975284144687, 7837.0]\n",
       "9    [0.07107975284144687, 7837.0]\n",
       "dtype: object"
      ]
     },
     "execution_count": 45,
     "metadata": {},
     "output_type": "execute_result"
    }
   ],
   "source": [
    "water_weather_indexes[:10] #the format is a strangely united distance (it's a rough approximate)\n",
    "                           #followed by the index where that coordinate lives in weather_stations"
   ]
  },
  {
   "cell_type": "code",
   "execution_count": 46,
   "metadata": {
    "collapsed": true
   },
   "outputs": [],
   "source": [
    "#splitting the array into two separate series:\n",
    "distances, station_indexes = (np.vstack(water_weather_indexes)[:,0],\n",
    "                              np.vstack(water_weather_indexes)[:,1])"
   ]
  },
  {
   "cell_type": "code",
   "execution_count": 47,
   "metadata": {},
   "outputs": [
    {
     "data": {
      "text/plain": [
       "array([0.11267761, 0.08600884, 0.20866895, ..., 0.06585048, 0.06585048,\n",
       "       0.01385044])"
      ]
     },
     "execution_count": 47,
     "metadata": {},
     "output_type": "execute_result"
    }
   ],
   "source": [
    "distances"
   ]
  },
  {
   "cell_type": "code",
   "execution_count": 48,
   "metadata": {},
   "outputs": [
    {
     "data": {
      "text/plain": [
       "array([5448., 5448., 5830., ..., 2170., 2170., 1746.])"
      ]
     },
     "execution_count": 48,
     "metadata": {},
     "output_type": "execute_result"
    }
   ],
   "source": [
    "station_indexes"
   ]
  },
  {
   "cell_type": "code",
   "execution_count": 49,
   "metadata": {},
   "outputs": [
    {
     "data": {
      "text/plain": [
       "9187.0"
      ]
     },
     "execution_count": 49,
     "metadata": {},
     "output_type": "execute_result"
    }
   ],
   "source": [
    "max(station_indexes)"
   ]
  },
  {
   "cell_type": "code",
   "execution_count": 50,
   "metadata": {},
   "outputs": [
    {
     "data": {
      "text/plain": [
       "146351"
      ]
     },
     "execution_count": 50,
     "metadata": {},
     "output_type": "execute_result"
    }
   ],
   "source": [
    "len(station_indexes)"
   ]
  },
  {
   "cell_type": "code",
   "execution_count": 51,
   "metadata": {
    "collapsed": true
   },
   "outputs": [],
   "source": [
    "station_indexes_df = pd.DataFrame(station_indexes) #converting to a pandas dataframe"
   ]
  },
  {
   "cell_type": "code",
   "execution_count": 52,
   "metadata": {},
   "outputs": [
    {
     "data": {
      "text/html": [
       "<div>\n",
       "<style scoped>\n",
       "    .dataframe tbody tr th:only-of-type {\n",
       "        vertical-align: middle;\n",
       "    }\n",
       "\n",
       "    .dataframe tbody tr th {\n",
       "        vertical-align: top;\n",
       "    }\n",
       "\n",
       "    .dataframe thead th {\n",
       "        text-align: right;\n",
       "    }\n",
       "</style>\n",
       "<table border=\"1\" class=\"dataframe\">\n",
       "  <thead>\n",
       "    <tr style=\"text-align: right;\">\n",
       "      <th></th>\n",
       "      <th>0</th>\n",
       "    </tr>\n",
       "  </thead>\n",
       "  <tbody>\n",
       "    <tr>\n",
       "      <th>0</th>\n",
       "      <td>5448.0</td>\n",
       "    </tr>\n",
       "    <tr>\n",
       "      <th>1</th>\n",
       "      <td>5448.0</td>\n",
       "    </tr>\n",
       "    <tr>\n",
       "      <th>2</th>\n",
       "      <td>5830.0</td>\n",
       "    </tr>\n",
       "    <tr>\n",
       "      <th>3</th>\n",
       "      <td>5517.0</td>\n",
       "    </tr>\n",
       "    <tr>\n",
       "      <th>4</th>\n",
       "      <td>5517.0</td>\n",
       "    </tr>\n",
       "    <tr>\n",
       "      <th>5</th>\n",
       "      <td>7837.0</td>\n",
       "    </tr>\n",
       "    <tr>\n",
       "      <th>6</th>\n",
       "      <td>7837.0</td>\n",
       "    </tr>\n",
       "    <tr>\n",
       "      <th>7</th>\n",
       "      <td>3313.0</td>\n",
       "    </tr>\n",
       "    <tr>\n",
       "      <th>8</th>\n",
       "      <td>7837.0</td>\n",
       "    </tr>\n",
       "    <tr>\n",
       "      <th>9</th>\n",
       "      <td>7837.0</td>\n",
       "    </tr>\n",
       "  </tbody>\n",
       "</table>\n",
       "</div>"
      ],
      "text/plain": [
       "        0\n",
       "0  5448.0\n",
       "1  5448.0\n",
       "2  5830.0\n",
       "3  5517.0\n",
       "4  5517.0\n",
       "5  7837.0\n",
       "6  7837.0\n",
       "7  3313.0\n",
       "8  7837.0\n",
       "9  7837.0"
      ]
     },
     "execution_count": 52,
     "metadata": {},
     "output_type": "execute_result"
    }
   ],
   "source": [
    "station_indexes_df[:10]"
   ]
  },
  {
   "cell_type": "code",
   "execution_count": 53,
   "metadata": {
    "collapsed": true
   },
   "outputs": [],
   "source": [
    "test = pd.DataFrame(weather_stations[:5]) #making sure we're looking at the right thing"
   ]
  },
  {
   "cell_type": "code",
   "execution_count": 54,
   "metadata": {},
   "outputs": [
    {
     "data": {
      "text/html": [
       "<div>\n",
       "<style scoped>\n",
       "    .dataframe tbody tr th:only-of-type {\n",
       "        vertical-align: middle;\n",
       "    }\n",
       "\n",
       "    .dataframe tbody tr th {\n",
       "        vertical-align: top;\n",
       "    }\n",
       "\n",
       "    .dataframe thead th {\n",
       "        text-align: right;\n",
       "    }\n",
       "</style>\n",
       "<table border=\"1\" class=\"dataframe\">\n",
       "  <thead>\n",
       "    <tr style=\"text-align: right;\">\n",
       "      <th></th>\n",
       "      <th>Station</th>\n",
       "      <th>Lat</th>\n",
       "      <th>Lon</th>\n",
       "    </tr>\n",
       "  </thead>\n",
       "  <tbody>\n",
       "    <tr>\n",
       "      <th>0</th>\n",
       "      <td>STOVEPIPE WELLS 1 SW</td>\n",
       "      <td>36.60200</td>\n",
       "      <td>-117.14490</td>\n",
       "    </tr>\n",
       "    <tr>\n",
       "      <th>1</th>\n",
       "      <td>DEATH VALLEY</td>\n",
       "      <td>36.46220</td>\n",
       "      <td>-116.86690</td>\n",
       "    </tr>\n",
       "    <tr>\n",
       "      <th>2</th>\n",
       "      <td>IMPERIAL COUNTY AP</td>\n",
       "      <td>32.83417</td>\n",
       "      <td>-115.57861</td>\n",
       "    </tr>\n",
       "    <tr>\n",
       "      <th>3</th>\n",
       "      <td>YUMA 13.8 ESE</td>\n",
       "      <td>32.63410</td>\n",
       "      <td>-114.40560</td>\n",
       "    </tr>\n",
       "    <tr>\n",
       "      <th>4</th>\n",
       "      <td>YUMA 7.7 SE</td>\n",
       "      <td>32.64320</td>\n",
       "      <td>-114.52300</td>\n",
       "    </tr>\n",
       "  </tbody>\n",
       "</table>\n",
       "</div>"
      ],
      "text/plain": [
       "                Station       Lat        Lon\n",
       "0  STOVEPIPE WELLS 1 SW  36.60200 -117.14490\n",
       "1          DEATH VALLEY  36.46220 -116.86690\n",
       "2    IMPERIAL COUNTY AP  32.83417 -115.57861\n",
       "3         YUMA 13.8 ESE  32.63410 -114.40560\n",
       "4           YUMA 7.7 SE  32.64320 -114.52300"
      ]
     },
     "execution_count": 54,
     "metadata": {},
     "output_type": "execute_result"
    }
   ],
   "source": [
    "test"
   ]
  },
  {
   "cell_type": "code",
   "execution_count": 55,
   "metadata": {},
   "outputs": [
    {
     "data": {
      "text/plain": [
       "PWSID    AK2213598\n",
       "LAT        61.0683\n",
       "LON         -149.8\n",
       "Name: 1000, dtype: object"
      ]
     },
     "execution_count": 55,
     "metadata": {},
     "output_type": "execute_result"
    }
   ],
   "source": [
    "water_systems.iloc[1000] #getting the value based on an int index"
   ]
  },
  {
   "cell_type": "code",
   "execution_count": 56,
   "metadata": {},
   "outputs": [
    {
     "data": {
      "text/plain": [
       "146351"
      ]
     },
     "execution_count": 56,
     "metadata": {},
     "output_type": "execute_result"
    }
   ],
   "source": [
    "len(water_systems)"
   ]
  },
  {
   "cell_type": "code",
   "execution_count": 57,
   "metadata": {},
   "outputs": [
    {
     "data": {
      "text/plain": [
       "PWSID    CA3301145\n",
       "LAT        33.7508\n",
       "LON       -116.726\n",
       "Name: 9190, dtype: object"
      ]
     },
     "execution_count": 57,
     "metadata": {},
     "output_type": "execute_result"
    }
   ],
   "source": [
    "water_systems.iloc[9190]"
   ]
  },
  {
   "cell_type": "code",
   "execution_count": 58,
   "metadata": {},
   "outputs": [
    {
     "data": {
      "text/plain": [
       "array([5448., 5448., 5830., 5517., 5517., 7837., 7837., 3313., 7837.,\n",
       "       7837., 6318., 3106., 7837., 7837., 8001., 7159., 7159., 7159.,\n",
       "       7159., 8700., 8700., 8079., 8079., 8079., 8079., 6771., 6771.,\n",
       "       6771., 6771., 6771., 6771., 6771., 6771., 6771., 6771., 6771.,\n",
       "       6771., 6771., 6771., 6771., 6516., 6771., 6771., 6771., 4558.,\n",
       "       3714., 4753., 4253., 4253., 4253., 6168., 6168., 6168., 4478.,\n",
       "       4478., 4478., 5150., 6936., 2783., 2783., 2783., 2783., 2783.,\n",
       "       6563., 6563., 1632., 8422., 6436., 6436., 6436., 6436., 6217.,\n",
       "       3913., 3913., 3913., 3913., 4373., 4558., 3714., 4753., 4753.,\n",
       "       5403., 4253., 4253., 4253., 3146., 3146., 2852., 3680., 4478.,\n",
       "       4478., 4904., 5353., 2783., 2783., 2783., 2783., 2783., 2783.,\n",
       "       2783.])"
      ]
     },
     "execution_count": 58,
     "metadata": {},
     "output_type": "execute_result"
    }
   ],
   "source": [
    "station_indexes[:100]"
   ]
  },
  {
   "cell_type": "code",
   "execution_count": 59,
   "metadata": {},
   "outputs": [
    {
     "data": {
      "text/plain": [
       "(146351, 146351, 9191)"
      ]
     },
     "execution_count": 59,
     "metadata": {},
     "output_type": "execute_result"
    }
   ],
   "source": [
    "len(station_indexes), len(water_systems), len(weather_stations)"
   ]
  },
  {
   "cell_type": "markdown",
   "metadata": {},
   "source": [
    "The following cell takes about a minute to run on my 2010 thinkpad:"
   ]
  },
  {
   "cell_type": "code",
   "execution_count": 60,
   "metadata": {},
   "outputs": [
    {
     "name": "stdout",
     "output_type": "stream",
     "text": [
      "CPU times: user 1min 1s, sys: 212 ms, total: 1min 1s\n",
      "Wall time: 1min 2s\n"
     ]
    }
   ],
   "source": [
    "%%time\n",
    "#look up each index in water_systems and assign it to a row.\n",
    "#paired_stations = station_indexes_df.apply(lambda row: water_systems.iloc[int(row)], axis=1)\n",
    "paired_stations = station_indexes_df.apply(lambda row: weather_stations.iloc[int(row)], axis=1)"
   ]
  },
  {
   "cell_type": "code",
   "execution_count": 113,
   "metadata": {
    "collapsed": true
   },
   "outputs": [],
   "source": [
    "#paired_stations.columns = ['weather_station_ID', 'station_lat', 'station_lon']"
   ]
  },
  {
   "cell_type": "code",
   "execution_count": 62,
   "metadata": {},
   "outputs": [
    {
     "data": {
      "text/html": [
       "<div>\n",
       "<style scoped>\n",
       "    .dataframe tbody tr th:only-of-type {\n",
       "        vertical-align: middle;\n",
       "    }\n",
       "\n",
       "    .dataframe tbody tr th {\n",
       "        vertical-align: top;\n",
       "    }\n",
       "\n",
       "    .dataframe thead th {\n",
       "        text-align: right;\n",
       "    }\n",
       "</style>\n",
       "<table border=\"1\" class=\"dataframe\">\n",
       "  <thead>\n",
       "    <tr style=\"text-align: right;\">\n",
       "      <th></th>\n",
       "      <th>Station</th>\n",
       "      <th>Lat</th>\n",
       "      <th>Lon</th>\n",
       "    </tr>\n",
       "  </thead>\n",
       "  <tbody>\n",
       "    <tr>\n",
       "      <th>0</th>\n",
       "      <td>NORWICH PUB UTILITY PLANT</td>\n",
       "      <td>41.52690</td>\n",
       "      <td>-72.06420</td>\n",
       "    </tr>\n",
       "    <tr>\n",
       "      <th>1</th>\n",
       "      <td>NORWICH PUB UTILITY PLANT</td>\n",
       "      <td>41.52690</td>\n",
       "      <td>-72.06420</td>\n",
       "    </tr>\n",
       "    <tr>\n",
       "      <th>2</th>\n",
       "      <td>WOODS HOLE GOLF CLUB</td>\n",
       "      <td>41.53260</td>\n",
       "      <td>-70.65890</td>\n",
       "    </tr>\n",
       "    <tr>\n",
       "      <th>3</th>\n",
       "      <td>WESTERLY STATE AIRPORT</td>\n",
       "      <td>41.34972</td>\n",
       "      <td>-71.79889</td>\n",
       "    </tr>\n",
       "    <tr>\n",
       "      <th>4</th>\n",
       "      <td>WESTERLY STATE AIRPORT</td>\n",
       "      <td>41.34972</td>\n",
       "      <td>-71.79889</td>\n",
       "    </tr>\n",
       "    <tr>\n",
       "      <th>5</th>\n",
       "      <td>ALLEGANY STATE PARK</td>\n",
       "      <td>42.10030</td>\n",
       "      <td>-78.74970</td>\n",
       "    </tr>\n",
       "    <tr>\n",
       "      <th>6</th>\n",
       "      <td>ALLEGANY STATE PARK</td>\n",
       "      <td>42.10030</td>\n",
       "      <td>-78.74970</td>\n",
       "    </tr>\n",
       "    <tr>\n",
       "      <th>7</th>\n",
       "      <td>MASSENA INTL AP</td>\n",
       "      <td>44.93583</td>\n",
       "      <td>-74.84583</td>\n",
       "    </tr>\n",
       "    <tr>\n",
       "      <th>8</th>\n",
       "      <td>ALLEGANY STATE PARK</td>\n",
       "      <td>42.10030</td>\n",
       "      <td>-78.74970</td>\n",
       "    </tr>\n",
       "    <tr>\n",
       "      <th>9</th>\n",
       "      <td>ALLEGANY STATE PARK</td>\n",
       "      <td>42.10030</td>\n",
       "      <td>-78.74970</td>\n",
       "    </tr>\n",
       "  </tbody>\n",
       "</table>\n",
       "</div>"
      ],
      "text/plain": [
       "                     Station       Lat       Lon\n",
       "0  NORWICH PUB UTILITY PLANT  41.52690 -72.06420\n",
       "1  NORWICH PUB UTILITY PLANT  41.52690 -72.06420\n",
       "2       WOODS HOLE GOLF CLUB  41.53260 -70.65890\n",
       "3     WESTERLY STATE AIRPORT  41.34972 -71.79889\n",
       "4     WESTERLY STATE AIRPORT  41.34972 -71.79889\n",
       "5        ALLEGANY STATE PARK  42.10030 -78.74970\n",
       "6        ALLEGANY STATE PARK  42.10030 -78.74970\n",
       "7            MASSENA INTL AP  44.93583 -74.84583\n",
       "8        ALLEGANY STATE PARK  42.10030 -78.74970\n",
       "9        ALLEGANY STATE PARK  42.10030 -78.74970"
      ]
     },
     "execution_count": 62,
     "metadata": {},
     "output_type": "execute_result"
    }
   ],
   "source": [
    "paired_stations[:10]"
   ]
  },
  {
   "cell_type": "code",
   "execution_count": 101,
   "metadata": {},
   "outputs": [
    {
     "name": "stdout",
     "output_type": "stream",
     "text": [
      "CPU times: user 8 ms, sys: 4 ms, total: 12 ms\n",
      "Wall time: 8.39 ms\n"
     ]
    }
   ],
   "source": [
    "%%time\n",
    "stations_and_systems = pd.concat([water_systems, paired_stations], axis=1)"
   ]
  },
  {
   "cell_type": "code",
   "execution_count": 102,
   "metadata": {},
   "outputs": [
    {
     "data": {
      "text/html": [
       "<div>\n",
       "<style scoped>\n",
       "    .dataframe tbody tr th:only-of-type {\n",
       "        vertical-align: middle;\n",
       "    }\n",
       "\n",
       "    .dataframe tbody tr th {\n",
       "        vertical-align: top;\n",
       "    }\n",
       "\n",
       "    .dataframe thead th {\n",
       "        text-align: right;\n",
       "    }\n",
       "</style>\n",
       "<table border=\"1\" class=\"dataframe\">\n",
       "  <thead>\n",
       "    <tr style=\"text-align: right;\">\n",
       "      <th></th>\n",
       "      <th>PWSID</th>\n",
       "      <th>LAT</th>\n",
       "      <th>LON</th>\n",
       "      <th>Station</th>\n",
       "      <th>Lat</th>\n",
       "      <th>Lon</th>\n",
       "    </tr>\n",
       "  </thead>\n",
       "  <tbody>\n",
       "    <tr>\n",
       "      <th>0</th>\n",
       "      <td>10106001</td>\n",
       "      <td>41.449482</td>\n",
       "      <td>-71.98233</td>\n",
       "      <td>NORWICH PUB UTILITY PLANT</td>\n",
       "      <td>41.52690</td>\n",
       "      <td>-72.06420</td>\n",
       "    </tr>\n",
       "    <tr>\n",
       "      <th>1</th>\n",
       "      <td>10109005</td>\n",
       "      <td>41.457198</td>\n",
       "      <td>-72.11459</td>\n",
       "      <td>NORWICH PUB UTILITY PLANT</td>\n",
       "      <td>41.52690</td>\n",
       "      <td>-72.06420</td>\n",
       "    </tr>\n",
       "    <tr>\n",
       "      <th>2</th>\n",
       "      <td>10307001</td>\n",
       "      <td>41.345578</td>\n",
       "      <td>-70.75145</td>\n",
       "      <td>WOODS HOLE GOLF CLUB</td>\n",
       "      <td>41.53260</td>\n",
       "      <td>-70.65890</td>\n",
       "    </tr>\n",
       "    <tr>\n",
       "      <th>3</th>\n",
       "      <td>10502002</td>\n",
       "      <td>41.385256</td>\n",
       "      <td>-71.66813</td>\n",
       "      <td>WESTERLY STATE AIRPORT</td>\n",
       "      <td>41.34972</td>\n",
       "      <td>-71.79889</td>\n",
       "    </tr>\n",
       "    <tr>\n",
       "      <th>4</th>\n",
       "      <td>10502003</td>\n",
       "      <td>41.385256</td>\n",
       "      <td>-71.66813</td>\n",
       "      <td>WESTERLY STATE AIRPORT</td>\n",
       "      <td>41.34972</td>\n",
       "      <td>-71.79889</td>\n",
       "    </tr>\n",
       "  </tbody>\n",
       "</table>\n",
       "</div>"
      ],
      "text/plain": [
       "      PWSID        LAT       LON                    Station       Lat  \\\n",
       "0  10106001  41.449482 -71.98233  NORWICH PUB UTILITY PLANT  41.52690   \n",
       "1  10109005  41.457198 -72.11459  NORWICH PUB UTILITY PLANT  41.52690   \n",
       "2  10307001  41.345578 -70.75145       WOODS HOLE GOLF CLUB  41.53260   \n",
       "3  10502002  41.385256 -71.66813     WESTERLY STATE AIRPORT  41.34972   \n",
       "4  10502003  41.385256 -71.66813     WESTERLY STATE AIRPORT  41.34972   \n",
       "\n",
       "        Lon  \n",
       "0 -72.06420  \n",
       "1 -72.06420  \n",
       "2 -70.65890  \n",
       "3 -71.79889  \n",
       "4 -71.79889  "
      ]
     },
     "execution_count": 102,
     "metadata": {},
     "output_type": "execute_result"
    }
   ],
   "source": [
    "stations_and_systems[:5] #making sure everything is in the right format"
   ]
  },
  {
   "cell_type": "code",
   "execution_count": 103,
   "metadata": {},
   "outputs": [],
   "source": [
    "stations_and_systems = stations_and_systems.rename(index=str, columns={\"Station\": \"weather_station\", \n",
    "                                                                      \"Lat\": \"LAT_weather\", \n",
    "                                                                      \"Lon\":\"LON_weather\"})"
   ]
  },
  {
   "cell_type": "code",
   "execution_count": 104,
   "metadata": {
    "collapsed": true
   },
   "outputs": [],
   "source": [
    "tester = stations_and_systems[:10]"
   ]
  },
  {
   "cell_type": "code",
   "execution_count": 105,
   "metadata": {},
   "outputs": [
    {
     "data": {
      "text/html": [
       "<div>\n",
       "<style scoped>\n",
       "    .dataframe tbody tr th:only-of-type {\n",
       "        vertical-align: middle;\n",
       "    }\n",
       "\n",
       "    .dataframe tbody tr th {\n",
       "        vertical-align: top;\n",
       "    }\n",
       "\n",
       "    .dataframe thead th {\n",
       "        text-align: right;\n",
       "    }\n",
       "</style>\n",
       "<table border=\"1\" class=\"dataframe\">\n",
       "  <thead>\n",
       "    <tr style=\"text-align: right;\">\n",
       "      <th></th>\n",
       "      <th>PWSID</th>\n",
       "      <th>LAT</th>\n",
       "      <th>LON</th>\n",
       "      <th>weather_station</th>\n",
       "      <th>LAT_weather</th>\n",
       "      <th>LON_weather</th>\n",
       "    </tr>\n",
       "  </thead>\n",
       "  <tbody>\n",
       "    <tr>\n",
       "      <th>0</th>\n",
       "      <td>10106001</td>\n",
       "      <td>41.449482</td>\n",
       "      <td>-71.98233</td>\n",
       "      <td>NORWICH PUB UTILITY PLANT</td>\n",
       "      <td>41.52690</td>\n",
       "      <td>-72.06420</td>\n",
       "    </tr>\n",
       "    <tr>\n",
       "      <th>1</th>\n",
       "      <td>10109005</td>\n",
       "      <td>41.457198</td>\n",
       "      <td>-72.11459</td>\n",
       "      <td>NORWICH PUB UTILITY PLANT</td>\n",
       "      <td>41.52690</td>\n",
       "      <td>-72.06420</td>\n",
       "    </tr>\n",
       "    <tr>\n",
       "      <th>2</th>\n",
       "      <td>10307001</td>\n",
       "      <td>41.345578</td>\n",
       "      <td>-70.75145</td>\n",
       "      <td>WOODS HOLE GOLF CLUB</td>\n",
       "      <td>41.53260</td>\n",
       "      <td>-70.65890</td>\n",
       "    </tr>\n",
       "    <tr>\n",
       "      <th>3</th>\n",
       "      <td>10502002</td>\n",
       "      <td>41.385256</td>\n",
       "      <td>-71.66813</td>\n",
       "      <td>WESTERLY STATE AIRPORT</td>\n",
       "      <td>41.34972</td>\n",
       "      <td>-71.79889</td>\n",
       "    </tr>\n",
       "    <tr>\n",
       "      <th>4</th>\n",
       "      <td>10502003</td>\n",
       "      <td>41.385256</td>\n",
       "      <td>-71.66813</td>\n",
       "      <td>WESTERLY STATE AIRPORT</td>\n",
       "      <td>41.34972</td>\n",
       "      <td>-71.79889</td>\n",
       "    </tr>\n",
       "    <tr>\n",
       "      <th>5</th>\n",
       "      <td>20000001</td>\n",
       "      <td>42.168508</td>\n",
       "      <td>-78.72970</td>\n",
       "      <td>ALLEGANY STATE PARK</td>\n",
       "      <td>42.10030</td>\n",
       "      <td>-78.74970</td>\n",
       "    </tr>\n",
       "    <tr>\n",
       "      <th>6</th>\n",
       "      <td>20000004</td>\n",
       "      <td>42.168508</td>\n",
       "      <td>-78.72970</td>\n",
       "      <td>ALLEGANY STATE PARK</td>\n",
       "      <td>42.10030</td>\n",
       "      <td>-78.74970</td>\n",
       "    </tr>\n",
       "    <tr>\n",
       "      <th>7</th>\n",
       "      <td>20000005</td>\n",
       "      <td>44.981840</td>\n",
       "      <td>-74.67374</td>\n",
       "      <td>MASSENA INTL AP</td>\n",
       "      <td>44.93583</td>\n",
       "      <td>-74.84583</td>\n",
       "    </tr>\n",
       "    <tr>\n",
       "      <th>8</th>\n",
       "      <td>20000007</td>\n",
       "      <td>42.168508</td>\n",
       "      <td>-78.72970</td>\n",
       "      <td>ALLEGANY STATE PARK</td>\n",
       "      <td>42.10030</td>\n",
       "      <td>-78.74970</td>\n",
       "    </tr>\n",
       "    <tr>\n",
       "      <th>9</th>\n",
       "      <td>20000008</td>\n",
       "      <td>42.168508</td>\n",
       "      <td>-78.72970</td>\n",
       "      <td>ALLEGANY STATE PARK</td>\n",
       "      <td>42.10030</td>\n",
       "      <td>-78.74970</td>\n",
       "    </tr>\n",
       "  </tbody>\n",
       "</table>\n",
       "</div>"
      ],
      "text/plain": [
       "      PWSID        LAT       LON            weather_station  LAT_weather  \\\n",
       "0  10106001  41.449482 -71.98233  NORWICH PUB UTILITY PLANT     41.52690   \n",
       "1  10109005  41.457198 -72.11459  NORWICH PUB UTILITY PLANT     41.52690   \n",
       "2  10307001  41.345578 -70.75145       WOODS HOLE GOLF CLUB     41.53260   \n",
       "3  10502002  41.385256 -71.66813     WESTERLY STATE AIRPORT     41.34972   \n",
       "4  10502003  41.385256 -71.66813     WESTERLY STATE AIRPORT     41.34972   \n",
       "5  20000001  42.168508 -78.72970        ALLEGANY STATE PARK     42.10030   \n",
       "6  20000004  42.168508 -78.72970        ALLEGANY STATE PARK     42.10030   \n",
       "7  20000005  44.981840 -74.67374            MASSENA INTL AP     44.93583   \n",
       "8  20000007  42.168508 -78.72970        ALLEGANY STATE PARK     42.10030   \n",
       "9  20000008  42.168508 -78.72970        ALLEGANY STATE PARK     42.10030   \n",
       "\n",
       "   LON_weather  \n",
       "0    -72.06420  \n",
       "1    -72.06420  \n",
       "2    -70.65890  \n",
       "3    -71.79889  \n",
       "4    -71.79889  \n",
       "5    -78.74970  \n",
       "6    -78.74970  \n",
       "7    -74.84583  \n",
       "8    -78.74970  \n",
       "9    -78.74970  "
      ]
     },
     "execution_count": 105,
     "metadata": {},
     "output_type": "execute_result"
    }
   ],
   "source": [
    "tester"
   ]
  },
  {
   "cell_type": "code",
   "execution_count": 118,
   "metadata": {},
   "outputs": [
    {
     "name": "stdout",
     "output_type": "stream",
     "text": [
      "CPU times: user 1min 14s, sys: 0 ns, total: 1min 14s\n",
      "Wall time: 1min 14s\n"
     ]
    }
   ],
   "source": [
    "%%time\n",
    "#Compute the distance to the nearest stations after the fact:\n",
    "stations_and_systems['distance'] = stations_and_systems.apply(lambda row: round(geodesic((row.loc['LAT'], \n",
    "                                                                                          row.loc['LON']),\n",
    "                                                                                         (row.loc['LAT_weather'], \n",
    "                                                                                          row.loc['LON_weather'])).miles, 3),\n",
    "                                                              axis=1)"
   ]
  },
  {
   "cell_type": "code",
   "execution_count": 119,
   "metadata": {},
   "outputs": [
    {
     "data": {
      "text/html": [
       "<div>\n",
       "<style scoped>\n",
       "    .dataframe tbody tr th:only-of-type {\n",
       "        vertical-align: middle;\n",
       "    }\n",
       "\n",
       "    .dataframe tbody tr th {\n",
       "        vertical-align: top;\n",
       "    }\n",
       "\n",
       "    .dataframe thead th {\n",
       "        text-align: right;\n",
       "    }\n",
       "</style>\n",
       "<table border=\"1\" class=\"dataframe\">\n",
       "  <thead>\n",
       "    <tr style=\"text-align: right;\">\n",
       "      <th></th>\n",
       "      <th>PWSID</th>\n",
       "      <th>LAT</th>\n",
       "      <th>LON</th>\n",
       "      <th>weather_station</th>\n",
       "      <th>LAT_weather</th>\n",
       "      <th>LON_weather</th>\n",
       "      <th>distance</th>\n",
       "    </tr>\n",
       "  </thead>\n",
       "  <tbody>\n",
       "    <tr>\n",
       "      <th>0</th>\n",
       "      <td>10106001</td>\n",
       "      <td>41.449482</td>\n",
       "      <td>-71.98233</td>\n",
       "      <td>NORWICH PUB UTILITY PLANT</td>\n",
       "      <td>41.52690</td>\n",
       "      <td>-72.06420</td>\n",
       "      <td>6.826</td>\n",
       "    </tr>\n",
       "    <tr>\n",
       "      <th>1</th>\n",
       "      <td>10109005</td>\n",
       "      <td>41.457198</td>\n",
       "      <td>-72.11459</td>\n",
       "      <td>NORWICH PUB UTILITY PLANT</td>\n",
       "      <td>41.52690</td>\n",
       "      <td>-72.06420</td>\n",
       "      <td>5.475</td>\n",
       "    </tr>\n",
       "    <tr>\n",
       "      <th>2</th>\n",
       "      <td>10307001</td>\n",
       "      <td>41.345578</td>\n",
       "      <td>-70.75145</td>\n",
       "      <td>WOODS HOLE GOLF CLUB</td>\n",
       "      <td>41.53260</td>\n",
       "      <td>-70.65890</td>\n",
       "      <td>13.772</td>\n",
       "    </tr>\n",
       "    <tr>\n",
       "      <th>3</th>\n",
       "      <td>10502002</td>\n",
       "      <td>41.385256</td>\n",
       "      <td>-71.66813</td>\n",
       "      <td>WESTERLY STATE AIRPORT</td>\n",
       "      <td>41.34972</td>\n",
       "      <td>-71.79889</td>\n",
       "      <td>7.227</td>\n",
       "    </tr>\n",
       "    <tr>\n",
       "      <th>4</th>\n",
       "      <td>10502003</td>\n",
       "      <td>41.385256</td>\n",
       "      <td>-71.66813</td>\n",
       "      <td>WESTERLY STATE AIRPORT</td>\n",
       "      <td>41.34972</td>\n",
       "      <td>-71.79889</td>\n",
       "      <td>7.227</td>\n",
       "    </tr>\n",
       "  </tbody>\n",
       "</table>\n",
       "</div>"
      ],
      "text/plain": [
       "      PWSID        LAT       LON            weather_station  LAT_weather  \\\n",
       "0  10106001  41.449482 -71.98233  NORWICH PUB UTILITY PLANT     41.52690   \n",
       "1  10109005  41.457198 -72.11459  NORWICH PUB UTILITY PLANT     41.52690   \n",
       "2  10307001  41.345578 -70.75145       WOODS HOLE GOLF CLUB     41.53260   \n",
       "3  10502002  41.385256 -71.66813     WESTERLY STATE AIRPORT     41.34972   \n",
       "4  10502003  41.385256 -71.66813     WESTERLY STATE AIRPORT     41.34972   \n",
       "\n",
       "   LON_weather  distance  \n",
       "0    -72.06420     6.826  \n",
       "1    -72.06420     5.475  \n",
       "2    -70.65890    13.772  \n",
       "3    -71.79889     7.227  \n",
       "4    -71.79889     7.227  "
      ]
     },
     "execution_count": 119,
     "metadata": {},
     "output_type": "execute_result"
    }
   ],
   "source": [
    "stations_and_systems[:5]"
   ]
  },
  {
   "cell_type": "code",
   "execution_count": 120,
   "metadata": {},
   "outputs": [
    {
     "name": "stdout",
     "output_type": "stream",
     "text": [
      "/home/aaron/projects/safe-water/code/python/notebooks/stations_to_systems_distance\r\n"
     ]
    }
   ],
   "source": [
    "!pwd"
   ]
  },
  {
   "cell_type": "code",
   "execution_count": 121,
   "metadata": {
    "collapsed": true
   },
   "outputs": [],
   "source": [
    "csv_output_path = '../../../../data/geography/water_systems_and_nearest_weather_stations.csv'"
   ]
  },
  {
   "cell_type": "code",
   "execution_count": 122,
   "metadata": {},
   "outputs": [],
   "source": [
    "stations_and_systems.to_csv(csv_output_path)"
   ]
  },
  {
   "cell_type": "code",
   "execution_count": null,
   "metadata": {
    "collapsed": true
   },
   "outputs": [],
   "source": []
  }
 ],
 "metadata": {
  "kernelspec": {
   "display_name": "Python 3",
   "language": "python",
   "name": "python3"
  },
  "language_info": {
   "codemirror_mode": {
    "name": "ipython",
    "version": 3
   },
   "file_extension": ".py",
   "mimetype": "text/x-python",
   "name": "python",
   "nbconvert_exporter": "python",
   "pygments_lexer": "ipython3",
   "version": "3.6.8"
  }
 },
 "nbformat": 4,
 "nbformat_minor": 2
}
