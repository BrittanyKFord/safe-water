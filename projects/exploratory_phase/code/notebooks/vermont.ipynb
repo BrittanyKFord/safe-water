{
 "cells": [
  {
   "cell_type": "markdown",
   "metadata": {},
   "source": [
    "## Water violations in Vermont\n",
    "\n",
    "To run this notebook, load SDWIS csv data files into the folder ../../../data/sdwis/SDWIS"
   ]
  },
  {
   "cell_type": "code",
   "execution_count": 1,
   "metadata": {},
   "outputs": [],
   "source": [
    "import os\n",
    "import numpy as np\n",
    "import pandas as pd\n",
    "\n",
    "%matplotlib inline\n",
    "import matplotlib.pyplot as plt\n",
    "\n",
    "STATE_CODE = 'VT'"
   ]
  },
  {
   "cell_type": "code",
   "execution_count": 2,
   "metadata": {},
   "outputs": [],
   "source": [
    "# Label data with full year, e.g., 2012 for 01-JUL-12, 1990 for 01-JUN-90\n",
    "def get_full_year(ddmmmyy):\n",
    "    full_year = 0\n",
    "    date_parts = ddmmmyy.split('-')\n",
    "    if len(date_parts) == 3:\n",
    "        if (int(date_parts[2]) <= 19):\n",
    "            full_year = int('20' + date_parts[2])\n",
    "        else:\n",
    "            full_year = int('19' + date_parts[2])\n",
    "    return full_year"
   ]
  },
  {
   "cell_type": "code",
   "execution_count": 3,
   "metadata": {},
   "outputs": [],
   "source": [
    "def get_full_year_for_row(row):\n",
    "    return get_full_year(row['VIOLATION.COMPL_PER_BEGIN_DATE'])"
   ]
  },
  {
   "cell_type": "code",
   "execution_count": 4,
   "metadata": {},
   "outputs": [],
   "source": [
    "# calculate years ago from input 'current_year'\n",
    "def get_years_ago(row, current_year):\n",
    "    row_year = get_full_year(row['VIOLATION.COMPL_PER_BEGIN_DATE'])\n",
    "    return str(current_year - row_year) + '_yrs_ago'"
   ]
  },
  {
   "cell_type": "code",
   "execution_count": 5,
   "metadata": {},
   "outputs": [],
   "source": [
    "def print_water_system_violations(water_system_df, viol_df):\n",
    "    viol_df = viol_df.merge(water_system_df, left_on='VIOLATION.PWSID', right_on='WATER_SYSTEM.PWSID')\n",
    "    print('# water systems: ' + str(water_system_df.shape[0]))\n",
    "    print('# violations: ' + str(viol_df.shape[0]))\n",
    "    print('# reporting violations: ' \\\n",
    "          + str(viol_df[viol_df['VIOLATION.VIOLATION_CATEGORY_CODE'] == 'MR'].shape[0]))\n",
    "    print('# health violations: ' \\\n",
    "          + str(viol_df[viol_df['VIOLATION.IS_HEALTH_BASED_IND'] == 'Y'].shape[0]))\n",
    "        "
   ]
  },
  {
   "cell_type": "code",
   "execution_count": 6,
   "metadata": {},
   "outputs": [],
   "source": [
    "# read input files\n",
    "data_dir = '../../../data'\n",
    "# print(os.listdir(data_dir))\n",
    "\n",
    "# assumes csv files are in folder ../../../data/sdwis/SDWIS\n",
    "viol = pd.read_csv(os.path.join(data_dir + '/sdwis/SDWIS', 'VIOLATION.csv'), sep=',', \\\n",
    "                  dtype={'VIOLATION.CONTAMINANT_CODE': np.str}, low_memory=False)\n",
    "ws = pd.read_csv(os.path.join(data_dir + '/sdwis/SDWIS', 'WATER_SYSTEM.csv'), \\\n",
    "                           low_memory=False)"
   ]
  },
  {
   "cell_type": "code",
   "execution_count": 7,
   "metadata": {},
   "outputs": [],
   "source": [
    "viol.loc[:, 'VIOLATION.YEAR'] = viol.apply(get_full_year_for_row, axis=1)"
   ]
  },
  {
   "cell_type": "code",
   "execution_count": 8,
   "metadata": {},
   "outputs": [
    {
     "data": {
      "text/html": [
       "<div>\n",
       "<style scoped>\n",
       "    .dataframe tbody tr th:only-of-type {\n",
       "        vertical-align: middle;\n",
       "    }\n",
       "\n",
       "    .dataframe tbody tr th {\n",
       "        vertical-align: top;\n",
       "    }\n",
       "\n",
       "    .dataframe thead th {\n",
       "        text-align: right;\n",
       "    }\n",
       "</style>\n",
       "<table border=\"1\" class=\"dataframe\">\n",
       "  <thead>\n",
       "    <tr style=\"text-align: right;\">\n",
       "      <th></th>\n",
       "      <th>VIOLATION.PWSID</th>\n",
       "      <th>VIOLATION.VIOLATION_ID</th>\n",
       "      <th>VIOLATION.FACILITY_ID</th>\n",
       "      <th>VIOLATION.POPULATION_SERVED_COUNT</th>\n",
       "      <th>VIOLATION.NPM_CANDIDATE</th>\n",
       "      <th>VIOLATION.PWS_ACTIVITY_CODE</th>\n",
       "      <th>VIOLATION.PWS_DEACTIVATION_DATE</th>\n",
       "      <th>VIOLATION.PRIMARY_SOURCE_CODE</th>\n",
       "      <th>VIOLATION.POP_CAT_5_CODE</th>\n",
       "      <th>VIOLATION.PRIMACY_AGENCY_CODE</th>\n",
       "      <th>...</th>\n",
       "      <th>VIOLATION.RTC_DATE</th>\n",
       "      <th>VIOLATION.PUBLIC_NOTIFICATION_TIER</th>\n",
       "      <th>VIOLATION.ORIGINATOR_CODE</th>\n",
       "      <th>VIOLATION.SAMPLE_RESULT_ID</th>\n",
       "      <th>VIOLATION.CORRECTIVE_ACTION_ID</th>\n",
       "      <th>VIOLATION.RULE_CODE</th>\n",
       "      <th>VIOLATION.RULE_GROUP_CODE</th>\n",
       "      <th>VIOLATION.RULE_FAMILY_CODE</th>\n",
       "      <th>Unnamed: 34</th>\n",
       "      <th>VIOLATION.YEAR</th>\n",
       "    </tr>\n",
       "  </thead>\n",
       "  <tbody>\n",
       "    <tr>\n",
       "      <th>54</th>\n",
       "      <td>NH2539010</td>\n",
       "      <td>1700027</td>\n",
       "      <td>NaN</td>\n",
       "      <td>1000</td>\n",
       "      <td>Y</td>\n",
       "      <td>A</td>\n",
       "      <td>NaN</td>\n",
       "      <td>GW</td>\n",
       "      <td>2</td>\n",
       "      <td>NH</td>\n",
       "      <td>...</td>\n",
       "      <td>NaN</td>\n",
       "      <td>3</td>\n",
       "      <td>S</td>\n",
       "      <td>NaN</td>\n",
       "      <td>NaN</td>\n",
       "      <td>111</td>\n",
       "      <td>100</td>\n",
       "      <td>110</td>\n",
       "      <td>NaN</td>\n",
       "      <td>2017</td>\n",
       "    </tr>\n",
       "    <tr>\n",
       "      <th>55</th>\n",
       "      <td>NH2539010</td>\n",
       "      <td>1700026</td>\n",
       "      <td>NaN</td>\n",
       "      <td>1000</td>\n",
       "      <td>Y</td>\n",
       "      <td>A</td>\n",
       "      <td>NaN</td>\n",
       "      <td>GW</td>\n",
       "      <td>2</td>\n",
       "      <td>NH</td>\n",
       "      <td>...</td>\n",
       "      <td>NaN</td>\n",
       "      <td>2</td>\n",
       "      <td>S</td>\n",
       "      <td>NaN</td>\n",
       "      <td>NaN</td>\n",
       "      <td>111</td>\n",
       "      <td>100</td>\n",
       "      <td>110</td>\n",
       "      <td>NaN</td>\n",
       "      <td>2017</td>\n",
       "    </tr>\n",
       "    <tr>\n",
       "      <th>205</th>\n",
       "      <td>NY2621115</td>\n",
       "      <td>911</td>\n",
       "      <td>NaN</td>\n",
       "      <td>120</td>\n",
       "      <td>N</td>\n",
       "      <td>A</td>\n",
       "      <td>NaN</td>\n",
       "      <td>GW</td>\n",
       "      <td>1</td>\n",
       "      <td>NY</td>\n",
       "      <td>...</td>\n",
       "      <td>20-OCT-17</td>\n",
       "      <td>3</td>\n",
       "      <td>S</td>\n",
       "      <td>NaN</td>\n",
       "      <td>NaN</td>\n",
       "      <td>500</td>\n",
       "      <td>500</td>\n",
       "      <td>500</td>\n",
       "      <td>NaN</td>\n",
       "      <td>2017</td>\n",
       "    </tr>\n",
       "    <tr>\n",
       "      <th>207</th>\n",
       "      <td>NY5507077</td>\n",
       "      <td>6617</td>\n",
       "      <td>NaN</td>\n",
       "      <td>45</td>\n",
       "      <td>N</td>\n",
       "      <td>A</td>\n",
       "      <td>NaN</td>\n",
       "      <td>GW</td>\n",
       "      <td>1</td>\n",
       "      <td>NY</td>\n",
       "      <td>...</td>\n",
       "      <td>11-MAY-17</td>\n",
       "      <td>3</td>\n",
       "      <td>S</td>\n",
       "      <td>NaN</td>\n",
       "      <td>NaN</td>\n",
       "      <td>500</td>\n",
       "      <td>500</td>\n",
       "      <td>500</td>\n",
       "      <td>NaN</td>\n",
       "      <td>2017</td>\n",
       "    </tr>\n",
       "    <tr>\n",
       "      <th>208</th>\n",
       "      <td>NY5507077</td>\n",
       "      <td>6618</td>\n",
       "      <td>NaN</td>\n",
       "      <td>45</td>\n",
       "      <td>N</td>\n",
       "      <td>A</td>\n",
       "      <td>NaN</td>\n",
       "      <td>GW</td>\n",
       "      <td>1</td>\n",
       "      <td>NY</td>\n",
       "      <td>...</td>\n",
       "      <td>NaN</td>\n",
       "      <td>3</td>\n",
       "      <td>S</td>\n",
       "      <td>NaN</td>\n",
       "      <td>NaN</td>\n",
       "      <td>111</td>\n",
       "      <td>100</td>\n",
       "      <td>110</td>\n",
       "      <td>NaN</td>\n",
       "      <td>2017</td>\n",
       "    </tr>\n",
       "  </tbody>\n",
       "</table>\n",
       "<p>5 rows × 36 columns</p>\n",
       "</div>"
      ],
      "text/plain": [
       "    VIOLATION.PWSID VIOLATION.VIOLATION_ID VIOLATION.FACILITY_ID  \\\n",
       "54        NH2539010                1700027                   NaN   \n",
       "55        NH2539010                1700026                   NaN   \n",
       "205       NY2621115                    911                   NaN   \n",
       "207       NY5507077                   6617                   NaN   \n",
       "208       NY5507077                   6618                   NaN   \n",
       "\n",
       "     VIOLATION.POPULATION_SERVED_COUNT VIOLATION.NPM_CANDIDATE  \\\n",
       "54                                1000                       Y   \n",
       "55                                1000                       Y   \n",
       "205                                120                       N   \n",
       "207                                 45                       N   \n",
       "208                                 45                       N   \n",
       "\n",
       "    VIOLATION.PWS_ACTIVITY_CODE VIOLATION.PWS_DEACTIVATION_DATE  \\\n",
       "54                            A                             NaN   \n",
       "55                            A                             NaN   \n",
       "205                           A                             NaN   \n",
       "207                           A                             NaN   \n",
       "208                           A                             NaN   \n",
       "\n",
       "    VIOLATION.PRIMARY_SOURCE_CODE  VIOLATION.POP_CAT_5_CODE  \\\n",
       "54                             GW                         2   \n",
       "55                             GW                         2   \n",
       "205                            GW                         1   \n",
       "207                            GW                         1   \n",
       "208                            GW                         1   \n",
       "\n",
       "    VIOLATION.PRIMACY_AGENCY_CODE       ...        VIOLATION.RTC_DATE  \\\n",
       "54                             NH       ...                       NaN   \n",
       "55                             NH       ...                       NaN   \n",
       "205                            NY       ...                 20-OCT-17   \n",
       "207                            NY       ...                 11-MAY-17   \n",
       "208                            NY       ...                       NaN   \n",
       "\n",
       "    VIOLATION.PUBLIC_NOTIFICATION_TIER VIOLATION.ORIGINATOR_CODE  \\\n",
       "54                                   3                         S   \n",
       "55                                   2                         S   \n",
       "205                                  3                         S   \n",
       "207                                  3                         S   \n",
       "208                                  3                         S   \n",
       "\n",
       "    VIOLATION.SAMPLE_RESULT_ID VIOLATION.CORRECTIVE_ACTION_ID  \\\n",
       "54                         NaN                            NaN   \n",
       "55                         NaN                            NaN   \n",
       "205                        NaN                            NaN   \n",
       "207                        NaN                            NaN   \n",
       "208                        NaN                            NaN   \n",
       "\n",
       "    VIOLATION.RULE_CODE VIOLATION.RULE_GROUP_CODE  VIOLATION.RULE_FAMILY_CODE  \\\n",
       "54                  111                       100                         110   \n",
       "55                  111                       100                         110   \n",
       "205                 500                       500                         500   \n",
       "207                 500                       500                         500   \n",
       "208                 111                       100                         110   \n",
       "\n",
       "    Unnamed: 34  VIOLATION.YEAR  \n",
       "54          NaN            2017  \n",
       "55          NaN            2017  \n",
       "205         NaN            2017  \n",
       "207         NaN            2017  \n",
       "208         NaN            2017  \n",
       "\n",
       "[5 rows x 36 columns]"
      ]
     },
     "execution_count": 8,
     "metadata": {},
     "output_type": "execute_result"
    }
   ],
   "source": [
    "# violations in 2017\n",
    "viol_2017 = viol[viol['VIOLATION.YEAR'] == 2017]\n",
    "viol_2017.head()"
   ]
  },
  {
   "cell_type": "code",
   "execution_count": 9,
   "metadata": {},
   "outputs": [],
   "source": [
    "# Water systems in Vermont\n",
    "ws = ws[(ws['WATER_SYSTEM.PRIMACY_AGENCY_CODE'] == STATE_CODE) \\\n",
    "        & (ws['WATER_SYSTEM.PWS_ACTIVITY_CODE'] == 'A')]"
   ]
  },
  {
   "cell_type": "code",
   "execution_count": 10,
   "metadata": {},
   "outputs": [
    {
     "data": {
      "text/plain": [
       "array(['TNCWS', 'NTNCWS', 'CWS'], dtype=object)"
      ]
     },
     "execution_count": 10,
     "metadata": {},
     "output_type": "execute_result"
    }
   ],
   "source": [
    "ws['WATER_SYSTEM.PWS_TYPE_CODE'].unique()"
   ]
  },
  {
   "cell_type": "code",
   "execution_count": 11,
   "metadata": {
    "scrolled": true
   },
   "outputs": [
    {
     "data": {
      "text/plain": [
       "WATER_SYSTEM.PWS_TYPE_CODE\n",
       "CWS       417\n",
       "NTNCWS    250\n",
       "TNCWS     749\n",
       "dtype: int64"
      ]
     },
     "execution_count": 11,
     "metadata": {},
     "output_type": "execute_result"
    }
   ],
   "source": [
    "# Water systems by type\n",
    "ws.groupby(['WATER_SYSTEM.PWS_TYPE_CODE']).size()"
   ]
  },
  {
   "cell_type": "code",
   "execution_count": 12,
   "metadata": {},
   "outputs": [
    {
     "data": {
      "text/plain": [
       "array(['RPT', 'TT', 'Other', 'MON', 'MR', 'MCL', 'MRDL'], dtype=object)"
      ]
     },
     "execution_count": 12,
     "metadata": {},
     "output_type": "execute_result"
    }
   ],
   "source": [
    "# https://ofmpub.epa.gov/enviro/EF_METADATA_HTML.sdwis_page?p_column_name=VIOLATION_CATEGORY_CODE\n",
    "# is 'RPT' also a reporting violation?\n",
    "viol_2017['VIOLATION.VIOLATION_CATEGORY_CODE'].unique()"
   ]
  },
  {
   "cell_type": "code",
   "execution_count": 13,
   "metadata": {},
   "outputs": [
    {
     "name": "stdout",
     "output_type": "stream",
     "text": [
      "All water systems\n",
      "# water systems: 1416\n",
      "# violations: 1539\n",
      "# reporting violations: 1125\n",
      "# health violations: 44\n"
     ]
    }
   ],
   "source": [
    "print('All water systems')\n",
    "print_water_system_violations(ws, viol_2017)"
   ]
  },
  {
   "cell_type": "code",
   "execution_count": 14,
   "metadata": {},
   "outputs": [
    {
     "name": "stdout",
     "output_type": "stream",
     "text": [
      "Water systems serving 3300 or fewer\n",
      "# water systems: 1384\n",
      "# violations: 1525\n",
      "# reporting violations: 1113\n",
      "# health violations: 44\n"
     ]
    }
   ],
   "source": [
    "print('Water systems serving 3300 or fewer')\n",
    "ws_lt_3300 = ws[ws['WATER_SYSTEM.POPULATION_SERVED_COUNT'] <= 3300]\n",
    "print_water_system_violations(ws_lt_3300, viol_2017)"
   ]
  },
  {
   "cell_type": "code",
   "execution_count": 15,
   "metadata": {},
   "outputs": [
    {
     "name": "stdout",
     "output_type": "stream",
     "text": [
      "Water systems serving 500 or fewer\n",
      "# water systems: 1252\n",
      "# violations: 1316\n",
      "# reporting violations: 922\n",
      "# health violations: 43\n"
     ]
    }
   ],
   "source": [
    "print('Water systems serving 500 or fewer')\n",
    "ws_lt_500 = ws[ws['WATER_SYSTEM.POPULATION_SERVED_COUNT'] <= 500]\n",
    "print_water_system_violations(ws_lt_500, viol_2017)"
   ]
  },
  {
   "cell_type": "code",
   "execution_count": 16,
   "metadata": {},
   "outputs": [
    {
     "data": {
      "text/plain": [
       "417"
      ]
     },
     "execution_count": 16,
     "metadata": {},
     "output_type": "execute_result"
    }
   ],
   "source": [
    "# community water systems\n",
    "ws_cws = ws[ws['WATER_SYSTEM.PWS_TYPE_CODE'] == 'CWS']\n",
    "ws_cws.shape[0]"
   ]
  },
  {
   "cell_type": "code",
   "execution_count": 17,
   "metadata": {},
   "outputs": [
    {
     "name": "stdout",
     "output_type": "stream",
     "text": [
      "community water systems\n",
      "# water systems: 417\n",
      "# violations: 705\n",
      "# reporting violations: 617\n",
      "# health violations: 18\n"
     ]
    }
   ],
   "source": [
    "print('community water systems')\n",
    "print_water_system_violations(ws_cws, viol_2017)"
   ]
  },
  {
   "cell_type": "code",
   "execution_count": 18,
   "metadata": {},
   "outputs": [
    {
     "name": "stdout",
     "output_type": "stream",
     "text": [
      "community water systems serving 500 or fewer\n",
      "# water systems: 302\n",
      "# violations: 570\n",
      "# reporting violations: 494\n",
      "# health violations: 18\n"
     ]
    }
   ],
   "source": [
    "print('community water systems serving 500 or fewer')\n",
    "ws_cws_lt_500 = ws_cws[ws_cws['WATER_SYSTEM.POPULATION_SERVED_COUNT'] <= 500]\n",
    "print_water_system_violations(ws_cws_lt_500, viol_2017)"
   ]
  },
  {
   "cell_type": "code",
   "execution_count": 19,
   "metadata": {},
   "outputs": [
    {
     "name": "stdout",
     "output_type": "stream",
     "text": [
      "community water systems serving 3300 or fewer\n",
      "# water systems: 385\n",
      "# violations: 691\n",
      "# reporting violations: 605\n",
      "# health violations: 18\n"
     ]
    }
   ],
   "source": [
    "print('community water systems serving 3300 or fewer')\n",
    "ws_cws_lt_3300 = ws_cws[ws_cws['WATER_SYSTEM.POPULATION_SERVED_COUNT'] <= 3300]\n",
    "print_water_system_violations(ws_cws_lt_3300, viol_2017)"
   ]
  }
 ],
 "metadata": {
  "kernelspec": {
   "display_name": "Python 3",
   "language": "python",
   "name": "python3"
  },
  "language_info": {
   "codemirror_mode": {
    "name": "ipython",
    "version": 3
   },
   "file_extension": ".py",
   "mimetype": "text/x-python",
   "name": "python",
   "nbconvert_exporter": "python",
   "pygments_lexer": "ipython3",
   "version": "3.7.1"
  }
 },
 "nbformat": 4,
 "nbformat_minor": 2
}
