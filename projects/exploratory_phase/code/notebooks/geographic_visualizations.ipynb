{
 "cells": [
  {
   "cell_type": "markdown",
   "metadata": {},
   "source": [
    "# Map of all facilities with violations\n",
    "\n",
    "### (by year and contaminant type)"
   ]
  },
  {
   "cell_type": "code",
   "execution_count": 1,
   "metadata": {},
   "outputs": [],
   "source": [
    "# USA map with facilities having violations\n",
    "# Assumes you have SWDIS.zip data locally!\n",
    "\n",
    "import os\n",
    "import numpy as np\n",
    "import pandas as pd\n",
    "# Installation: https://altair-viz.github.io/getting_started/installation.html#installation-notebook\n",
    "import altair as alt\n",
    "import zipfile\n",
    "from vega_datasets import data\n",
    "\n",
    "DATA_DIR = '../../../../data'\n",
    "\n",
    "SDWIS_DIR = os.path.join(DATA_DIR, 'sdwis')\n",
    "EPA_DIR = os.path.join(DATA_DIR, 'epa')\n",
    "GEO_DIR = os.path.join(DATA_DIR, 'geography')"
   ]
  },
  {
   "cell_type": "code",
   "execution_count": 2,
   "metadata": {},
   "outputs": [],
   "source": [
    "water_sys = pd.read_csv(os.path.join(SDWIS_DIR, 'WATER_SYSTEM.csv'),\n",
    "                        sep=',',\n",
    "                        dtype={'WATER_SYSTEM.ZIP_CODE': np.str},\n",
    "                        low_memory=False)\n",
    "\n",
    "viol = pd.read_csv(os.path.join(SDWIS_DIR, 'VIOLATION.csv'),\n",
    "                   sep=',',\n",
    "                   dtype={'VIOLATION.CONTAMINANT_CODE': np.str},\n",
    "                   low_memory=False)\n",
    "\n",
    "drinking_water_regs = pd.read_csv(os.path.join(EPA_DIR, 'drinking-water-regulations.csv'),\n",
    "                                  sep=',',\n",
    "                                  dtype={'SDWIS_CONTAMINANT_CODE': np.str}, \n",
    "                                  low_memory=False)\n",
    "\n",
    "# water_sys_fac = pd.read_csv(os.path.join(SDWIS_DIR, 'WATER_SYSTEM_FACILITY.csv'), sep=',')\n",
    "# enfo_act = pd.read_csv(os.path.join(SDWIS_DIR, 'ENFORCEMENT_ACTION.csv'), sep=',')\n",
    "# geog_area = pd.read_csv(os.path.join(SDWIS_DIR, 'GEOGRAPHIC_AREA.csv'), sep=',')\n",
    "# lcr_sample = pd.read_csv(os.path.join(SDWIS_DIR, 'LCR_SAMPLE.csv'), sep=',')\n",
    "# lcr_sample_res = pd.read_csv(os.path.join(SDWIS_DIR, 'LCR_SAMPLE_RESULT.csv'), sep=',')\n",
    "# serv_area = pd.read_csv(os.path.join(SDWIS_DIR, 'SERVICE_AREA.csv'), sep=',')\n",
    "# treat = pd.read_csv(os.path.join(SDWIS_DIR, 'TREATMENT.csv'), sep=',')\n",
    "# viol = pd.read_csv(os.path.join(SDWIS_DIR, 'VIOLATION.csv'), sep=',')\n",
    "# viol_enf_assoc = pd.read_csv(os.path.join(SDWIS_DIR, 'VIOLATION_ENF_ASSOC.csv'), sep=',')"
   ]
  },
  {
   "cell_type": "code",
   "execution_count": 3,
   "metadata": {},
   "outputs": [],
   "source": [
    "# Label data with full year, e.g., 2012 for 01-JUL-12\n",
    "def get_year_from_mmddyy_series(ser, last_year_in_2000s=pd.Timestamp('now').year):\n",
    "    \"\"\"\n",
    "    Expected input will be in the form 01-JUL-12.\n",
    "    Output will be the year of the data.\n",
    "    Assumes years will never be greater than current year.\n",
    "    \"\"\"\n",
    "                                \n",
    "    last_two_digits_year_cutoff = int(str(last_year_in_2000s)[-2:])\n",
    "    \n",
    "    # calculate last two digits of year\n",
    "    return_series = ser.str.split('-').str[2].astype(int)\n",
    "    \n",
    "    # add first two digits\n",
    "    return_series += (\n",
    "        + (2000*(return_series <= last_two_digits_year_cutoff))\n",
    "        + (1900*(return_series > last_two_digits_year_cutoff))\n",
    "    )\n",
    "    \n",
    "    return return_series"
   ]
  },
  {
   "cell_type": "code",
   "execution_count": 4,
   "metadata": {},
   "outputs": [],
   "source": [
    "viol = viol[['VIOLATION.PWSID', 'VIOLATION.FACILITY_ID', 'VIOLATION.CONTAMINANT_CODE', \\\n",
    "             'VIOLATION.COMPL_PER_BEGIN_DATE']]\n",
    "\n",
    "viol['VIOLATION.YEAR'] = get_year_from_mmddyy_series(viol['VIOLATION.COMPL_PER_BEGIN_DATE'])"
   ]
  },
  {
   "cell_type": "code",
   "execution_count": 5,
   "metadata": {},
   "outputs": [],
   "source": [
    "water_sys = water_sys[['WATER_SYSTEM.PWSID', 'WATER_SYSTEM.ZIP_CODE']].drop_duplicates()"
   ]
  },
  {
   "cell_type": "code",
   "execution_count": 6,
   "metadata": {},
   "outputs": [
    {
     "data": {
      "text/html": [
       "<div>\n",
       "<style scoped>\n",
       "    .dataframe tbody tr th:only-of-type {\n",
       "        vertical-align: middle;\n",
       "    }\n",
       "\n",
       "    .dataframe tbody tr th {\n",
       "        vertical-align: top;\n",
       "    }\n",
       "\n",
       "    .dataframe thead th {\n",
       "        text-align: right;\n",
       "    }\n",
       "</style>\n",
       "<table border=\"1\" class=\"dataframe\">\n",
       "  <thead>\n",
       "    <tr style=\"text-align: right;\">\n",
       "      <th></th>\n",
       "      <th>WATER_SYSTEM.PWSID</th>\n",
       "      <th>WATER_SYSTEM.ZIP_CODE</th>\n",
       "      <th>zip_code</th>\n",
       "      <th>latitude</th>\n",
       "      <th>longitude</th>\n",
       "      <th>city</th>\n",
       "      <th>state</th>\n",
       "      <th>county</th>\n",
       "      <th>VIOLATION.PWSID</th>\n",
       "      <th>VIOLATION.FACILITY_ID</th>\n",
       "      <th>VIOLATION.CONTAMINANT_CODE</th>\n",
       "      <th>VIOLATION.COMPL_PER_BEGIN_DATE</th>\n",
       "      <th>VIOLATION.YEAR</th>\n",
       "      <th>CONTAMINANT</th>\n",
       "      <th>SDWIS_CONTAMINANT_CODE</th>\n",
       "      <th>TYPE</th>\n",
       "      <th>MCL_GOAL</th>\n",
       "      <th>MCL_OR_TT</th>\n",
       "      <th>POTENTIAL_HEALTH_EFFECTS</th>\n",
       "      <th>SOURCES_OF_CONTAMINANT_IN_DRINKING_WATER</th>\n",
       "    </tr>\n",
       "  </thead>\n",
       "  <tbody>\n",
       "    <tr>\n",
       "      <th>0</th>\n",
       "      <td>CA3601100</td>\n",
       "      <td>92365</td>\n",
       "      <td>92365</td>\n",
       "      <td>34.90534</td>\n",
       "      <td>-115.932613</td>\n",
       "      <td>Newberry Springs</td>\n",
       "      <td>CA</td>\n",
       "      <td>San Bernardino</td>\n",
       "      <td>CA3601100</td>\n",
       "      <td>NaN</td>\n",
       "      <td>3100</td>\n",
       "      <td>01-APR-10</td>\n",
       "      <td>2010</td>\n",
       "      <td>Total Coliforms (including fecal coliform and ...</td>\n",
       "      <td>3100</td>\n",
       "      <td>Microorganisms</td>\n",
       "      <td>zero</td>\n",
       "      <td>5.0%4</td>\n",
       "      <td>Not a health threat in itself; it is used to i...</td>\n",
       "      <td>Coliforms are naturally present in the environ...</td>\n",
       "    </tr>\n",
       "    <tr>\n",
       "      <th>1</th>\n",
       "      <td>CA3601100</td>\n",
       "      <td>92365</td>\n",
       "      <td>92365</td>\n",
       "      <td>34.90534</td>\n",
       "      <td>-115.932613</td>\n",
       "      <td>Newberry Springs</td>\n",
       "      <td>CA</td>\n",
       "      <td>San Bernardino</td>\n",
       "      <td>CA3601100</td>\n",
       "      <td>NaN</td>\n",
       "      <td>3100</td>\n",
       "      <td>01-APR-08</td>\n",
       "      <td>2008</td>\n",
       "      <td>Total Coliforms (including fecal coliform and ...</td>\n",
       "      <td>3100</td>\n",
       "      <td>Microorganisms</td>\n",
       "      <td>zero</td>\n",
       "      <td>5.0%4</td>\n",
       "      <td>Not a health threat in itself; it is used to i...</td>\n",
       "      <td>Coliforms are naturally present in the environ...</td>\n",
       "    </tr>\n",
       "    <tr>\n",
       "      <th>2</th>\n",
       "      <td>CA3601151</td>\n",
       "      <td>92365</td>\n",
       "      <td>92365</td>\n",
       "      <td>34.90534</td>\n",
       "      <td>-115.932613</td>\n",
       "      <td>Newberry Springs</td>\n",
       "      <td>CA</td>\n",
       "      <td>San Bernardino</td>\n",
       "      <td>CA3601151</td>\n",
       "      <td>NaN</td>\n",
       "      <td>3100</td>\n",
       "      <td>01-AUG-12</td>\n",
       "      <td>2012</td>\n",
       "      <td>Total Coliforms (including fecal coliform and ...</td>\n",
       "      <td>3100</td>\n",
       "      <td>Microorganisms</td>\n",
       "      <td>zero</td>\n",
       "      <td>5.0%4</td>\n",
       "      <td>Not a health threat in itself; it is used to i...</td>\n",
       "      <td>Coliforms are naturally present in the environ...</td>\n",
       "    </tr>\n",
       "    <tr>\n",
       "      <th>3</th>\n",
       "      <td>CA3601015</td>\n",
       "      <td>92365</td>\n",
       "      <td>92365</td>\n",
       "      <td>34.90534</td>\n",
       "      <td>-115.932613</td>\n",
       "      <td>Newberry Springs</td>\n",
       "      <td>CA</td>\n",
       "      <td>San Bernardino</td>\n",
       "      <td>CA3601015</td>\n",
       "      <td>NaN</td>\n",
       "      <td>3100</td>\n",
       "      <td>01-AUG-12</td>\n",
       "      <td>2012</td>\n",
       "      <td>Total Coliforms (including fecal coliform and ...</td>\n",
       "      <td>3100</td>\n",
       "      <td>Microorganisms</td>\n",
       "      <td>zero</td>\n",
       "      <td>5.0%4</td>\n",
       "      <td>Not a health threat in itself; it is used to i...</td>\n",
       "      <td>Coliforms are naturally present in the environ...</td>\n",
       "    </tr>\n",
       "    <tr>\n",
       "      <th>4</th>\n",
       "      <td>CA3600407</td>\n",
       "      <td>92365</td>\n",
       "      <td>92365</td>\n",
       "      <td>34.90534</td>\n",
       "      <td>-115.932613</td>\n",
       "      <td>Newberry Springs</td>\n",
       "      <td>CA</td>\n",
       "      <td>San Bernardino</td>\n",
       "      <td>CA3600407</td>\n",
       "      <td>NaN</td>\n",
       "      <td>3100</td>\n",
       "      <td>01-APR-96</td>\n",
       "      <td>1996</td>\n",
       "      <td>Total Coliforms (including fecal coliform and ...</td>\n",
       "      <td>3100</td>\n",
       "      <td>Microorganisms</td>\n",
       "      <td>zero</td>\n",
       "      <td>5.0%4</td>\n",
       "      <td>Not a health threat in itself; it is used to i...</td>\n",
       "      <td>Coliforms are naturally present in the environ...</td>\n",
       "    </tr>\n",
       "  </tbody>\n",
       "</table>\n",
       "</div>"
      ],
      "text/plain": [
       "  WATER_SYSTEM.PWSID WATER_SYSTEM.ZIP_CODE zip_code  latitude   longitude  \\\n",
       "0          CA3601100                 92365    92365  34.90534 -115.932613   \n",
       "1          CA3601100                 92365    92365  34.90534 -115.932613   \n",
       "2          CA3601151                 92365    92365  34.90534 -115.932613   \n",
       "3          CA3601015                 92365    92365  34.90534 -115.932613   \n",
       "4          CA3600407                 92365    92365  34.90534 -115.932613   \n",
       "\n",
       "               city state          county VIOLATION.PWSID  \\\n",
       "0  Newberry Springs    CA  San Bernardino       CA3601100   \n",
       "1  Newberry Springs    CA  San Bernardino       CA3601100   \n",
       "2  Newberry Springs    CA  San Bernardino       CA3601151   \n",
       "3  Newberry Springs    CA  San Bernardino       CA3601015   \n",
       "4  Newberry Springs    CA  San Bernardino       CA3600407   \n",
       "\n",
       "  VIOLATION.FACILITY_ID VIOLATION.CONTAMINANT_CODE  \\\n",
       "0                   NaN                       3100   \n",
       "1                   NaN                       3100   \n",
       "2                   NaN                       3100   \n",
       "3                   NaN                       3100   \n",
       "4                   NaN                       3100   \n",
       "\n",
       "  VIOLATION.COMPL_PER_BEGIN_DATE  VIOLATION.YEAR  \\\n",
       "0                      01-APR-10            2010   \n",
       "1                      01-APR-08            2008   \n",
       "2                      01-AUG-12            2012   \n",
       "3                      01-AUG-12            2012   \n",
       "4                      01-APR-96            1996   \n",
       "\n",
       "                                         CONTAMINANT SDWIS_CONTAMINANT_CODE  \\\n",
       "0  Total Coliforms (including fecal coliform and ...                   3100   \n",
       "1  Total Coliforms (including fecal coliform and ...                   3100   \n",
       "2  Total Coliforms (including fecal coliform and ...                   3100   \n",
       "3  Total Coliforms (including fecal coliform and ...                   3100   \n",
       "4  Total Coliforms (including fecal coliform and ...                   3100   \n",
       "\n",
       "             TYPE MCL_GOAL MCL_OR_TT  \\\n",
       "0  Microorganisms     zero     5.0%4   \n",
       "1  Microorganisms     zero     5.0%4   \n",
       "2  Microorganisms     zero     5.0%4   \n",
       "3  Microorganisms     zero     5.0%4   \n",
       "4  Microorganisms     zero     5.0%4   \n",
       "\n",
       "                            POTENTIAL_HEALTH_EFFECTS  \\\n",
       "0  Not a health threat in itself; it is used to i...   \n",
       "1  Not a health threat in itself; it is used to i...   \n",
       "2  Not a health threat in itself; it is used to i...   \n",
       "3  Not a health threat in itself; it is used to i...   \n",
       "4  Not a health threat in itself; it is used to i...   \n",
       "\n",
       "            SOURCES_OF_CONTAMINANT_IN_DRINKING_WATER  \n",
       "0  Coliforms are naturally present in the environ...  \n",
       "1  Coliforms are naturally present in the environ...  \n",
       "2  Coliforms are naturally present in the environ...  \n",
       "3  Coliforms are naturally present in the environ...  \n",
       "4  Coliforms are naturally present in the environ...  "
      ]
     },
     "execution_count": 6,
     "metadata": {},
     "output_type": "execute_result"
    }
   ],
   "source": [
    "# Get latitude, longitude from Vega zipcodes data set\n",
    "# Fetched from Vega data set: https://raw.githubusercontent.com/vega/vega-datasets/master/data/zipcodes.csv\n",
    "# source = data.zipcodes.url\n",
    "# zip_code,latitude,longitude,city,state,county\n",
    "# 00501,40.922326,-72.637078,Holtsville,NY,Suffolk\n",
    "# 45430,39.709159,-84.104836,Dayton,OH,Montgomery\n",
    "zipcodes = pd.read_csv(os.path.join(GEO_DIR, 'zipcodes.csv'),\n",
    "                       sep=',',\n",
    "                       dtype={'zip_code': np.str})\n",
    "\n",
    "water_sys = pd.merge(water_sys, zipcodes, left_on='WATER_SYSTEM.ZIP_CODE', right_on='zip_code')\n",
    "water_sys_viol = pd.merge(water_sys, viol, left_on='WATER_SYSTEM.PWSID', right_on='VIOLATION.PWSID')\n",
    "\n",
    "\n",
    "water_sys_viol_contaminants = pd.merge(water_sys_viol, drinking_water_regs, \\\n",
    "                                      left_on='VIOLATION.CONTAMINANT_CODE', right_on='SDWIS_CONTAMINANT_CODE')\n",
    "water_sys_viol_contaminants.head()"
   ]
  },
  {
   "cell_type": "code",
   "execution_count": 7,
   "metadata": {},
   "outputs": [
    {
     "data": {
      "text/plain": [
       "0              Microorganisms\n",
       "10    Disinfection Byproducts\n",
       "14              Disinfectants\n",
       "17        Inorganic Chemicals\n",
       "33          Organic Chemicals\n",
       "86              Radionuclides\n",
       "Name: TYPE, dtype: object"
      ]
     },
     "execution_count": 7,
     "metadata": {},
     "output_type": "execute_result"
    }
   ],
   "source": [
    "drinking_water_regs['TYPE'].drop_duplicates()"
   ]
  },
  {
   "cell_type": "code",
   "execution_count": 8,
   "metadata": {},
   "outputs": [],
   "source": [
    "# Filter data to display by reported year and contaminant type; \n",
    "# this can be modified as needed to filter by different parameters\n",
    "def get_source_data_frame(df, year=None, contaminant_types=[]):\n",
    "    if year:\n",
    "        df = df.loc[df['VIOLATION.YEAR'] == year, :]\n",
    "    if contaminant_types:\n",
    "         df = df.loc[df['TYPE'].isin(contaminant_types), :]\n",
    "    return df[['zip_code', 'latitude', 'longitude']].drop_duplicates()"
   ]
  },
  {
   "cell_type": "code",
   "execution_count": 9,
   "metadata": {
    "scrolled": true
   },
   "outputs": [],
   "source": [
    "# zip_code,latitude,longitude,city,state,county\n",
    "# 00501,40.922326,-72.637078,Holtsville,NY,Suffolk\n",
    "# 00544,40.922326,-72.637078,Holtsville,NY,Suffolk\n",
    "# 02101,42.370567,-71.026964,Boston,MA,Suffolk\n",
    "# 45430,39.709159,-84.104836,Dayton,OH,Montgomery\n",
    "\n",
    "# source = pd.DataFrame({'zip_code': ['00501', '02101', '45430'],\n",
    "#                        'latitude': [40.922326, 42.370567, 39.709159],\n",
    "#                        'longitude': [-72.637078, -71.026964, -84.104836]})\n",
    "\n",
    "# configure chart to be rendered in notebook\n",
    "alt.renderers.enable('notebook')\n",
    "\n",
    "# avoid data size MaxRowsError \n",
    "alt.data_transformers.enable('json')\n",
    "\n",
    "def draw_map(source, title):\n",
    "    return alt.Chart(source).transform_calculate(\n",
    "        \"leading digit\", alt.expr.substring(alt.datum.zip_code, 0, 1)\n",
    "    ).mark_circle(size=3).encode(\n",
    "        longitude='longitude:Q',\n",
    "        latitude='latitude:Q',\n",
    "        color='leading digit:N',\n",
    "        tooltip='zip_code:N'\n",
    "    ).project(\n",
    "        type='albersUsa'\n",
    "    ).properties(\n",
    "        width=325,\n",
    "        height=200,\n",
    "        title=str(title)\n",
    "    )\n"
   ]
  },
  {
   "cell_type": "markdown",
   "metadata": {},
   "source": [
    "# Geographic Visualizations"
   ]
  },
  {
   "cell_type": "code",
   "execution_count": 10,
   "metadata": {},
   "outputs": [],
   "source": [
    "# Filter map based on what contaminants you want\n",
    "contaminant_types = ['Organic Chemicals']"
   ]
  },
  {
   "cell_type": "code",
   "execution_count": 11,
   "metadata": {},
   "outputs": [
    {
     "data": {
      "application/javascript": [
       "const spec = {\"config\": {\"view\": {\"width\": 400, \"height\": 300}, \"mark\": {\"tooltip\": null}}, \"data\": {\"url\": \"altair-data-6c51e462e51b770a7d39fdbbfb888faf.json\", \"format\": {\"type\": \"json\"}}, \"mark\": {\"type\": \"circle\", \"size\": 3}, \"encoding\": {\"color\": {\"type\": \"nominal\", \"field\": \"leading digit\"}, \"latitude\": {\"field\": \"latitude\", \"type\": \"quantitative\"}, \"longitude\": {\"field\": \"longitude\", \"type\": \"quantitative\"}, \"tooltip\": {\"type\": \"nominal\", \"field\": \"zip_code\"}}, \"height\": 200, \"projection\": {\"type\": \"albersUsa\"}, \"title\": \"Facilities with violations in 2008\", \"transform\": [{\"calculate\": \"substring(datum.zip_code,0,1)\", \"as\": \"leading digit\"}], \"width\": 325, \"$schema\": \"https://vega.github.io/schema/vega-lite/v3.4.0.json\"};\n",
       "const opt = {};\n",
       "const type = \"vega-lite\";\n",
       "const id = \"26704b6b-c4c3-47e1-85b6-c7b7cbc45d0f\";\n",
       "\n",
       "const output_area = this;\n",
       "\n",
       "require([\"nbextensions/jupyter-vega/index\"], function(vega) {\n",
       "  const target = document.createElement(\"div\");\n",
       "  target.id = id;\n",
       "  target.className = \"vega-embed\";\n",
       "\n",
       "  const style = document.createElement(\"style\");\n",
       "  style.textContent = [\n",
       "    \".vega-embed .error p {\",\n",
       "    \"  color: firebrick;\",\n",
       "    \"  font-size: 14px;\",\n",
       "    \"}\",\n",
       "  ].join(\"\\\\n\");\n",
       "\n",
       "  // element is a jQuery wrapped DOM element inside the output area\n",
       "  // see http://ipython.readthedocs.io/en/stable/api/generated/\\\n",
       "  // IPython.display.html#IPython.display.Javascript.__init__\n",
       "  element[0].appendChild(target);\n",
       "  element[0].appendChild(style);\n",
       "\n",
       "  vega.render(\"#\" + id, spec, type, opt, output_area);\n",
       "}, function (err) {\n",
       "  if (err.requireType !== \"scripterror\") {\n",
       "    throw(err);\n",
       "  }\n",
       "});\n"
      ],
      "text/plain": [
       "<vega.vegalite.VegaLite at 0x17ac4c19240>"
      ]
     },
     "metadata": {
      "jupyter-vega": "#26704b6b-c4c3-47e1-85b6-c7b7cbc45d0f"
     },
     "output_type": "display_data"
    },
    {
     "data": {
      "text/plain": []
     },
     "execution_count": 11,
     "metadata": {},
     "output_type": "execute_result"
    },
    {
     "data": {
      "image/png": "[encoded data removed]"
     },
     "metadata": {
      "jupyter-vega": "#26704b6b-c4c3-47e1-85b6-c7b7cbc45d0f"
     },
     "output_type": "display_data"
    }
   ],
   "source": [
    "# Display facilities with violations for year and contaminant type\n",
    "\n",
    "year = 2008\n",
    "\n",
    "draw_map(get_source_data_frame(water_sys_viol_contaminants,\n",
    "                               year=year,\n",
    "                               contaminant_types=contaminant_types),\n",
    "         title=f'Facilities with violations in {year}')"
   ]
  },
  {
   "cell_type": "code",
   "execution_count": 12,
   "metadata": {},
   "outputs": [
    {
     "data": {
      "application/javascript": [
       "const spec = {\"config\": {\"view\": {\"width\": 400, \"height\": 300}, \"mark\": {\"tooltip\": null}}, \"data\": {\"url\": \"altair-data-2e89788e045cff7f1f8b8183c8f294c3.json\", \"format\": {\"type\": \"json\"}}, \"mark\": {\"type\": \"circle\", \"size\": 3}, \"encoding\": {\"color\": {\"type\": \"nominal\", \"field\": \"leading digit\"}, \"latitude\": {\"field\": \"latitude\", \"type\": \"quantitative\"}, \"longitude\": {\"field\": \"longitude\", \"type\": \"quantitative\"}, \"tooltip\": {\"type\": \"nominal\", \"field\": \"zip_code\"}}, \"height\": 200, \"projection\": {\"type\": \"albersUsa\"}, \"title\": \"Facilities with violations in 2018\", \"transform\": [{\"calculate\": \"substring(datum.zip_code,0,1)\", \"as\": \"leading digit\"}], \"width\": 325, \"$schema\": \"https://vega.github.io/schema/vega-lite/v3.4.0.json\"};\n",
       "const opt = {};\n",
       "const type = \"vega-lite\";\n",
       "const id = \"2b47c244-3c93-468c-8c01-611935c6e532\";\n",
       "\n",
       "const output_area = this;\n",
       "\n",
       "require([\"nbextensions/jupyter-vega/index\"], function(vega) {\n",
       "  const target = document.createElement(\"div\");\n",
       "  target.id = id;\n",
       "  target.className = \"vega-embed\";\n",
       "\n",
       "  const style = document.createElement(\"style\");\n",
       "  style.textContent = [\n",
       "    \".vega-embed .error p {\",\n",
       "    \"  color: firebrick;\",\n",
       "    \"  font-size: 14px;\",\n",
       "    \"}\",\n",
       "  ].join(\"\\\\n\");\n",
       "\n",
       "  // element is a jQuery wrapped DOM element inside the output area\n",
       "  // see http://ipython.readthedocs.io/en/stable/api/generated/\\\n",
       "  // IPython.display.html#IPython.display.Javascript.__init__\n",
       "  element[0].appendChild(target);\n",
       "  element[0].appendChild(style);\n",
       "\n",
       "  vega.render(\"#\" + id, spec, type, opt, output_area);\n",
       "}, function (err) {\n",
       "  if (err.requireType !== \"scripterror\") {\n",
       "    throw(err);\n",
       "  }\n",
       "});\n"
      ],
      "text/plain": [
       "<vega.vegalite.VegaLite at 0x17ac4c17f98>"
      ]
     },
     "metadata": {
      "jupyter-vega": "#2b47c244-3c93-468c-8c01-611935c6e532"
     },
     "output_type": "display_data"
    },
    {
     "data": {
      "text/plain": []
     },
     "execution_count": 12,
     "metadata": {},
     "output_type": "execute_result"
    },
    {
     "data": {
      "image/png": "[encoded data removed]"
     },
     "metadata": {
      "jupyter-vega": "#2b47c244-3c93-468c-8c01-611935c6e532"
     },
     "output_type": "display_data"
    }
   ],
   "source": [
    "year = 2018\n",
    "\n",
    "draw_map(get_source_data_frame(water_sys_viol_contaminants,\n",
    "                               year=year,\n",
    "                               contaminant_types=contaminant_types),\n",
    "         title=f'Facilities with violations in {year}')"
   ]
  },
  {
   "cell_type": "code",
   "execution_count": null,
   "metadata": {},
   "outputs": [],
   "source": []
  }
 ],
 "metadata": {
  "kernelspec": {
   "display_name": "Python 3",
   "language": "python",
   "name": "python3"
  },
  "language_info": {
   "codemirror_mode": {
    "name": "ipython",
    "version": 3
   },
   "file_extension": ".py",
   "mimetype": "text/x-python",
   "name": "python",
   "nbconvert_exporter": "python",
   "pygments_lexer": "ipython3",
   "version": "3.7.3"
  }
 },
 "nbformat": 4,
 "nbformat_minor": 2
}
