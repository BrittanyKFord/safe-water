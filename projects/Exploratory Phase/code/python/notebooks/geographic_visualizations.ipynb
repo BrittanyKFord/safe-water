{
 "cells": [
  {
   "cell_type": "code",
   "execution_count": 2,
   "metadata": {},
   "outputs": [],
   "source": [
    "# USA map with facilities having violations\n",
    "# Assumes you have SWDIS.zip data locally!\n",
    "\n",
    "import os\n",
    "import numpy as np\n",
    "import pandas as pd\n",
    "# Installation: https://altair-viz.github.io/getting_started/installation.html#installation-notebook\n",
    "import altair as alt\n",
    "import zipfile\n",
    "from vega_datasets import data\n",
    "\n",
    "sdwis_dir = '../../../data/sdwis'\n",
    "sdwis_unzip_dir = sdwis_dir + '/SDWIS'\n",
    "epa_dir = '../../../data/epa'\n",
    "geo_dir = '../../../data/geography'\n",
    "# print(os.listdir(sdwis_dir))\n",
    "\n",
    "# unzip sdwis data\n",
    "zip_ref = zipfile.ZipFile(sdwis_dir + '/SDWIS.zip', 'r')\n",
    "zip_ref.extractall(sdwis_dir)\n",
    "zip_ref.close()"
   ]
  },
  {
   "cell_type": "code",
   "execution_count": null,
   "metadata": {},
   "outputs": [
    {
     "name": "stderr",
     "output_type": "stream",
     "text": [
      "/anaconda3/lib/python3.7/site-packages/IPython/core/interactiveshell.py:3020: DtypeWarning: Columns (11) have mixed types. Specify dtype option on import or set low_memory=False.\n",
      "  interactivity=interactivity, compiler=compiler, result=result)\n"
     ]
    }
   ],
   "source": [
    "water_sys = pd.read_csv(os.path.join(sdwis_unzip_dir, 'WATER_SYSTEM.csv'), sep=',', \\\n",
    "                       dtype={'WATER_SYSTEM.ZIP_CODE': np.str})\n",
    "viol = pd.read_csv(os.path.join(sdwis_unzip_dir, 'VIOLATION.csv'), sep=',', \\\n",
    "                  dtype={'VIOLATION.CONTAMINANT_CODE': np.str})\n",
    "drinking_water_regs = pd.read_csv(os.path.join(epa_dir, 'drinking-water-regulations.csv'), sep=',', \\\n",
    "                                 dtype={'SDWIS_CONTAMINANT_CODE': np.str})\n",
    "\n",
    "# water_sys_fac = pd.read_csv(os.path.join(sdwis_unzip_dir, 'WATER_SYSTEM_FACILITY.csv'), sep=',')\n",
    "# enfo_act = pd.read_csv(os.path.join(sdwis_unzip_dir, 'ENFORCEMENT_ACTION.csv'), sep=',')\n",
    "# geog_area = pd.read_csv(os.path.join(sdwis_unzip_dir, 'GEOGRAPHIC_AREA.csv'), sep=',')\n",
    "# lcr_sample = pd.read_csv(os.path.join(sdwis_unzip_dir, 'LCR_SAMPLE.csv'), sep=',')\n",
    "# lcr_sample_res = pd.read_csv(os.path.join(sdwis_unzip_dir, 'LCR_SAMPLE_RESULT.csv'), sep=',')\n",
    "# serv_area = pd.read_csv(os.path.join(sdwis_unzip_dir, 'SERVICE_AREA.csv'), sep=',')\n",
    "# treat = pd.read_csv(os.path.join(sdwis_unzip_dir, 'TREATMENT.csv'), sep=',')\n",
    "# viol = pd.read_csv(os.path.join(sdwis_unzip_dir, 'VIOLATION.csv'), sep=',')\n",
    "# viol_enf_assoc = pd.read_csv(os.path.join(sdwis_unzip_dir, 'VIOLATION_ENF_ASSOC.csv'), sep=',')"
   ]
  },
  {
   "cell_type": "code",
   "execution_count": null,
   "metadata": {},
   "outputs": [],
   "source": [
    "# Label data with full year, e.g., 2012 for 01-JUL-12\n",
    "def get_full_year_for_violation(row):\n",
    "    # input will be in the form 01-JUL-12\n",
    "    date_parts = row['VIOLATION.COMPL_PER_BEGIN_DATE'].split('-')\n",
    "    if len(date_parts) == 3:\n",
    "        return '20' + date_parts[2]\n",
    "    else:\n",
    "        return ''"
   ]
  },
  {
   "cell_type": "code",
   "execution_count": null,
   "metadata": {},
   "outputs": [],
   "source": [
    "viol = viol[['VIOLATION.PWSID', 'VIOLATION.FACILITY_ID', 'VIOLATION.CONTAMINANT_CODE', \\\n",
    "             'VIOLATION.COMPL_PER_BEGIN_DATE']]\n",
    "viol.loc[:, 'VIOLATION.YEAR'] = viol.apply(get_full_year_for_violation, axis=1)"
   ]
  },
  {
   "cell_type": "code",
   "execution_count": null,
   "metadata": {},
   "outputs": [],
   "source": [
    "water_sys = water_sys[['WATER_SYSTEM.PWSID', 'WATER_SYSTEM.ZIP_CODE']].drop_duplicates()"
   ]
  },
  {
   "cell_type": "code",
   "execution_count": null,
   "metadata": {},
   "outputs": [],
   "source": [
    "# Get latitude, longitude from Vega zipcodes data set\n",
    "# Fetched from Vega data set: https://raw.githubusercontent.com/vega/vega-datasets/master/data/zipcodes.csv\n",
    "# source = data.zipcodes.url\n",
    "# zip_code,latitude,longitude,city,state,county\n",
    "# 00501,40.922326,-72.637078,Holtsville,NY,Suffolk\n",
    "# 45430,39.709159,-84.104836,Dayton,OH,Montgomery\n",
    "zipcodes = pd.read_csv(os.path.join(geo_dir, 'zipcodes.csv'), sep=',', \\\n",
    "                      dtype={'zip_code': np.str})\n",
    "\n",
    "water_sys = pd.merge(water_sys, zipcodes, left_on='WATER_SYSTEM.ZIP_CODE', right_on='zip_code')\n",
    "water_sys_viol = pd.merge(water_sys, viol, left_on='WATER_SYSTEM.PWSID', right_on='VIOLATION.PWSID')\n",
    "\n",
    "\n",
    "water_sys_viol_contaminants = pd.merge(water_sys_viol, drinking_water_regs, \\\n",
    "                                      left_on='VIOLATION.CONTAMINANT_CODE', right_on='SDWIS_CONTAMINANT_CODE')\n",
    "water_sys_viol_contaminants.head()"
   ]
  },
  {
   "cell_type": "code",
   "execution_count": null,
   "metadata": {},
   "outputs": [],
   "source": [
    "# Filter data to display by reported year and contaminant type; \n",
    "# this can be modified as needed to filter by different parameters\n",
    "def get_source_data_frame(df, year, contaminant_types):\n",
    "    df = df[df['VIOLATION.YEAR']==year]\n",
    "    if len(contaminant_types) > 0:\n",
    "         df = df[df['TYPE'].isin(contaminant_types)]\n",
    "    return df[['zip_code', 'latitude', 'longitude']].drop_duplicates()"
   ]
  },
  {
   "cell_type": "code",
   "execution_count": null,
   "metadata": {},
   "outputs": [],
   "source": [
    "# zip_code,latitude,longitude,city,state,county\n",
    "# 00501,40.922326,-72.637078,Holtsville,NY,Suffolk\n",
    "# 00544,40.922326,-72.637078,Holtsville,NY,Suffolk\n",
    "# 02101,42.370567,-71.026964,Boston,MA,Suffolk\n",
    "# 45430,39.709159,-84.104836,Dayton,OH,Montgomery\n",
    "\n",
    "# source = pd.DataFrame({'zip_code': ['00501', '02101', '45430'],\n",
    "#                        'latitude': [40.922326, 42.370567, 39.709159],\n",
    "#                        'longitude': [-72.637078, -71.026964, -84.104836]})\n",
    "\n",
    "# configure chart to be rendered in notebook\n",
    "alt.renderers.enable('notebook')\n",
    "\n",
    "# avoid data size MaxRowsError \n",
    "alt.data_transformers.enable('json')\n",
    "\n",
    "def draw_map(source, title):\n",
    "    return alt.Chart(source).transform_calculate(\n",
    "        \"leading digit\", alt.expr.substring(alt.datum.zip_code, 0, 1)\n",
    "    ).mark_circle(size=3).encode(\n",
    "        longitude='longitude:Q',\n",
    "        latitude='latitude:Q',\n",
    "        color='leading digit:N',\n",
    "        tooltip='zip_code:N'\n",
    "    ).project(\n",
    "        type='albersUsa'\n",
    "    ).properties(\n",
    "        width=325,\n",
    "        height=200,\n",
    "        title=title\n",
    "    )\n"
   ]
  },
  {
   "cell_type": "code",
   "execution_count": null,
   "metadata": {},
   "outputs": [],
   "source": [
    "drinking_water_regs['TYPE'].drop_duplicates()"
   ]
  },
  {
   "cell_type": "code",
   "execution_count": null,
   "metadata": {},
   "outputs": [],
   "source": [
    "# Display facilities with violations for year and contaminant type\n",
    "\n",
    "year = '2008'\n",
    "contaminant_types = ['Organic Chemicals']\n",
    "source = get_source_data_frame(water_sys_viol_contaminants, year, contaminant_types)\n",
    "draw_map(source, year)"
   ]
  },
  {
   "cell_type": "code",
   "execution_count": null,
   "metadata": {},
   "outputs": [],
   "source": [
    "year = '2018'\n",
    "contaminant_types = ['Organic Chemicals']\n",
    "source = get_source_data_frame(water_sys_viol_contaminants, year, contaminant_types)\n",
    "draw_map(source, year)"
   ]
  }
 ],
 "metadata": {
  "kernelspec": {
   "display_name": "Python 3",
   "language": "python",
   "name": "python3"
  },
  "language_info": {
   "codemirror_mode": {
    "name": "ipython",
    "version": 3
   },
   "file_extension": ".py",
   "mimetype": "text/x-python",
   "name": "python",
   "nbconvert_exporter": "python",
   "pygments_lexer": "ipython3",
   "version": "3.7.1"
  }
 },
 "nbformat": 4,
 "nbformat_minor": 2
}
