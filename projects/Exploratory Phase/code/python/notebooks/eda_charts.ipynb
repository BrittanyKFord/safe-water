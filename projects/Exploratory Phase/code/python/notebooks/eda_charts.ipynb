{
 "cells": [
  {
   "cell_type": "markdown",
   "metadata": {},
   "source": [
    "# Bar charts of violations by state, year, contaminant code(s)"
   ]
  },
  {
   "cell_type": "code",
   "execution_count": 1,
   "metadata": {},
   "outputs": [],
   "source": [
    "import os\n",
    "import numpy as np\n",
    "import pandas as pd\n",
    "import MySQLdb\n",
    "\n",
    "%matplotlib inline\n",
    "\n",
    "data_dir = '../../../data'"
   ]
  },
  {
   "cell_type": "markdown",
   "metadata": {},
   "source": [
    "## Connect to MySQL cloud db\n",
    "1. slack @fpaupier for db_user and password\n",
    "2.1  Download Google SDK: \n",
    "        Linux: https://cloud.google.com/sdk/docs/quickstart-linux\n",
    "        Windows: https://cloud.google.com/sdk/docs/quickstart-windows\n",
    "        macOS: https://cloud.google.com/sdk/docs/quickstart-macos\n",
    "2.2 from command line `gcloud auth login`\n",
    "2.3 from command line `gcloud init`\n",
    "3.1 install https://cloud.google.com/sql/docs/mysql/quickstart-proxy-test#install-proxy\n",
    "3.2 run sql cloud proxy ./cloud_sql_proxy -instances=safe-water-235819:us-east1:safe-water-db=tcp:3306\n",
    "4. pip install MySQLdb"
   ]
  },
  {
   "cell_type": "code",
   "execution_count": 2,
   "metadata": {},
   "outputs": [],
   "source": [
    "# Read un and pwd from local file that is not deployed!\n",
    "# first line un, second line pwd\n",
    "# Alternatively just enter un, pwd in cell below but don't check it in!\n",
    "my_settings = []\n",
    "with open(os.path.join(data_dir, 'my_settings.txt')) as f:\n",
    "    for line in f:\n",
    "        my_settings.append(line)\n",
    "un = my_settings[0].rstrip('\\n')\n",
    "pwd = my_settings[1].rstrip('\\n')"
   ]
  },
  {
   "cell_type": "code",
   "execution_count": 3,
   "metadata": {},
   "outputs": [],
   "source": [
    "db_user= un\n",
    "password= pwd\n",
    "db = MySQLdb.connect(host=\"127.0.0.1\",    # your host, usually localhost\n",
    "                     user=db_user,         # your username\n",
    "                     passwd=password,  # your password\n",
    "                     port=3306,\n",
    "                     db = 'safe_water')        # name of the data base"
   ]
  },
  {
   "cell_type": "markdown",
   "metadata": {},
   "source": [
    "## Fetch data into DataFrames"
   ]
  },
  {
   "cell_type": "code",
   "execution_count": 4,
   "metadata": {},
   "outputs": [
    {
     "data": {
      "text/html": [
       "<div>\n",
       "<style scoped>\n",
       "    .dataframe tbody tr th:only-of-type {\n",
       "        vertical-align: middle;\n",
       "    }\n",
       "\n",
       "    .dataframe tbody tr th {\n",
       "        vertical-align: top;\n",
       "    }\n",
       "\n",
       "    .dataframe thead th {\n",
       "        text-align: right;\n",
       "    }\n",
       "</style>\n",
       "<table border=\"1\" class=\"dataframe\">\n",
       "  <thead>\n",
       "    <tr style=\"text-align: right;\">\n",
       "      <th></th>\n",
       "      <th>PWSID</th>\n",
       "      <th>PWS_TYPE_CODE</th>\n",
       "      <th>STATE_CODE</th>\n",
       "    </tr>\n",
       "  </thead>\n",
       "  <tbody>\n",
       "    <tr>\n",
       "      <th>0</th>\n",
       "      <td>010106001</td>\n",
       "      <td>CWS</td>\n",
       "      <td>CT</td>\n",
       "    </tr>\n",
       "    <tr>\n",
       "      <th>1</th>\n",
       "      <td>010109001</td>\n",
       "      <td>NTNCWS</td>\n",
       "      <td>None</td>\n",
       "    </tr>\n",
       "    <tr>\n",
       "      <th>2</th>\n",
       "      <td>010109005</td>\n",
       "      <td>CWS</td>\n",
       "      <td>CT</td>\n",
       "    </tr>\n",
       "    <tr>\n",
       "      <th>3</th>\n",
       "      <td>010307001</td>\n",
       "      <td>CWS</td>\n",
       "      <td>MA</td>\n",
       "    </tr>\n",
       "    <tr>\n",
       "      <th>4</th>\n",
       "      <td>010502001</td>\n",
       "      <td>TNCWS</td>\n",
       "      <td>RI</td>\n",
       "    </tr>\n",
       "  </tbody>\n",
       "</table>\n",
       "</div>"
      ],
      "text/plain": [
       "       PWSID PWS_TYPE_CODE STATE_CODE\n",
       "0  010106001           CWS         CT\n",
       "1  010109001        NTNCWS       None\n",
       "2  010109005           CWS         CT\n",
       "3  010307001           CWS         MA\n",
       "4  010502001         TNCWS         RI"
      ]
     },
     "execution_count": 4,
     "metadata": {},
     "output_type": "execute_result"
    }
   ],
   "source": [
    "cmd = \"select PWSID, PWS_TYPE_CODE, STATE_CODE from WATER_SYSTEM\"\n",
    "water_sys = pd.read_sql(cmd, db)\n",
    "water_sys.head()"
   ]
  },
  {
   "cell_type": "code",
   "execution_count": 5,
   "metadata": {},
   "outputs": [],
   "source": [
    "# get a zero padded string for contaminant code\n",
    "# e.g. 400 to '0400'\n",
    "def convert_code_to_string(row):\n",
    "    return str(row['CONTAMINANT_CODE']).zfill(4)"
   ]
  },
  {
   "cell_type": "code",
   "execution_count": 6,
   "metadata": {},
   "outputs": [
    {
     "data": {
      "text/html": [
       "<div>\n",
       "<style scoped>\n",
       "    .dataframe tbody tr th:only-of-type {\n",
       "        vertical-align: middle;\n",
       "    }\n",
       "\n",
       "    .dataframe tbody tr th {\n",
       "        vertical-align: top;\n",
       "    }\n",
       "\n",
       "    .dataframe thead th {\n",
       "        text-align: right;\n",
       "    }\n",
       "</style>\n",
       "<table border=\"1\" class=\"dataframe\">\n",
       "  <thead>\n",
       "    <tr style=\"text-align: right;\">\n",
       "      <th></th>\n",
       "      <th>PWSID</th>\n",
       "      <th>CONTAMINANT_CODE</th>\n",
       "      <th>COMPL_PER_BEGIN_DATE</th>\n",
       "      <th>CONTAMINANT_CODE_STR</th>\n",
       "    </tr>\n",
       "  </thead>\n",
       "  <tbody>\n",
       "    <tr>\n",
       "      <th>0</th>\n",
       "      <td>MS0730004</td>\n",
       "      <td>4006</td>\n",
       "      <td>2010-07-01</td>\n",
       "      <td>4006</td>\n",
       "    </tr>\n",
       "    <tr>\n",
       "      <th>1</th>\n",
       "      <td>NC0319125</td>\n",
       "      <td>2043</td>\n",
       "      <td>2002-01-01</td>\n",
       "      <td>2043</td>\n",
       "    </tr>\n",
       "    <tr>\n",
       "      <th>2</th>\n",
       "      <td>NY1316696</td>\n",
       "      <td>2982</td>\n",
       "      <td>2016-01-01</td>\n",
       "      <td>2982</td>\n",
       "    </tr>\n",
       "    <tr>\n",
       "      <th>3</th>\n",
       "      <td>WV3305539</td>\n",
       "      <td>2456</td>\n",
       "      <td>2012-01-01</td>\n",
       "      <td>2456</td>\n",
       "    </tr>\n",
       "    <tr>\n",
       "      <th>4</th>\n",
       "      <td>FL3590699</td>\n",
       "      <td>3000</td>\n",
       "      <td>1984-10-01</td>\n",
       "      <td>3000</td>\n",
       "    </tr>\n",
       "  </tbody>\n",
       "</table>\n",
       "</div>"
      ],
      "text/plain": [
       "       PWSID  CONTAMINANT_CODE COMPL_PER_BEGIN_DATE CONTAMINANT_CODE_STR\n",
       "0  MS0730004              4006           2010-07-01                 4006\n",
       "1  NC0319125              2043           2002-01-01                 2043\n",
       "2  NY1316696              2982           2016-01-01                 2982\n",
       "3  WV3305539              2456           2012-01-01                 2456\n",
       "4  FL3590699              3000           1984-10-01                 3000"
      ]
     },
     "execution_count": 6,
     "metadata": {},
     "output_type": "execute_result"
    }
   ],
   "source": [
    "# uncomment 2nd line if you want only health based violations\n",
    "cmd = \"select distinct PWSID, CONTAMINANT_CODE, COMPL_PER_BEGIN_DATE from VIOLATION \" #\\\n",
    "#    + \"where IS_HEALTH_BASED_IND = 'Y'\"\n",
    "\n",
    "viol = pd.read_sql(cmd, db)\n",
    "\n",
    "# this is a workaround, ideally CONTAMINANT_CODE should be a string\n",
    "viol.loc[:, 'CONTAMINANT_CODE_STR'] = viol.apply(convert_code_to_string, axis=1)\n",
    "viol.head()"
   ]
  },
  {
   "cell_type": "markdown",
   "metadata": {},
   "source": [
    "## Join violations to dictionary of contaminants, to get names"
   ]
  },
  {
   "cell_type": "code",
   "execution_count": 13,
   "metadata": {},
   "outputs": [
    {
     "data": {
      "text/html": [
       "<div>\n",
       "<style scoped>\n",
       "    .dataframe tbody tr th:only-of-type {\n",
       "        vertical-align: middle;\n",
       "    }\n",
       "\n",
       "    .dataframe tbody tr th {\n",
       "        vertical-align: top;\n",
       "    }\n",
       "\n",
       "    .dataframe thead th {\n",
       "        text-align: right;\n",
       "    }\n",
       "</style>\n",
       "<table border=\"1\" class=\"dataframe\">\n",
       "  <thead>\n",
       "    <tr style=\"text-align: right;\">\n",
       "      <th></th>\n",
       "      <th>CODE</th>\n",
       "      <th>CONTAMINANT</th>\n",
       "      <th>SCIENTIFIC_NAME</th>\n",
       "      <th>TYPE_CODE</th>\n",
       "    </tr>\n",
       "  </thead>\n",
       "  <tbody>\n",
       "    <tr>\n",
       "      <th>39</th>\n",
       "      <td>1030</td>\n",
       "      <td>LEAD</td>\n",
       "      <td>NaN</td>\n",
       "      <td>IOC</td>\n",
       "    </tr>\n",
       "  </tbody>\n",
       "</table>\n",
       "</div>"
      ],
      "text/plain": [
       "    CODE CONTAMINANT SCIENTIFIC_NAME TYPE_CODE\n",
       "39  1030        LEAD             NaN       IOC"
      ]
     },
     "execution_count": 13,
     "metadata": {},
     "output_type": "execute_result"
    }
   ],
   "source": [
    "contaminant_codes = pd.read_csv(os.path.join(data_dir, 'sdwis/contaminant-codes.csv'), sep=',', \\\n",
    "                               dtype={'CODE': np.str})\n",
    "contaminant_codes = contaminant_codes.rename(index=str, columns={\"NAME\": \"CONTAMINANT\"})\n",
    "contaminant_codes[contaminant_codes['CONTAMINANT'] == \"LEAD\"]\n"
   ]
  },
  {
   "cell_type": "code",
   "execution_count": 14,
   "metadata": {},
   "outputs": [
    {
     "data": {
      "text/html": [
       "<div>\n",
       "<style scoped>\n",
       "    .dataframe tbody tr th:only-of-type {\n",
       "        vertical-align: middle;\n",
       "    }\n",
       "\n",
       "    .dataframe tbody tr th {\n",
       "        vertical-align: top;\n",
       "    }\n",
       "\n",
       "    .dataframe thead th {\n",
       "        text-align: right;\n",
       "    }\n",
       "</style>\n",
       "<table border=\"1\" class=\"dataframe\">\n",
       "  <thead>\n",
       "    <tr style=\"text-align: right;\">\n",
       "      <th></th>\n",
       "      <th>PWSID</th>\n",
       "      <th>CONTAMINANT_CODE</th>\n",
       "      <th>CONTAMINANT</th>\n",
       "      <th>COMPL_PER_BEGIN_DATE</th>\n",
       "    </tr>\n",
       "  </thead>\n",
       "  <tbody>\n",
       "    <tr>\n",
       "      <th>0</th>\n",
       "      <td>MS0730004</td>\n",
       "      <td>4006</td>\n",
       "      <td>COMBINED URANIUM</td>\n",
       "      <td>2010-07-01</td>\n",
       "    </tr>\n",
       "    <tr>\n",
       "      <th>1</th>\n",
       "      <td>NC0319125</td>\n",
       "      <td>2043</td>\n",
       "      <td>ALDICARB SULFOXIDE</td>\n",
       "      <td>2002-01-01</td>\n",
       "    </tr>\n",
       "    <tr>\n",
       "      <th>2</th>\n",
       "      <td>NY1316696</td>\n",
       "      <td>2982</td>\n",
       "      <td>CARBON TETRACHLORIDE</td>\n",
       "      <td>2016-01-01</td>\n",
       "    </tr>\n",
       "    <tr>\n",
       "      <th>3</th>\n",
       "      <td>WV3305539</td>\n",
       "      <td>2456</td>\n",
       "      <td>TOTAL HALOACETIC ACIDS (HAA5)</td>\n",
       "      <td>2012-01-01</td>\n",
       "    </tr>\n",
       "    <tr>\n",
       "      <th>4</th>\n",
       "      <td>FL3590699</td>\n",
       "      <td>3000</td>\n",
       "      <td>COLIFORM (PRE-TCR)</td>\n",
       "      <td>1984-10-01</td>\n",
       "    </tr>\n",
       "  </tbody>\n",
       "</table>\n",
       "</div>"
      ],
      "text/plain": [
       "       PWSID  CONTAMINANT_CODE                    CONTAMINANT  \\\n",
       "0  MS0730004              4006               COMBINED URANIUM   \n",
       "1  NC0319125              2043             ALDICARB SULFOXIDE   \n",
       "2  NY1316696              2982           CARBON TETRACHLORIDE   \n",
       "3  WV3305539              2456  TOTAL HALOACETIC ACIDS (HAA5)   \n",
       "4  FL3590699              3000             COLIFORM (PRE-TCR)   \n",
       "\n",
       "  COMPL_PER_BEGIN_DATE  \n",
       "0           2010-07-01  \n",
       "1           2002-01-01  \n",
       "2           2016-01-01  \n",
       "3           2012-01-01  \n",
       "4           1984-10-01  "
      ]
     },
     "execution_count": 14,
     "metadata": {},
     "output_type": "execute_result"
    }
   ],
   "source": [
    "viol = pd.merge(viol, contaminant_codes, left_on='CONTAMINANT_CODE_STR', right_on='CODE', how='left')\n",
    "viol = viol[['PWSID', 'CONTAMINANT_CODE', 'CONTAMINANT', 'COMPL_PER_BEGIN_DATE']].drop_duplicates()\n",
    "viol.head()"
   ]
  },
  {
   "cell_type": "code",
   "execution_count": 15,
   "metadata": {},
   "outputs": [],
   "source": [
    "def get_year_for_violation(row):\n",
    "    if row['COMPL_PER_BEGIN_DATE'] is not None:\n",
    "        return row['COMPL_PER_BEGIN_DATE'].year\n",
    "    else:\n",
    "        return 0"
   ]
  },
  {
   "cell_type": "code",
   "execution_count": 16,
   "metadata": {},
   "outputs": [],
   "source": [
    "viol.loc[:, 'VIOLATION_YEAR'] = viol.apply(get_year_for_violation, axis=1)"
   ]
  },
  {
   "cell_type": "code",
   "execution_count": 17,
   "metadata": {},
   "outputs": [
    {
     "data": {
      "text/html": [
       "<div>\n",
       "<style scoped>\n",
       "    .dataframe tbody tr th:only-of-type {\n",
       "        vertical-align: middle;\n",
       "    }\n",
       "\n",
       "    .dataframe tbody tr th {\n",
       "        vertical-align: top;\n",
       "    }\n",
       "\n",
       "    .dataframe thead th {\n",
       "        text-align: right;\n",
       "    }\n",
       "</style>\n",
       "<table border=\"1\" class=\"dataframe\">\n",
       "  <thead>\n",
       "    <tr style=\"text-align: right;\">\n",
       "      <th></th>\n",
       "      <th>PWSID</th>\n",
       "      <th>PWS_TYPE_CODE</th>\n",
       "      <th>STATE_CODE</th>\n",
       "      <th>CONTAMINANT_CODE</th>\n",
       "      <th>CONTAMINANT</th>\n",
       "      <th>COMPL_PER_BEGIN_DATE</th>\n",
       "      <th>VIOLATION_YEAR</th>\n",
       "    </tr>\n",
       "  </thead>\n",
       "  <tbody>\n",
       "    <tr>\n",
       "      <th>0</th>\n",
       "      <td>010106001</td>\n",
       "      <td>CWS</td>\n",
       "      <td>CT</td>\n",
       "      <td>2050</td>\n",
       "      <td>ATRAZINE</td>\n",
       "      <td>2016-01-01</td>\n",
       "      <td>2016</td>\n",
       "    </tr>\n",
       "    <tr>\n",
       "      <th>1</th>\n",
       "      <td>010106001</td>\n",
       "      <td>CWS</td>\n",
       "      <td>CT</td>\n",
       "      <td>2010</td>\n",
       "      <td>BHC-GAMMA</td>\n",
       "      <td>2016-01-01</td>\n",
       "      <td>2016</td>\n",
       "    </tr>\n",
       "    <tr>\n",
       "      <th>2</th>\n",
       "      <td>010106001</td>\n",
       "      <td>CWS</td>\n",
       "      <td>CT</td>\n",
       "      <td>2036</td>\n",
       "      <td>OXAMYL</td>\n",
       "      <td>2016-01-01</td>\n",
       "      <td>2016</td>\n",
       "    </tr>\n",
       "    <tr>\n",
       "      <th>3</th>\n",
       "      <td>010106001</td>\n",
       "      <td>CWS</td>\n",
       "      <td>CT</td>\n",
       "      <td>2035</td>\n",
       "      <td>DI(2-ETHYLHEXYL) ADIPATE</td>\n",
       "      <td>2016-01-01</td>\n",
       "      <td>2016</td>\n",
       "    </tr>\n",
       "    <tr>\n",
       "      <th>4</th>\n",
       "      <td>010106001</td>\n",
       "      <td>CWS</td>\n",
       "      <td>CT</td>\n",
       "      <td>2959</td>\n",
       "      <td>CHLORDANE</td>\n",
       "      <td>2016-01-01</td>\n",
       "      <td>2016</td>\n",
       "    </tr>\n",
       "  </tbody>\n",
       "</table>\n",
       "</div>"
      ],
      "text/plain": [
       "       PWSID PWS_TYPE_CODE STATE_CODE  CONTAMINANT_CODE  \\\n",
       "0  010106001           CWS         CT              2050   \n",
       "1  010106001           CWS         CT              2010   \n",
       "2  010106001           CWS         CT              2036   \n",
       "3  010106001           CWS         CT              2035   \n",
       "4  010106001           CWS         CT              2959   \n",
       "\n",
       "                CONTAMINANT COMPL_PER_BEGIN_DATE  VIOLATION_YEAR  \n",
       "0                  ATRAZINE           2016-01-01            2016  \n",
       "1                 BHC-GAMMA           2016-01-01            2016  \n",
       "2                    OXAMYL           2016-01-01            2016  \n",
       "3  DI(2-ETHYLHEXYL) ADIPATE           2016-01-01            2016  \n",
       "4                 CHLORDANE           2016-01-01            2016  "
      ]
     },
     "execution_count": 17,
     "metadata": {},
     "output_type": "execute_result"
    }
   ],
   "source": [
    "water_sys_viol = pd.merge(water_sys, viol, on='PWSID')\n",
    "water_sys_viol.head()"
   ]
  },
  {
   "cell_type": "code",
   "execution_count": 18,
   "metadata": {},
   "outputs": [],
   "source": [
    "# df: water system violation dataframe\n",
    "# state: two letter code\n",
    "# contaminant_codes: enter empty array for all\n",
    "def get_num_violations(df, state, min_year, max_year, contaminant_codes=[]):\n",
    "    if len(contaminant_codes) > 0:\n",
    "        return df[(df['STATE_CODE']==state) & \\\n",
    "                  (df['VIOLATION_YEAR'] >= min_year) & \\\n",
    "                  (df['VIOLATION_YEAR'] <= max_year) & \\\n",
    "                  (df['CONTAMINANT_CODE'].isin(contaminant_codes))\n",
    "                 ].groupby(['CONTAMINANT', 'VIOLATION_YEAR'])\n",
    "    else:\n",
    "        return df[(df['STATE_CODE']==state) & \\\n",
    "                  (df['VIOLATION_YEAR'] >= min_year) & \\\n",
    "                  (df['VIOLATION_YEAR'] <= max_year)\n",
    "                 ].groupby(['CONTAMINANT', 'VIOLATION_YEAR'])"
   ]
  },
  {
   "cell_type": "markdown",
   "metadata": {},
   "source": [
    "\n",
    "## Plot number of violations on a bar chart"
   ]
  },
  {
   "cell_type": "code",
   "execution_count": 24,
   "metadata": {},
   "outputs": [
    {
     "data": {
      "image/png": "[encoded data removed]",
      "text/plain": [
       "<Figure size 1800x1080 with 1 Axes>"
      ]
     },
     "metadata": {
      "needs_background": "light"
     },
     "output_type": "display_data"
    }
   ],
   "source": [
    "# Violations in the state between 2008 and 2018\n",
    "contaminant_codes = [999, 1030, 2050, 2950, 2981, 3014, 3100, 5000] # pass this optionally to filter by contaminant\n",
    "\n",
    "# \n",
    "'''\n",
    "lead 1030\n",
    "coliform 3000\n",
    "fecal coliform 3030\n",
    "ecoli 3014\n",
    "coliform(tcr) 3100\n",
    "chlorine 999\n",
    "tthm 2950\n",
    "atrazine 2050\n",
    "1,1,1-trichloroethane 2981\n",
    "'''\n",
    "\n",
    "df = get_num_violations(water_sys_viol, 'VT', 2014, 2017, contaminant_codes)\n",
    "s1 = df.size()\n",
    "\n",
    "if len(s1.index) > 0:\n",
    "    df3 = s1.unstack()\n",
    "    df3.T.plot.bar(stacked=True, figsize = (25,15), title='Number of violations', fontsize=14)\n",
    "else:\n",
    "    print ('No data to chart')"
   ]
  },
  {
   "cell_type": "code",
   "execution_count": null,
   "metadata": {},
   "outputs": [],
   "source": []
  }
 ],
 "metadata": {
  "kernelspec": {
   "display_name": "Python 3",
   "language": "python",
   "name": "python3"
  },
  "language_info": {
   "codemirror_mode": {
    "name": "ipython",
    "version": 3
   },
   "file_extension": ".py",
   "mimetype": "text/x-python",
   "name": "python",
   "nbconvert_exporter": "python",
   "pygments_lexer": "ipython3",
   "version": "3.7.1"
  }
 },
 "nbformat": 4,
 "nbformat_minor": 2
}
